{
 "cells": [
  {
   "cell_type": "markdown",
   "metadata": {},
   "source": [
    "# **Statistical Analysis and Comparison of Winning Nations in Football Matches Around the World**"
   ]
  },
  {
   "cell_type": "markdown",
   "metadata": {},
   "source": [
    "### **Abstract**"
   ]
  },
  {
   "cell_type": "markdown",
   "metadata": {},
   "source": [
    "In this part I will tackle and analyze the following points along with the interpretation behind them: The probability of winning, losing, and drawing along with their confidence intervals of all matches in the dataset; probability of winning, losing, and drawing in a neutral venue of all matches in the dataset; probability of winning, losing, and drawing in a non-neutral venue of all matches in the dataset; the probability of Egypt winning in all tournaments under all conditions; the probability of Egypt winning, Losing, and having a draw in The FIFA World cup qualifications; the probability of Egypt winning a match in The FIFA World cup qualifications; the probability of Egypt Losing a match in The FIFA World cup qualifications; the probability of Egypt drawing a match in The FIFA World cup qualifications; the probability of Egypt winning in all tournaments vs. in World Cup Qualifications; the probability of Egypt Winning, Losing, having a draw in a Friendly match vs. an Offical match; the confidence Interval of Probability of Egypt Winning a Friendly Match; the Confidence Interval of Probability of Egypt Winning an Official Match; the Confidence Interval of Probability of Egypt Winning a Friendly Match vs an Official Match; the Probability of Egypt Winning at Home vs Winning Away; the Probability of Egypt Winning at Home; the Probability of Egypt Winning Away; the Confidence Interval of Probability of Egypt Winning at home vs away; and the probability of Egypt Winning, Losing, and Drawing a match in Non-Neutral Conditions."
   ]
  },
  {
   "cell_type": "markdown",
   "metadata": {},
   "source": [
    "### **Discussion**"
   ]
  },
  {
   "cell_type": "code",
   "execution_count": 2250,
   "metadata": {},
   "outputs": [],
   "source": [
    "import pandas as pd"
   ]
  },
  {
   "cell_type": "code",
   "execution_count": 2251,
   "metadata": {},
   "outputs": [],
   "source": [
    "import numpy as np"
   ]
  },
  {
   "cell_type": "code",
   "execution_count": 2252,
   "metadata": {},
   "outputs": [],
   "source": [
    "import statsmodels.api as sm\n",
    "from statsmodels.stats.proportion import proportion_confint"
   ]
  },
  {
   "cell_type": "code",
   "execution_count": 2253,
   "metadata": {},
   "outputs": [],
   "source": [
    "df=pd.read_csv('results.csv')"
   ]
  },
  {
   "cell_type": "markdown",
   "metadata": {},
   "source": [
    "#### Imports the data set into the workspace"
   ]
  },
  {
   "cell_type": "code",
   "execution_count": 2254,
   "metadata": {},
   "outputs": [
    {
     "data": {
      "text/html": [
       "<div>\n",
       "<style scoped>\n",
       "    .dataframe tbody tr th:only-of-type {\n",
       "        vertical-align: middle;\n",
       "    }\n",
       "\n",
       "    .dataframe tbody tr th {\n",
       "        vertical-align: top;\n",
       "    }\n",
       "\n",
       "    .dataframe thead th {\n",
       "        text-align: right;\n",
       "    }\n",
       "</style>\n",
       "<table border=\"1\" class=\"dataframe\">\n",
       "  <thead>\n",
       "    <tr style=\"text-align: right;\">\n",
       "      <th></th>\n",
       "      <th>date</th>\n",
       "      <th>home_team</th>\n",
       "      <th>away_team</th>\n",
       "      <th>home_score</th>\n",
       "      <th>away_score</th>\n",
       "      <th>tournament</th>\n",
       "      <th>city</th>\n",
       "      <th>country</th>\n",
       "      <th>neutral</th>\n",
       "    </tr>\n",
       "  </thead>\n",
       "  <tbody>\n",
       "    <tr>\n",
       "      <th>0</th>\n",
       "      <td>1872-11-30</td>\n",
       "      <td>Scotland</td>\n",
       "      <td>England</td>\n",
       "      <td>0</td>\n",
       "      <td>0</td>\n",
       "      <td>Friendly</td>\n",
       "      <td>Glasgow</td>\n",
       "      <td>Scotland</td>\n",
       "      <td>False</td>\n",
       "    </tr>\n",
       "    <tr>\n",
       "      <th>1</th>\n",
       "      <td>1873-03-08</td>\n",
       "      <td>England</td>\n",
       "      <td>Scotland</td>\n",
       "      <td>4</td>\n",
       "      <td>2</td>\n",
       "      <td>Friendly</td>\n",
       "      <td>London</td>\n",
       "      <td>England</td>\n",
       "      <td>False</td>\n",
       "    </tr>\n",
       "    <tr>\n",
       "      <th>2</th>\n",
       "      <td>1874-03-07</td>\n",
       "      <td>Scotland</td>\n",
       "      <td>England</td>\n",
       "      <td>2</td>\n",
       "      <td>1</td>\n",
       "      <td>Friendly</td>\n",
       "      <td>Glasgow</td>\n",
       "      <td>Scotland</td>\n",
       "      <td>False</td>\n",
       "    </tr>\n",
       "    <tr>\n",
       "      <th>3</th>\n",
       "      <td>1875-03-06</td>\n",
       "      <td>England</td>\n",
       "      <td>Scotland</td>\n",
       "      <td>2</td>\n",
       "      <td>2</td>\n",
       "      <td>Friendly</td>\n",
       "      <td>London</td>\n",
       "      <td>England</td>\n",
       "      <td>False</td>\n",
       "    </tr>\n",
       "    <tr>\n",
       "      <th>4</th>\n",
       "      <td>1876-03-04</td>\n",
       "      <td>Scotland</td>\n",
       "      <td>England</td>\n",
       "      <td>3</td>\n",
       "      <td>0</td>\n",
       "      <td>Friendly</td>\n",
       "      <td>Glasgow</td>\n",
       "      <td>Scotland</td>\n",
       "      <td>False</td>\n",
       "    </tr>\n",
       "    <tr>\n",
       "      <th>...</th>\n",
       "      <td>...</td>\n",
       "      <td>...</td>\n",
       "      <td>...</td>\n",
       "      <td>...</td>\n",
       "      <td>...</td>\n",
       "      <td>...</td>\n",
       "      <td>...</td>\n",
       "      <td>...</td>\n",
       "      <td>...</td>\n",
       "    </tr>\n",
       "    <tr>\n",
       "      <th>43183</th>\n",
       "      <td>2/1/2022</td>\n",
       "      <td>Suriname</td>\n",
       "      <td>Guyana</td>\n",
       "      <td>2</td>\n",
       "      <td>1</td>\n",
       "      <td>Friendly</td>\n",
       "      <td>Paramaribo</td>\n",
       "      <td>Suriname</td>\n",
       "      <td>False</td>\n",
       "    </tr>\n",
       "    <tr>\n",
       "      <th>43184</th>\n",
       "      <td>2/2/2022</td>\n",
       "      <td>Burkina Faso</td>\n",
       "      <td>Senegal</td>\n",
       "      <td>1</td>\n",
       "      <td>3</td>\n",
       "      <td>African Cup of Nations</td>\n",
       "      <td>Yaoundé</td>\n",
       "      <td>Cameroon</td>\n",
       "      <td>True</td>\n",
       "    </tr>\n",
       "    <tr>\n",
       "      <th>43185</th>\n",
       "      <td>2/3/2022</td>\n",
       "      <td>Cameroon</td>\n",
       "      <td>Egypt</td>\n",
       "      <td>0</td>\n",
       "      <td>0</td>\n",
       "      <td>African Cup of Nations</td>\n",
       "      <td>Yaoundé</td>\n",
       "      <td>Cameroon</td>\n",
       "      <td>False</td>\n",
       "    </tr>\n",
       "    <tr>\n",
       "      <th>43186</th>\n",
       "      <td>2/5/2022</td>\n",
       "      <td>Cameroon</td>\n",
       "      <td>Burkina Faso</td>\n",
       "      <td>3</td>\n",
       "      <td>3</td>\n",
       "      <td>African Cup of Nations</td>\n",
       "      <td>Yaoundé</td>\n",
       "      <td>Cameroon</td>\n",
       "      <td>False</td>\n",
       "    </tr>\n",
       "    <tr>\n",
       "      <th>43187</th>\n",
       "      <td>2/6/2022</td>\n",
       "      <td>Senegal</td>\n",
       "      <td>Egypt</td>\n",
       "      <td>0</td>\n",
       "      <td>0</td>\n",
       "      <td>African Cup of Nations</td>\n",
       "      <td>Yaoundé</td>\n",
       "      <td>Cameroon</td>\n",
       "      <td>True</td>\n",
       "    </tr>\n",
       "  </tbody>\n",
       "</table>\n",
       "<p>43188 rows × 9 columns</p>\n",
       "</div>"
      ],
      "text/plain": [
       "             date     home_team     away_team  home_score  away_score  \\\n",
       "0      1872-11-30      Scotland       England           0           0   \n",
       "1      1873-03-08       England      Scotland           4           2   \n",
       "2      1874-03-07      Scotland       England           2           1   \n",
       "3      1875-03-06       England      Scotland           2           2   \n",
       "4      1876-03-04      Scotland       England           3           0   \n",
       "...           ...           ...           ...         ...         ...   \n",
       "43183    2/1/2022      Suriname        Guyana           2           1   \n",
       "43184    2/2/2022  Burkina Faso       Senegal           1           3   \n",
       "43185    2/3/2022      Cameroon         Egypt           0           0   \n",
       "43186    2/5/2022      Cameroon  Burkina Faso           3           3   \n",
       "43187    2/6/2022       Senegal         Egypt           0           0   \n",
       "\n",
       "                   tournament        city   country  neutral  \n",
       "0                    Friendly     Glasgow  Scotland    False  \n",
       "1                    Friendly      London   England    False  \n",
       "2                    Friendly     Glasgow  Scotland    False  \n",
       "3                    Friendly      London   England    False  \n",
       "4                    Friendly     Glasgow  Scotland    False  \n",
       "...                       ...         ...       ...      ...  \n",
       "43183                Friendly  Paramaribo  Suriname    False  \n",
       "43184  African Cup of Nations     Yaoundé  Cameroon     True  \n",
       "43185  African Cup of Nations     Yaoundé  Cameroon    False  \n",
       "43186  African Cup of Nations     Yaoundé  Cameroon    False  \n",
       "43187  African Cup of Nations     Yaoundé  Cameroon     True  \n",
       "\n",
       "[43188 rows x 9 columns]"
      ]
     },
     "execution_count": 2254,
     "metadata": {},
     "output_type": "execute_result"
    }
   ],
   "source": [
    "df"
   ]
  },
  {
   "cell_type": "code",
   "execution_count": 2255,
   "id": "c49110a0",
   "metadata": {},
   "outputs": [],
   "source": [
    "x=df['home_score']-df['away_score']"
   ]
  },
  {
   "cell_type": "code",
   "execution_count": 2256,
   "id": "dd5a930b",
   "metadata": {},
   "outputs": [
    {
     "data": {
      "text/plain": [
       "0    0\n",
       "1    2\n",
       "2    1\n",
       "dtype: int64"
      ]
     },
     "execution_count": 2256,
     "metadata": {},
     "output_type": "execute_result"
    }
   ],
   "source": [
    "x[0:3]"
   ]
  },
  {
   "cell_type": "code",
   "execution_count": 2257,
   "id": "8607160a",
   "metadata": {},
   "outputs": [],
   "source": [
    "conditions=[(x<0),(x>0),(x==0)]"
   ]
  },
  {
   "cell_type": "code",
   "execution_count": 2258,
   "id": "fc151406",
   "metadata": {},
   "outputs": [],
   "source": [
    "values=['lose','win','draw']"
   ]
  },
  {
   "cell_type": "markdown",
   "metadata": {},
   "source": [
    "#### This code subtracts the away score from the home score and assigns the result to the variable x. Next, it assigns 3 conditions to 3 statuses. This means that when the difference between the home score and the away score is below zero then the team lost; when the difference between the home score and the away score is more than zero then the team won, and when the difference is zero the this means that there was a draw."
   ]
  },
  {
   "cell_type": "code",
   "execution_count": 2259,
   "id": "743e0547",
   "metadata": {},
   "outputs": [],
   "source": [
    "df['result']=np.select(conditions,values)"
   ]
  },
  {
   "cell_type": "code",
   "execution_count": 2260,
   "id": "5698ad36",
   "metadata": {},
   "outputs": [
    {
     "data": {
      "text/plain": [
       "0    draw\n",
       "1     win\n",
       "2     win\n",
       "3    draw\n",
       "4     win\n",
       "Name: result, dtype: object"
      ]
     },
     "execution_count": 2260,
     "metadata": {},
     "output_type": "execute_result"
    }
   ],
   "source": [
    "df['result'][0:5]"
   ]
  },
  {
   "cell_type": "code",
   "execution_count": 2261,
   "id": "c6cf2bc4",
   "metadata": {},
   "outputs": [
    {
     "data": {
      "text/plain": [
       "win     21009\n",
       "lose    12224\n",
       "draw     9955\n",
       "Name: result, dtype: int64"
      ]
     },
     "execution_count": 2261,
     "metadata": {},
     "output_type": "execute_result"
    }
   ],
   "source": [
    "df['result'].value_counts()"
   ]
  },
  {
   "cell_type": "markdown",
   "metadata": {},
   "source": [
    "### **The probability of winning/losing**"
   ]
  },
  {
   "cell_type": "code",
   "execution_count": 2262,
   "id": "d8ae6fca",
   "metadata": {},
   "outputs": [
    {
     "data": {
      "text/plain": [
       "win     0.486455\n",
       "lose    0.283042\n",
       "draw    0.230504\n",
       "Name: result, dtype: float64"
      ]
     },
     "execution_count": 2262,
     "metadata": {},
     "output_type": "execute_result"
    }
   ],
   "source": [
    "df['result'].value_counts(normalize=True)"
   ]
  },
  {
   "cell_type": "markdown",
   "metadata": {},
   "source": [
    "#### This code calculates the percentage of wins,losses, and draws."
   ]
  },
  {
   "cell_type": "code",
   "execution_count": 2263,
   "id": "cacf9fea",
   "metadata": {},
   "outputs": [
    {
     "data": {
      "text/html": [
       "<div>\n",
       "<style scoped>\n",
       "    .dataframe tbody tr th:only-of-type {\n",
       "        vertical-align: middle;\n",
       "    }\n",
       "\n",
       "    .dataframe tbody tr th {\n",
       "        vertical-align: top;\n",
       "    }\n",
       "\n",
       "    .dataframe thead th {\n",
       "        text-align: right;\n",
       "    }\n",
       "</style>\n",
       "<table border=\"1\" class=\"dataframe\">\n",
       "  <thead>\n",
       "    <tr style=\"text-align: right;\">\n",
       "      <th></th>\n",
       "      <th>date</th>\n",
       "      <th>home_team</th>\n",
       "      <th>away_team</th>\n",
       "      <th>home_score</th>\n",
       "      <th>away_score</th>\n",
       "      <th>tournament</th>\n",
       "      <th>city</th>\n",
       "      <th>country</th>\n",
       "      <th>neutral</th>\n",
       "      <th>result</th>\n",
       "    </tr>\n",
       "  </thead>\n",
       "  <tbody>\n",
       "    <tr>\n",
       "      <th>0</th>\n",
       "      <td>1872-11-30</td>\n",
       "      <td>Scotland</td>\n",
       "      <td>England</td>\n",
       "      <td>0</td>\n",
       "      <td>0</td>\n",
       "      <td>Friendly</td>\n",
       "      <td>Glasgow</td>\n",
       "      <td>Scotland</td>\n",
       "      <td>False</td>\n",
       "      <td>draw</td>\n",
       "    </tr>\n",
       "    <tr>\n",
       "      <th>1</th>\n",
       "      <td>1873-03-08</td>\n",
       "      <td>England</td>\n",
       "      <td>Scotland</td>\n",
       "      <td>4</td>\n",
       "      <td>2</td>\n",
       "      <td>Friendly</td>\n",
       "      <td>London</td>\n",
       "      <td>England</td>\n",
       "      <td>False</td>\n",
       "      <td>win</td>\n",
       "    </tr>\n",
       "    <tr>\n",
       "      <th>2</th>\n",
       "      <td>1874-03-07</td>\n",
       "      <td>Scotland</td>\n",
       "      <td>England</td>\n",
       "      <td>2</td>\n",
       "      <td>1</td>\n",
       "      <td>Friendly</td>\n",
       "      <td>Glasgow</td>\n",
       "      <td>Scotland</td>\n",
       "      <td>False</td>\n",
       "      <td>win</td>\n",
       "    </tr>\n",
       "    <tr>\n",
       "      <th>3</th>\n",
       "      <td>1875-03-06</td>\n",
       "      <td>England</td>\n",
       "      <td>Scotland</td>\n",
       "      <td>2</td>\n",
       "      <td>2</td>\n",
       "      <td>Friendly</td>\n",
       "      <td>London</td>\n",
       "      <td>England</td>\n",
       "      <td>False</td>\n",
       "      <td>draw</td>\n",
       "    </tr>\n",
       "    <tr>\n",
       "      <th>4</th>\n",
       "      <td>1876-03-04</td>\n",
       "      <td>Scotland</td>\n",
       "      <td>England</td>\n",
       "      <td>3</td>\n",
       "      <td>0</td>\n",
       "      <td>Friendly</td>\n",
       "      <td>Glasgow</td>\n",
       "      <td>Scotland</td>\n",
       "      <td>False</td>\n",
       "      <td>win</td>\n",
       "    </tr>\n",
       "    <tr>\n",
       "      <th>...</th>\n",
       "      <td>...</td>\n",
       "      <td>...</td>\n",
       "      <td>...</td>\n",
       "      <td>...</td>\n",
       "      <td>...</td>\n",
       "      <td>...</td>\n",
       "      <td>...</td>\n",
       "      <td>...</td>\n",
       "      <td>...</td>\n",
       "      <td>...</td>\n",
       "    </tr>\n",
       "    <tr>\n",
       "      <th>43183</th>\n",
       "      <td>2/1/2022</td>\n",
       "      <td>Suriname</td>\n",
       "      <td>Guyana</td>\n",
       "      <td>2</td>\n",
       "      <td>1</td>\n",
       "      <td>Friendly</td>\n",
       "      <td>Paramaribo</td>\n",
       "      <td>Suriname</td>\n",
       "      <td>False</td>\n",
       "      <td>win</td>\n",
       "    </tr>\n",
       "    <tr>\n",
       "      <th>43184</th>\n",
       "      <td>2/2/2022</td>\n",
       "      <td>Burkina Faso</td>\n",
       "      <td>Senegal</td>\n",
       "      <td>1</td>\n",
       "      <td>3</td>\n",
       "      <td>African Cup of Nations</td>\n",
       "      <td>Yaoundé</td>\n",
       "      <td>Cameroon</td>\n",
       "      <td>True</td>\n",
       "      <td>lose</td>\n",
       "    </tr>\n",
       "    <tr>\n",
       "      <th>43185</th>\n",
       "      <td>2/3/2022</td>\n",
       "      <td>Cameroon</td>\n",
       "      <td>Egypt</td>\n",
       "      <td>0</td>\n",
       "      <td>0</td>\n",
       "      <td>African Cup of Nations</td>\n",
       "      <td>Yaoundé</td>\n",
       "      <td>Cameroon</td>\n",
       "      <td>False</td>\n",
       "      <td>draw</td>\n",
       "    </tr>\n",
       "    <tr>\n",
       "      <th>43186</th>\n",
       "      <td>2/5/2022</td>\n",
       "      <td>Cameroon</td>\n",
       "      <td>Burkina Faso</td>\n",
       "      <td>3</td>\n",
       "      <td>3</td>\n",
       "      <td>African Cup of Nations</td>\n",
       "      <td>Yaoundé</td>\n",
       "      <td>Cameroon</td>\n",
       "      <td>False</td>\n",
       "      <td>draw</td>\n",
       "    </tr>\n",
       "    <tr>\n",
       "      <th>43187</th>\n",
       "      <td>2/6/2022</td>\n",
       "      <td>Senegal</td>\n",
       "      <td>Egypt</td>\n",
       "      <td>0</td>\n",
       "      <td>0</td>\n",
       "      <td>African Cup of Nations</td>\n",
       "      <td>Yaoundé</td>\n",
       "      <td>Cameroon</td>\n",
       "      <td>True</td>\n",
       "      <td>draw</td>\n",
       "    </tr>\n",
       "  </tbody>\n",
       "</table>\n",
       "<p>43188 rows × 10 columns</p>\n",
       "</div>"
      ],
      "text/plain": [
       "             date     home_team     away_team  home_score  away_score  \\\n",
       "0      1872-11-30      Scotland       England           0           0   \n",
       "1      1873-03-08       England      Scotland           4           2   \n",
       "2      1874-03-07      Scotland       England           2           1   \n",
       "3      1875-03-06       England      Scotland           2           2   \n",
       "4      1876-03-04      Scotland       England           3           0   \n",
       "...           ...           ...           ...         ...         ...   \n",
       "43183    2/1/2022      Suriname        Guyana           2           1   \n",
       "43184    2/2/2022  Burkina Faso       Senegal           1           3   \n",
       "43185    2/3/2022      Cameroon         Egypt           0           0   \n",
       "43186    2/5/2022      Cameroon  Burkina Faso           3           3   \n",
       "43187    2/6/2022       Senegal         Egypt           0           0   \n",
       "\n",
       "                   tournament        city   country  neutral result  \n",
       "0                    Friendly     Glasgow  Scotland    False   draw  \n",
       "1                    Friendly      London   England    False    win  \n",
       "2                    Friendly     Glasgow  Scotland    False    win  \n",
       "3                    Friendly      London   England    False   draw  \n",
       "4                    Friendly     Glasgow  Scotland    False    win  \n",
       "...                       ...         ...       ...      ...    ...  \n",
       "43183                Friendly  Paramaribo  Suriname    False    win  \n",
       "43184  African Cup of Nations     Yaoundé  Cameroon     True   lose  \n",
       "43185  African Cup of Nations     Yaoundé  Cameroon    False   draw  \n",
       "43186  African Cup of Nations     Yaoundé  Cameroon    False   draw  \n",
       "43187  African Cup of Nations     Yaoundé  Cameroon     True   draw  \n",
       "\n",
       "[43188 rows x 10 columns]"
      ]
     },
     "execution_count": 2263,
     "metadata": {},
     "output_type": "execute_result"
    }
   ],
   "source": [
    "df"
   ]
  },
  {
   "cell_type": "code",
   "execution_count": 2264,
   "id": "37a3ac02",
   "metadata": {},
   "outputs": [],
   "source": [
    "x=df['result'].value_counts()"
   ]
  },
  {
   "cell_type": "code",
   "execution_count": 2265,
   "id": "f4b41d49",
   "metadata": {},
   "outputs": [],
   "source": [
    "x=np.array(x)"
   ]
  },
  {
   "cell_type": "code",
   "execution_count": 2266,
   "id": "4bfb4ce0",
   "metadata": {},
   "outputs": [
    {
     "data": {
      "text/plain": [
       "array([21009, 12224,  9955])"
      ]
     },
     "execution_count": 2266,
     "metadata": {},
     "output_type": "execute_result"
    }
   ],
   "source": [
    "x"
   ]
  },
  {
   "cell_type": "code",
   "execution_count": 2267,
   "id": "a35bd73b",
   "metadata": {},
   "outputs": [
    {
     "data": {
      "text/plain": [
       "43188"
      ]
     },
     "execution_count": 2267,
     "metadata": {},
     "output_type": "execute_result"
    }
   ],
   "source": [
    "N=x.sum()\n",
    "N"
   ]
  },
  {
   "cell_type": "code",
   "execution_count": 2268,
   "metadata": {},
   "outputs": [
    {
     "data": {
      "text/plain": [
       "12224"
      ]
     },
     "execution_count": 2268,
     "metadata": {},
     "output_type": "execute_result"
    }
   ],
   "source": [
    "x[1]"
   ]
  },
  {
   "cell_type": "markdown",
   "metadata": {},
   "source": [
    "### **Confidence Intervals of Wins/Losses/Draws**"
   ]
  },
  {
   "cell_type": "markdown",
   "metadata": {},
   "source": [
    "#### We would anticipate the population mean to be found within 95% of the CI if many samples were chosen from the same population and a 95 percent CI calculated for each sample.\n",
    "#### Here this means that the probaility of winning or the mean of the probability of winnning of all matches of all nations in the data lies in between the interval (0.481740705905987, 0.49116843552218753). In fact, if we observe the output of the command **df['result'].value_counts(normalize=True)**, we would see that the mean probability of wins of this sample of data specifically does indeed lie within this confidence interval."
   ]
  },
  {
   "cell_type": "code",
   "execution_count": 2269,
   "metadata": {},
   "outputs": [
    {
     "data": {
      "text/plain": [
       "(0.481740705905987, 0.49116843552218753)"
      ]
     },
     "execution_count": 2269,
     "metadata": {},
     "output_type": "execute_result"
    }
   ],
   "source": [
    "CI_win=proportion_confint(count=x[0],nobs=N,alpha=(1-.95))\n",
    "CI_win"
   ]
  },
  {
   "cell_type": "markdown",
   "metadata": {},
   "source": [
    "#### Here this means that the probaility of losses or the mean of the probability of losses of all matches of all nations in the data lies in between the interval (0.27879305599044235, 0.28729011526083115). In fact, if we observe the output of the command **df['result'].value_counts(normalize=True)**, we would see that the mean probability of losses of this sample of data specifically does indeed lie within this confidence interval."
   ]
  },
  {
   "cell_type": "code",
   "execution_count": 2270,
   "metadata": {},
   "outputs": [
    {
     "data": {
      "text/plain": [
       "(0.27879305599044235, 0.28729011526083115)"
      ]
     },
     "execution_count": 2270,
     "metadata": {},
     "output_type": "execute_result"
    }
   ],
   "source": [
    "CI_lose=proportion_confint(count=x[1],nobs=N,alpha=(1-.95))\n",
    "CI_lose"
   ]
  },
  {
   "cell_type": "markdown",
   "metadata": {},
   "source": [
    "#### Here this means that the probaility of a draw or the mean of the probability of a draw of all matches of all nations in the data lies in between the interval (0.2265318471530234, 0.23447584016752862). In fact, if we observe the output of the command **df['result'].value_counts(normalize=True)**, we would see that the mean probability of draws of this sample of data specifically does indeed lie within this confidence interval."
   ]
  },
  {
   "cell_type": "code",
   "execution_count": 2271,
   "metadata": {},
   "outputs": [
    {
     "data": {
      "text/plain": [
       "(0.2265318471530234, 0.23447584016752862)"
      ]
     },
     "execution_count": 2271,
     "metadata": {},
     "output_type": "execute_result"
    }
   ],
   "source": [
    "CI_draw=proportion_confint(count=x[2],nobs=N,alpha=(1-.95))\n",
    "CI_draw"
   ]
  },
  {
   "cell_type": "code",
   "execution_count": 2272,
   "id": "3804e006",
   "metadata": {},
   "outputs": [
    {
     "data": {
      "text/html": [
       "<div>\n",
       "<style scoped>\n",
       "    .dataframe tbody tr th:only-of-type {\n",
       "        vertical-align: middle;\n",
       "    }\n",
       "\n",
       "    .dataframe tbody tr th {\n",
       "        vertical-align: top;\n",
       "    }\n",
       "\n",
       "    .dataframe thead th {\n",
       "        text-align: right;\n",
       "    }\n",
       "</style>\n",
       "<table border=\"1\" class=\"dataframe\">\n",
       "  <thead>\n",
       "    <tr style=\"text-align: right;\">\n",
       "      <th></th>\n",
       "      <th>date</th>\n",
       "      <th>home_team</th>\n",
       "      <th>away_team</th>\n",
       "      <th>home_score</th>\n",
       "      <th>away_score</th>\n",
       "      <th>tournament</th>\n",
       "      <th>city</th>\n",
       "      <th>country</th>\n",
       "      <th>neutral</th>\n",
       "      <th>result</th>\n",
       "    </tr>\n",
       "  </thead>\n",
       "  <tbody>\n",
       "    <tr>\n",
       "      <th>0</th>\n",
       "      <td>1872-11-30</td>\n",
       "      <td>Scotland</td>\n",
       "      <td>England</td>\n",
       "      <td>0</td>\n",
       "      <td>0</td>\n",
       "      <td>Friendly</td>\n",
       "      <td>Glasgow</td>\n",
       "      <td>Scotland</td>\n",
       "      <td>False</td>\n",
       "      <td>draw</td>\n",
       "    </tr>\n",
       "    <tr>\n",
       "      <th>1</th>\n",
       "      <td>1873-03-08</td>\n",
       "      <td>England</td>\n",
       "      <td>Scotland</td>\n",
       "      <td>4</td>\n",
       "      <td>2</td>\n",
       "      <td>Friendly</td>\n",
       "      <td>London</td>\n",
       "      <td>England</td>\n",
       "      <td>False</td>\n",
       "      <td>win</td>\n",
       "    </tr>\n",
       "    <tr>\n",
       "      <th>2</th>\n",
       "      <td>1874-03-07</td>\n",
       "      <td>Scotland</td>\n",
       "      <td>England</td>\n",
       "      <td>2</td>\n",
       "      <td>1</td>\n",
       "      <td>Friendly</td>\n",
       "      <td>Glasgow</td>\n",
       "      <td>Scotland</td>\n",
       "      <td>False</td>\n",
       "      <td>win</td>\n",
       "    </tr>\n",
       "    <tr>\n",
       "      <th>3</th>\n",
       "      <td>1875-03-06</td>\n",
       "      <td>England</td>\n",
       "      <td>Scotland</td>\n",
       "      <td>2</td>\n",
       "      <td>2</td>\n",
       "      <td>Friendly</td>\n",
       "      <td>London</td>\n",
       "      <td>England</td>\n",
       "      <td>False</td>\n",
       "      <td>draw</td>\n",
       "    </tr>\n",
       "    <tr>\n",
       "      <th>4</th>\n",
       "      <td>1876-03-04</td>\n",
       "      <td>Scotland</td>\n",
       "      <td>England</td>\n",
       "      <td>3</td>\n",
       "      <td>0</td>\n",
       "      <td>Friendly</td>\n",
       "      <td>Glasgow</td>\n",
       "      <td>Scotland</td>\n",
       "      <td>False</td>\n",
       "      <td>win</td>\n",
       "    </tr>\n",
       "  </tbody>\n",
       "</table>\n",
       "</div>"
      ],
      "text/plain": [
       "         date home_team away_team  home_score  away_score tournament     city  \\\n",
       "0  1872-11-30  Scotland   England           0           0   Friendly  Glasgow   \n",
       "1  1873-03-08   England  Scotland           4           2   Friendly   London   \n",
       "2  1874-03-07  Scotland   England           2           1   Friendly  Glasgow   \n",
       "3  1875-03-06   England  Scotland           2           2   Friendly   London   \n",
       "4  1876-03-04  Scotland   England           3           0   Friendly  Glasgow   \n",
       "\n",
       "    country  neutral result  \n",
       "0  Scotland    False   draw  \n",
       "1   England    False    win  \n",
       "2  Scotland    False    win  \n",
       "3   England    False   draw  \n",
       "4  Scotland    False    win  "
      ]
     },
     "execution_count": 2272,
     "metadata": {},
     "output_type": "execute_result"
    }
   ],
   "source": [
    "df.head()"
   ]
  },
  {
   "cell_type": "markdown",
   "metadata": {},
   "source": [
    "### **Probability of Winning/losing/drawing in a Neutral venue**"
   ]
  },
  {
   "cell_type": "code",
   "execution_count": 2273,
   "metadata": {},
   "outputs": [],
   "source": [
    "df_neutral=df[df['neutral']==True]"
   ]
  },
  {
   "cell_type": "code",
   "execution_count": 2274,
   "metadata": {},
   "outputs": [
    {
     "data": {
      "text/plain": [
       "win     4606\n",
       "lose    3659\n",
       "draw    2442\n",
       "Name: result, dtype: int64"
      ]
     },
     "execution_count": 2274,
     "metadata": {},
     "output_type": "execute_result"
    }
   ],
   "source": [
    "df_neutral['result'].value_counts()"
   ]
  },
  {
   "cell_type": "code",
   "execution_count": 2275,
   "metadata": {},
   "outputs": [
    {
     "data": {
      "text/plain": [
       "win     0.430186\n",
       "lose    0.341739\n",
       "draw    0.228075\n",
       "Name: result, dtype: float64"
      ]
     },
     "execution_count": 2275,
     "metadata": {},
     "output_type": "execute_result"
    }
   ],
   "source": [
    "df_neutral['result'].value_counts(normalize=True)"
   ]
  },
  {
   "cell_type": "markdown",
   "metadata": {},
   "source": [
    "#### This code shows the probability of winning, losing, drawing a match in a neutral venue. This shows that teams have a probability 0.430186 of winning, a probability 0.341739 of losing, a probability 0.228075 of drawing in a neutral venue. The higher probability of winning could be explained by the fact that if the venue played in is in good conditions this might impact the result of winning for the better."
   ]
  },
  {
   "cell_type": "markdown",
   "metadata": {},
   "source": [
    "### **Probability of Winning/losing/drawing in a Non-neutral venue**"
   ]
  },
  {
   "cell_type": "code",
   "execution_count": 2276,
   "id": "1147860a",
   "metadata": {},
   "outputs": [],
   "source": [
    "df_noneutral=df[df['neutral']==False]"
   ]
  },
  {
   "cell_type": "code",
   "execution_count": 2277,
   "id": "9c0a9d03",
   "metadata": {},
   "outputs": [
    {
     "data": {
      "text/plain": [
       "(32481, 10)"
      ]
     },
     "execution_count": 2277,
     "metadata": {},
     "output_type": "execute_result"
    }
   ],
   "source": [
    "df_noneutral.shape"
   ]
  },
  {
   "cell_type": "code",
   "execution_count": 2278,
   "id": "cbb8e5e8",
   "metadata": {},
   "outputs": [],
   "source": [
    "x=df_noneutral['result'].value_counts()"
   ]
  },
  {
   "cell_type": "code",
   "execution_count": 2279,
   "id": "9e182043",
   "metadata": {},
   "outputs": [
    {
     "data": {
      "text/plain": [
       "win     16403\n",
       "lose     8565\n",
       "draw     7513\n",
       "Name: result, dtype: int64"
      ]
     },
     "execution_count": 2279,
     "metadata": {},
     "output_type": "execute_result"
    }
   ],
   "source": [
    "x"
   ]
  },
  {
   "cell_type": "code",
   "execution_count": 2280,
   "id": "3ea0709f",
   "metadata": {},
   "outputs": [
    {
     "data": {
      "text/plain": [
       "win     0.505003\n",
       "lose    0.263693\n",
       "draw    0.231304\n",
       "Name: result, dtype: float64"
      ]
     },
     "execution_count": 2280,
     "metadata": {},
     "output_type": "execute_result"
    }
   ],
   "source": [
    "df_noneutral['result'].value_counts(normalize=True)"
   ]
  },
  {
   "cell_type": "code",
   "execution_count": 2281,
   "metadata": {},
   "outputs": [
    {
     "data": {
      "text/plain": [
       "False    32481\n",
       "True     10707\n",
       "Name: neutral, dtype: int64"
      ]
     },
     "execution_count": 2281,
     "metadata": {},
     "output_type": "execute_result"
    }
   ],
   "source": [
    "df['neutral'].value_counts()"
   ]
  },
  {
   "cell_type": "markdown",
   "metadata": {},
   "source": [
    "#### This code shows the probability of winning, losing, drawing a match in a non-neutral venue. This shows that teams have a probability 0.505003 of winning, a probability 0.263693 of losing, a probability 0.231304 of drawing in a non-neutral venue. This shows that the venue has no significance on the resulting score, since the probability of winning in a non-neutral venue is higher than that of a eutral venue, which is illogical. Or, as shown in the output of the code directly above, the number of matches played in a non-neutral venue is significantly greater than the ones played in a neutral venue and this could explain the higer probability of winning in a non-neutral venue, since most of the winning matches are going to lie in the non-neutral group."
   ]
  },
  {
   "cell_type": "code",
   "execution_count": 2282,
   "metadata": {},
   "outputs": [
    {
     "data": {
      "text/plain": [
       "Brazil                  586\n",
       "Argentina               561\n",
       "Mexico                  529\n",
       "Germany                 521\n",
       "England                 516\n",
       "Sweden                  501\n",
       "France                  496\n",
       "South Korea             489\n",
       "Hungary                 470\n",
       "Italy                   461\n",
       "United States           438\n",
       "Austria                 434\n",
       "Netherlands             433\n",
       "Belgium                 425\n",
       "Switzerland             418\n",
       "Denmark                 418\n",
       "Norway                  409\n",
       "Chile                   403\n",
       "Poland                  397\n",
       "Egypt                   393\n",
       "Scotland                391\n",
       "Malaysia                389\n",
       "Japan                   388\n",
       "Saudi Arabia            381\n",
       "Kenya                   375\n",
       "Spain                   372\n",
       "Uruguay                 355\n",
       "Malawi                  344\n",
       "China PR                343\n",
       "Kuwait                  342\n",
       "Indonesia               340\n",
       "Finland                 340\n",
       "Romania                 338\n",
       "Portugal                336\n",
       "Thailand                335\n",
       "Wales                   333\n",
       "Qatar                   330\n",
       "Northern Ireland        321\n",
       "Republic of Ireland     319\n",
       "Tunisia                 315\n",
       "Costa Rica              313\n",
       "Russia                  311\n",
       "Zambia                  310\n",
       "Trinidad and Tobago     310\n",
       "United Arab Emirates    310\n",
       "Bulgaria                307\n",
       "Bahrain                 306\n",
       "Name: home_team, dtype: int64"
      ]
     },
     "execution_count": 2282,
     "metadata": {},
     "output_type": "execute_result"
    }
   ],
   "source": [
    "df['home_team'].value_counts().loc[lambda x : x>300]"
   ]
  },
  {
   "cell_type": "markdown",
   "metadata": {},
   "source": [
    "#### Through this code we identify the most repated countries meaning the countries that played the most matches in this data."
   ]
  },
  {
   "cell_type": "markdown",
   "metadata": {},
   "source": [
    "# **Egypt Analysis**"
   ]
  },
  {
   "cell_type": "markdown",
   "metadata": {},
   "source": [
    "#### Through the last code, we find out that Egypt is one of the most repeated countries, with a total of 393 home matches, therefore I chose to analyze it."
   ]
  },
  {
   "cell_type": "code",
   "execution_count": 2283,
   "metadata": {},
   "outputs": [
    {
     "data": {
      "text/plain": [
       "array(['Friendly', 'FIFA World Cup qualification',\n",
       "       'African Cup of Nations qualification', 'African Cup of Nations',\n",
       "       'Nile Basin Tournament', 'African Nations Championship',\n",
       "       'UEFA Euro qualification'], dtype=object)"
      ]
     },
     "execution_count": 2283,
     "metadata": {},
     "output_type": "execute_result"
    }
   ],
   "source": [
    "Egypt=df[df['country']=='Egypt']\n",
    "Egypt['tournament'].unique()"
   ]
  },
  {
   "cell_type": "markdown",
   "metadata": {},
   "source": [
    "#### In this data, Egypt participated in the following tournaments: Friendlies, FIFA World Cup qualifications, African Cup of Nations qualifications, African Cup of Nations, Nile Basin Tournament, African Nations Championship, and UEFA Euro qualifications."
   ]
  },
  {
   "cell_type": "markdown",
   "metadata": {},
   "source": [
    "### **The probability of Egypt winning in all tournaments and under all conditions**"
   ]
  },
  {
   "cell_type": "code",
   "execution_count": 2284,
   "metadata": {},
   "outputs": [
    {
     "data": {
      "text/plain": [
       "win     0.584767\n",
       "lose    0.226044\n",
       "draw    0.189189\n",
       "Name: result, dtype: float64"
      ]
     },
     "execution_count": 2284,
     "metadata": {},
     "output_type": "execute_result"
    }
   ],
   "source": [
    "Egypt['result'].value_counts(normalize=True)"
   ]
  },
  {
   "cell_type": "code",
   "execution_count": 2285,
   "metadata": {},
   "outputs": [],
   "source": [
    "p=Egypt['result'].value_counts()"
   ]
  },
  {
   "cell_type": "code",
   "execution_count": 2286,
   "metadata": {},
   "outputs": [],
   "source": [
    "p=np.array(p)"
   ]
  },
  {
   "cell_type": "code",
   "execution_count": 2287,
   "metadata": {},
   "outputs": [],
   "source": [
    "N=p.sum()"
   ]
  },
  {
   "cell_type": "code",
   "execution_count": 2288,
   "metadata": {},
   "outputs": [
    {
     "data": {
      "text/plain": [
       "(0.5368938422372662, 0.6326393272959032)"
      ]
     },
     "execution_count": 2288,
     "metadata": {},
     "output_type": "execute_result"
    }
   ],
   "source": [
    "CI_Egypt_Win=proportion_confint(count=p[0],nobs=N,alpha=(1-.95))\n",
    "CI_Egypt_Win"
   ]
  },
  {
   "cell_type": "markdown",
   "metadata": {},
   "source": [
    "#### This code shows us that Egypt had a 0.584767 probability of winning in all matches and all the tournaments it participated in this dataset. Moreover, by computing the confidence interval of Egypt winning, we are able to generalize the result on a larger scale. Evidently, the probability of egypt winning in the matches in this dataset does lie in the confidence interval. "
   ]
  },
  {
   "cell_type": "code",
   "execution_count": 2289,
   "metadata": {},
   "outputs": [
    {
     "data": {
      "text/html": [
       "<div>\n",
       "<style scoped>\n",
       "    .dataframe tbody tr th:only-of-type {\n",
       "        vertical-align: middle;\n",
       "    }\n",
       "\n",
       "    .dataframe tbody tr th {\n",
       "        vertical-align: top;\n",
       "    }\n",
       "\n",
       "    .dataframe thead th {\n",
       "        text-align: right;\n",
       "    }\n",
       "</style>\n",
       "<table border=\"1\" class=\"dataframe\">\n",
       "  <thead>\n",
       "    <tr style=\"text-align: right;\">\n",
       "      <th></th>\n",
       "      <th>date</th>\n",
       "      <th>home_team</th>\n",
       "      <th>away_team</th>\n",
       "      <th>home_score</th>\n",
       "      <th>away_score</th>\n",
       "      <th>tournament</th>\n",
       "      <th>city</th>\n",
       "      <th>country</th>\n",
       "      <th>neutral</th>\n",
       "      <th>result</th>\n",
       "    </tr>\n",
       "  </thead>\n",
       "  <tbody>\n",
       "    <tr>\n",
       "      <th>1463</th>\n",
       "      <td>2/19/1932</td>\n",
       "      <td>Egypt</td>\n",
       "      <td>Hungary</td>\n",
       "      <td>0</td>\n",
       "      <td>0</td>\n",
       "      <td>Friendly</td>\n",
       "      <td>Cairo</td>\n",
       "      <td>Egypt</td>\n",
       "      <td>False</td>\n",
       "      <td>draw</td>\n",
       "    </tr>\n",
       "    <tr>\n",
       "      <th>1661</th>\n",
       "      <td>3/16/1934</td>\n",
       "      <td>Egypt</td>\n",
       "      <td>Israel</td>\n",
       "      <td>7</td>\n",
       "      <td>1</td>\n",
       "      <td>FIFA World Cup qualification</td>\n",
       "      <td>Cairo</td>\n",
       "      <td>Egypt</td>\n",
       "      <td>False</td>\n",
       "      <td>win</td>\n",
       "    </tr>\n",
       "    <tr>\n",
       "      <th>1895</th>\n",
       "      <td>6/19/1936</td>\n",
       "      <td>Egypt</td>\n",
       "      <td>Greece</td>\n",
       "      <td>3</td>\n",
       "      <td>1</td>\n",
       "      <td>Friendly</td>\n",
       "      <td>Cairo</td>\n",
       "      <td>Egypt</td>\n",
       "      <td>False</td>\n",
       "      <td>win</td>\n",
       "    </tr>\n",
       "    <tr>\n",
       "      <th>2927</th>\n",
       "      <td>12/24/1948</td>\n",
       "      <td>Egypt</td>\n",
       "      <td>Norway</td>\n",
       "      <td>1</td>\n",
       "      <td>1</td>\n",
       "      <td>Friendly</td>\n",
       "      <td>Cairo</td>\n",
       "      <td>Egypt</td>\n",
       "      <td>False</td>\n",
       "      <td>draw</td>\n",
       "    </tr>\n",
       "    <tr>\n",
       "      <th>3080</th>\n",
       "      <td>2/17/1950</td>\n",
       "      <td>Egypt</td>\n",
       "      <td>Greece</td>\n",
       "      <td>2</td>\n",
       "      <td>0</td>\n",
       "      <td>Friendly</td>\n",
       "      <td>Cairo</td>\n",
       "      <td>Egypt</td>\n",
       "      <td>False</td>\n",
       "      <td>win</td>\n",
       "    </tr>\n",
       "    <tr>\n",
       "      <th>...</th>\n",
       "      <td>...</td>\n",
       "      <td>...</td>\n",
       "      <td>...</td>\n",
       "      <td>...</td>\n",
       "      <td>...</td>\n",
       "      <td>...</td>\n",
       "      <td>...</td>\n",
       "      <td>...</td>\n",
       "      <td>...</td>\n",
       "      <td>...</td>\n",
       "    </tr>\n",
       "    <tr>\n",
       "      <th>42590</th>\n",
       "      <td>9/1/2021</td>\n",
       "      <td>Egypt</td>\n",
       "      <td>Angola</td>\n",
       "      <td>1</td>\n",
       "      <td>0</td>\n",
       "      <td>FIFA World Cup qualification</td>\n",
       "      <td>Cairo</td>\n",
       "      <td>Egypt</td>\n",
       "      <td>False</td>\n",
       "      <td>win</td>\n",
       "    </tr>\n",
       "    <tr>\n",
       "      <th>42758</th>\n",
       "      <td>9/30/2021</td>\n",
       "      <td>Egypt</td>\n",
       "      <td>Liberia</td>\n",
       "      <td>2</td>\n",
       "      <td>0</td>\n",
       "      <td>Friendly</td>\n",
       "      <td>Alexandria</td>\n",
       "      <td>Egypt</td>\n",
       "      <td>False</td>\n",
       "      <td>win</td>\n",
       "    </tr>\n",
       "    <tr>\n",
       "      <th>42812</th>\n",
       "      <td>10/8/2021</td>\n",
       "      <td>Egypt</td>\n",
       "      <td>Libya</td>\n",
       "      <td>1</td>\n",
       "      <td>0</td>\n",
       "      <td>FIFA World Cup qualification</td>\n",
       "      <td>Alexandria</td>\n",
       "      <td>Egypt</td>\n",
       "      <td>False</td>\n",
       "      <td>win</td>\n",
       "    </tr>\n",
       "    <tr>\n",
       "      <th>42958</th>\n",
       "      <td>11/12/2021</td>\n",
       "      <td>Djibouti</td>\n",
       "      <td>Algeria</td>\n",
       "      <td>0</td>\n",
       "      <td>4</td>\n",
       "      <td>FIFA World Cup qualification</td>\n",
       "      <td>Cairo</td>\n",
       "      <td>Egypt</td>\n",
       "      <td>True</td>\n",
       "      <td>lose</td>\n",
       "    </tr>\n",
       "    <tr>\n",
       "      <th>43040</th>\n",
       "      <td>11/16/2021</td>\n",
       "      <td>Egypt</td>\n",
       "      <td>Gabon</td>\n",
       "      <td>2</td>\n",
       "      <td>1</td>\n",
       "      <td>FIFA World Cup qualification</td>\n",
       "      <td>Alexandria</td>\n",
       "      <td>Egypt</td>\n",
       "      <td>False</td>\n",
       "      <td>win</td>\n",
       "    </tr>\n",
       "  </tbody>\n",
       "</table>\n",
       "<p>407 rows × 10 columns</p>\n",
       "</div>"
      ],
      "text/plain": [
       "             date home_team away_team  home_score  away_score  \\\n",
       "1463    2/19/1932     Egypt   Hungary           0           0   \n",
       "1661    3/16/1934     Egypt    Israel           7           1   \n",
       "1895    6/19/1936     Egypt    Greece           3           1   \n",
       "2927   12/24/1948     Egypt    Norway           1           1   \n",
       "3080    2/17/1950     Egypt    Greece           2           0   \n",
       "...           ...       ...       ...         ...         ...   \n",
       "42590    9/1/2021     Egypt    Angola           1           0   \n",
       "42758   9/30/2021     Egypt   Liberia           2           0   \n",
       "42812   10/8/2021     Egypt     Libya           1           0   \n",
       "42958  11/12/2021  Djibouti   Algeria           0           4   \n",
       "43040  11/16/2021     Egypt     Gabon           2           1   \n",
       "\n",
       "                         tournament        city country  neutral result  \n",
       "1463                       Friendly       Cairo   Egypt    False   draw  \n",
       "1661   FIFA World Cup qualification       Cairo   Egypt    False    win  \n",
       "1895                       Friendly       Cairo   Egypt    False    win  \n",
       "2927                       Friendly       Cairo   Egypt    False   draw  \n",
       "3080                       Friendly       Cairo   Egypt    False    win  \n",
       "...                             ...         ...     ...      ...    ...  \n",
       "42590  FIFA World Cup qualification       Cairo   Egypt    False    win  \n",
       "42758                      Friendly  Alexandria   Egypt    False    win  \n",
       "42812  FIFA World Cup qualification  Alexandria   Egypt    False    win  \n",
       "42958  FIFA World Cup qualification       Cairo   Egypt     True   lose  \n",
       "43040  FIFA World Cup qualification  Alexandria   Egypt    False    win  \n",
       "\n",
       "[407 rows x 10 columns]"
      ]
     },
     "execution_count": 2289,
     "metadata": {},
     "output_type": "execute_result"
    }
   ],
   "source": [
    "Egypt"
   ]
  },
  {
   "cell_type": "code",
   "execution_count": 2290,
   "metadata": {},
   "outputs": [
    {
     "data": {
      "text/plain": [
       "Friendly                                181\n",
       "African Cup of Nations                  117\n",
       "FIFA World Cup qualification             51\n",
       "African Cup of Nations qualification     42\n",
       "Nile Basin Tournament                    14\n",
       "African Nations Championship              1\n",
       "UEFA Euro qualification                   1\n",
       "Name: tournament, dtype: int64"
      ]
     },
     "execution_count": 2290,
     "metadata": {},
     "output_type": "execute_result"
    }
   ],
   "source": [
    "k=Egypt['tournament'].value_counts()\n",
    "k"
   ]
  },
  {
   "cell_type": "code",
   "execution_count": 2291,
   "metadata": {},
   "outputs": [
    {
     "data": {
      "text/plain": [
       "51"
      ]
     },
     "execution_count": 2291,
     "metadata": {},
     "output_type": "execute_result"
    }
   ],
   "source": [
    "k[2]"
   ]
  },
  {
   "cell_type": "markdown",
   "metadata": {},
   "source": [
    "#### This sample contains 51 matches that Egypt played part of the FIFA World Cup Qualifications."
   ]
  },
  {
   "cell_type": "markdown",
   "metadata": {},
   "source": [
    "### **Probability of Egypt Winning/Losing/having a draw in The FIFA World cup qualifications**"
   ]
  },
  {
   "cell_type": "code",
   "execution_count": 2292,
   "metadata": {},
   "outputs": [
    {
     "data": {
      "text/html": [
       "<div>\n",
       "<style scoped>\n",
       "    .dataframe tbody tr th:only-of-type {\n",
       "        vertical-align: middle;\n",
       "    }\n",
       "\n",
       "    .dataframe tbody tr th {\n",
       "        vertical-align: top;\n",
       "    }\n",
       "\n",
       "    .dataframe thead th {\n",
       "        text-align: right;\n",
       "    }\n",
       "</style>\n",
       "<table border=\"1\" class=\"dataframe\">\n",
       "  <thead>\n",
       "    <tr style=\"text-align: right;\">\n",
       "      <th></th>\n",
       "      <th>date</th>\n",
       "      <th>home_team</th>\n",
       "      <th>away_team</th>\n",
       "      <th>home_score</th>\n",
       "      <th>away_score</th>\n",
       "      <th>tournament</th>\n",
       "      <th>city</th>\n",
       "      <th>country</th>\n",
       "      <th>neutral</th>\n",
       "      <th>result</th>\n",
       "    </tr>\n",
       "  </thead>\n",
       "  <tbody>\n",
       "    <tr>\n",
       "      <th>1661</th>\n",
       "      <td>3/16/1934</td>\n",
       "      <td>Egypt</td>\n",
       "      <td>Israel</td>\n",
       "      <td>7</td>\n",
       "      <td>1</td>\n",
       "      <td>FIFA World Cup qualification</td>\n",
       "      <td>Cairo</td>\n",
       "      <td>Egypt</td>\n",
       "      <td>False</td>\n",
       "      <td>win</td>\n",
       "    </tr>\n",
       "    <tr>\n",
       "      <th>3587</th>\n",
       "      <td>11/13/1953</td>\n",
       "      <td>Egypt</td>\n",
       "      <td>Italy</td>\n",
       "      <td>1</td>\n",
       "      <td>2</td>\n",
       "      <td>FIFA World Cup qualification</td>\n",
       "      <td>Cairo</td>\n",
       "      <td>Egypt</td>\n",
       "      <td>False</td>\n",
       "      <td>lose</td>\n",
       "    </tr>\n",
       "    <tr>\n",
       "      <th>8508</th>\n",
       "      <td>12/8/1972</td>\n",
       "      <td>Egypt</td>\n",
       "      <td>Tunisia</td>\n",
       "      <td>2</td>\n",
       "      <td>1</td>\n",
       "      <td>FIFA World Cup qualification</td>\n",
       "      <td>Cairo</td>\n",
       "      <td>Egypt</td>\n",
       "      <td>False</td>\n",
       "      <td>win</td>\n",
       "    </tr>\n",
       "    <tr>\n",
       "      <th>10000</th>\n",
       "      <td>10/29/1976</td>\n",
       "      <td>Egypt</td>\n",
       "      <td>Ethiopia</td>\n",
       "      <td>3</td>\n",
       "      <td>0</td>\n",
       "      <td>FIFA World Cup qualification</td>\n",
       "      <td>Cairo</td>\n",
       "      <td>Egypt</td>\n",
       "      <td>False</td>\n",
       "      <td>win</td>\n",
       "    </tr>\n",
       "    <tr>\n",
       "      <th>10133</th>\n",
       "      <td>2/27/1977</td>\n",
       "      <td>Egypt</td>\n",
       "      <td>Kenya</td>\n",
       "      <td>1</td>\n",
       "      <td>0</td>\n",
       "      <td>FIFA World Cup qualification</td>\n",
       "      <td>Cairo</td>\n",
       "      <td>Egypt</td>\n",
       "      <td>False</td>\n",
       "      <td>win</td>\n",
       "    </tr>\n",
       "    <tr>\n",
       "      <th>10294</th>\n",
       "      <td>7/15/1977</td>\n",
       "      <td>Egypt</td>\n",
       "      <td>Zambia</td>\n",
       "      <td>2</td>\n",
       "      <td>0</td>\n",
       "      <td>FIFA World Cup qualification</td>\n",
       "      <td>Cairo</td>\n",
       "      <td>Egypt</td>\n",
       "      <td>False</td>\n",
       "      <td>win</td>\n",
       "    </tr>\n",
       "    <tr>\n",
       "      <th>10413</th>\n",
       "      <td>10/21/1977</td>\n",
       "      <td>Egypt</td>\n",
       "      <td>Nigeria</td>\n",
       "      <td>3</td>\n",
       "      <td>1</td>\n",
       "      <td>FIFA World Cup qualification</td>\n",
       "      <td>Cairo</td>\n",
       "      <td>Egypt</td>\n",
       "      <td>False</td>\n",
       "      <td>win</td>\n",
       "    </tr>\n",
       "    <tr>\n",
       "      <th>10459</th>\n",
       "      <td>11/25/1977</td>\n",
       "      <td>Egypt</td>\n",
       "      <td>Tunisia</td>\n",
       "      <td>3</td>\n",
       "      <td>2</td>\n",
       "      <td>FIFA World Cup qualification</td>\n",
       "      <td>Cairo</td>\n",
       "      <td>Egypt</td>\n",
       "      <td>False</td>\n",
       "      <td>win</td>\n",
       "    </tr>\n",
       "    <tr>\n",
       "      <th>11897</th>\n",
       "      <td>5/8/1981</td>\n",
       "      <td>Egypt</td>\n",
       "      <td>Morocco</td>\n",
       "      <td>0</td>\n",
       "      <td>0</td>\n",
       "      <td>FIFA World Cup qualification</td>\n",
       "      <td>Cairo</td>\n",
       "      <td>Egypt</td>\n",
       "      <td>False</td>\n",
       "      <td>draw</td>\n",
       "    </tr>\n",
       "    <tr>\n",
       "      <th>13310</th>\n",
       "      <td>8/28/1984</td>\n",
       "      <td>Egypt</td>\n",
       "      <td>Zimbabwe</td>\n",
       "      <td>1</td>\n",
       "      <td>0</td>\n",
       "      <td>FIFA World Cup qualification</td>\n",
       "      <td>Cairo</td>\n",
       "      <td>Egypt</td>\n",
       "      <td>False</td>\n",
       "      <td>win</td>\n",
       "    </tr>\n",
       "    <tr>\n",
       "      <th>13746</th>\n",
       "      <td>4/5/1985</td>\n",
       "      <td>Egypt</td>\n",
       "      <td>Madagascar</td>\n",
       "      <td>1</td>\n",
       "      <td>0</td>\n",
       "      <td>FIFA World Cup qualification</td>\n",
       "      <td>Cairo</td>\n",
       "      <td>Egypt</td>\n",
       "      <td>False</td>\n",
       "      <td>win</td>\n",
       "    </tr>\n",
       "    <tr>\n",
       "      <th>13941</th>\n",
       "      <td>7/12/1985</td>\n",
       "      <td>Egypt</td>\n",
       "      <td>Morocco</td>\n",
       "      <td>0</td>\n",
       "      <td>0</td>\n",
       "      <td>FIFA World Cup qualification</td>\n",
       "      <td>Cairo</td>\n",
       "      <td>Egypt</td>\n",
       "      <td>False</td>\n",
       "      <td>draw</td>\n",
       "    </tr>\n",
       "    <tr>\n",
       "      <th>15414</th>\n",
       "      <td>1/6/1989</td>\n",
       "      <td>Egypt</td>\n",
       "      <td>Liberia</td>\n",
       "      <td>2</td>\n",
       "      <td>0</td>\n",
       "      <td>FIFA World Cup qualification</td>\n",
       "      <td>Cairo</td>\n",
       "      <td>Egypt</td>\n",
       "      <td>False</td>\n",
       "      <td>win</td>\n",
       "    </tr>\n",
       "    <tr>\n",
       "      <th>15813</th>\n",
       "      <td>8/12/1989</td>\n",
       "      <td>Egypt</td>\n",
       "      <td>Malawi</td>\n",
       "      <td>1</td>\n",
       "      <td>0</td>\n",
       "      <td>FIFA World Cup qualification</td>\n",
       "      <td>Cairo</td>\n",
       "      <td>Egypt</td>\n",
       "      <td>False</td>\n",
       "      <td>win</td>\n",
       "    </tr>\n",
       "    <tr>\n",
       "      <th>15835</th>\n",
       "      <td>8/26/1989</td>\n",
       "      <td>Egypt</td>\n",
       "      <td>Kenya</td>\n",
       "      <td>2</td>\n",
       "      <td>0</td>\n",
       "      <td>FIFA World Cup qualification</td>\n",
       "      <td>Cairo</td>\n",
       "      <td>Egypt</td>\n",
       "      <td>False</td>\n",
       "      <td>win</td>\n",
       "    </tr>\n",
       "    <tr>\n",
       "      <th>15969</th>\n",
       "      <td>11/17/1989</td>\n",
       "      <td>Egypt</td>\n",
       "      <td>Algeria</td>\n",
       "      <td>1</td>\n",
       "      <td>0</td>\n",
       "      <td>FIFA World Cup qualification</td>\n",
       "      <td>Cairo</td>\n",
       "      <td>Egypt</td>\n",
       "      <td>False</td>\n",
       "      <td>win</td>\n",
       "    </tr>\n",
       "    <tr>\n",
       "      <th>17335</th>\n",
       "      <td>10/11/1992</td>\n",
       "      <td>Egypt</td>\n",
       "      <td>Angola</td>\n",
       "      <td>1</td>\n",
       "      <td>0</td>\n",
       "      <td>FIFA World Cup qualification</td>\n",
       "      <td>Cairo</td>\n",
       "      <td>Egypt</td>\n",
       "      <td>False</td>\n",
       "      <td>win</td>\n",
       "    </tr>\n",
       "    <tr>\n",
       "      <th>17553</th>\n",
       "      <td>1/31/1993</td>\n",
       "      <td>Egypt</td>\n",
       "      <td>Togo</td>\n",
       "      <td>3</td>\n",
       "      <td>0</td>\n",
       "      <td>FIFA World Cup qualification</td>\n",
       "      <td>Cairo</td>\n",
       "      <td>Egypt</td>\n",
       "      <td>False</td>\n",
       "      <td>win</td>\n",
       "    </tr>\n",
       "    <tr>\n",
       "      <th>20130</th>\n",
       "      <td>11/8/1996</td>\n",
       "      <td>Egypt</td>\n",
       "      <td>Namibia</td>\n",
       "      <td>7</td>\n",
       "      <td>1</td>\n",
       "      <td>FIFA World Cup qualification</td>\n",
       "      <td>Cairo</td>\n",
       "      <td>Egypt</td>\n",
       "      <td>False</td>\n",
       "      <td>win</td>\n",
       "    </tr>\n",
       "    <tr>\n",
       "      <th>20665</th>\n",
       "      <td>6/8/1997</td>\n",
       "      <td>Egypt</td>\n",
       "      <td>Tunisia</td>\n",
       "      <td>0</td>\n",
       "      <td>0</td>\n",
       "      <td>FIFA World Cup qualification</td>\n",
       "      <td>Cairo</td>\n",
       "      <td>Egypt</td>\n",
       "      <td>False</td>\n",
       "      <td>draw</td>\n",
       "    </tr>\n",
       "    <tr>\n",
       "      <th>20863</th>\n",
       "      <td>8/17/1997</td>\n",
       "      <td>Egypt</td>\n",
       "      <td>Liberia</td>\n",
       "      <td>5</td>\n",
       "      <td>0</td>\n",
       "      <td>FIFA World Cup qualification</td>\n",
       "      <td>Cairo</td>\n",
       "      <td>Egypt</td>\n",
       "      <td>False</td>\n",
       "      <td>win</td>\n",
       "    </tr>\n",
       "    <tr>\n",
       "      <th>22927</th>\n",
       "      <td>4/20/2000</td>\n",
       "      <td>Egypt</td>\n",
       "      <td>Mauritius</td>\n",
       "      <td>2</td>\n",
       "      <td>0</td>\n",
       "      <td>FIFA World Cup qualification</td>\n",
       "      <td>Cairo</td>\n",
       "      <td>Egypt</td>\n",
       "      <td>False</td>\n",
       "      <td>win</td>\n",
       "    </tr>\n",
       "    <tr>\n",
       "      <th>22945</th>\n",
       "      <td>4/23/2000</td>\n",
       "      <td>Egypt</td>\n",
       "      <td>Mauritius</td>\n",
       "      <td>4</td>\n",
       "      <td>2</td>\n",
       "      <td>FIFA World Cup qualification</td>\n",
       "      <td>Alexandria</td>\n",
       "      <td>Egypt</td>\n",
       "      <td>False</td>\n",
       "      <td>win</td>\n",
       "    </tr>\n",
       "    <tr>\n",
       "      <th>23662</th>\n",
       "      <td>1/28/2001</td>\n",
       "      <td>Egypt</td>\n",
       "      <td>Morocco</td>\n",
       "      <td>0</td>\n",
       "      <td>0</td>\n",
       "      <td>FIFA World Cup qualification</td>\n",
       "      <td>Cairo</td>\n",
       "      <td>Egypt</td>\n",
       "      <td>False</td>\n",
       "      <td>draw</td>\n",
       "    </tr>\n",
       "    <tr>\n",
       "      <th>23794</th>\n",
       "      <td>3/11/2001</td>\n",
       "      <td>Egypt</td>\n",
       "      <td>Algeria</td>\n",
       "      <td>5</td>\n",
       "      <td>2</td>\n",
       "      <td>FIFA World Cup qualification</td>\n",
       "      <td>Cairo</td>\n",
       "      <td>Egypt</td>\n",
       "      <td>False</td>\n",
       "      <td>win</td>\n",
       "    </tr>\n",
       "    <tr>\n",
       "      <th>24027</th>\n",
       "      <td>5/6/2001</td>\n",
       "      <td>Egypt</td>\n",
       "      <td>Senegal</td>\n",
       "      <td>1</td>\n",
       "      <td>0</td>\n",
       "      <td>FIFA World Cup qualification</td>\n",
       "      <td>Cairo</td>\n",
       "      <td>Egypt</td>\n",
       "      <td>False</td>\n",
       "      <td>win</td>\n",
       "    </tr>\n",
       "    <tr>\n",
       "      <th>24269</th>\n",
       "      <td>7/13/2001</td>\n",
       "      <td>Egypt</td>\n",
       "      <td>Namibia</td>\n",
       "      <td>8</td>\n",
       "      <td>2</td>\n",
       "      <td>FIFA World Cup qualification</td>\n",
       "      <td>Alexandria</td>\n",
       "      <td>Egypt</td>\n",
       "      <td>False</td>\n",
       "      <td>win</td>\n",
       "    </tr>\n",
       "    <tr>\n",
       "      <th>26811</th>\n",
       "      <td>6/20/2004</td>\n",
       "      <td>Egypt</td>\n",
       "      <td>Ivory Coast</td>\n",
       "      <td>1</td>\n",
       "      <td>2</td>\n",
       "      <td>FIFA World Cup qualification</td>\n",
       "      <td>Alexandria</td>\n",
       "      <td>Egypt</td>\n",
       "      <td>False</td>\n",
       "      <td>lose</td>\n",
       "    </tr>\n",
       "    <tr>\n",
       "      <th>27030</th>\n",
       "      <td>9/5/2004</td>\n",
       "      <td>Egypt</td>\n",
       "      <td>Cameroon</td>\n",
       "      <td>3</td>\n",
       "      <td>2</td>\n",
       "      <td>FIFA World Cup qualification</td>\n",
       "      <td>Cairo</td>\n",
       "      <td>Egypt</td>\n",
       "      <td>False</td>\n",
       "      <td>win</td>\n",
       "    </tr>\n",
       "    <tr>\n",
       "      <th>27558</th>\n",
       "      <td>3/27/2005</td>\n",
       "      <td>Egypt</td>\n",
       "      <td>Libya</td>\n",
       "      <td>4</td>\n",
       "      <td>1</td>\n",
       "      <td>FIFA World Cup qualification</td>\n",
       "      <td>Cairo</td>\n",
       "      <td>Egypt</td>\n",
       "      <td>False</td>\n",
       "      <td>win</td>\n",
       "    </tr>\n",
       "    <tr>\n",
       "      <th>27678</th>\n",
       "      <td>6/5/2005</td>\n",
       "      <td>Egypt</td>\n",
       "      <td>Sudan</td>\n",
       "      <td>6</td>\n",
       "      <td>1</td>\n",
       "      <td>FIFA World Cup qualification</td>\n",
       "      <td>Cairo</td>\n",
       "      <td>Egypt</td>\n",
       "      <td>False</td>\n",
       "      <td>win</td>\n",
       "    </tr>\n",
       "    <tr>\n",
       "      <th>27923</th>\n",
       "      <td>9/4/2005</td>\n",
       "      <td>Egypt</td>\n",
       "      <td>Benin</td>\n",
       "      <td>4</td>\n",
       "      <td>1</td>\n",
       "      <td>FIFA World Cup qualification</td>\n",
       "      <td>Cairo</td>\n",
       "      <td>Egypt</td>\n",
       "      <td>False</td>\n",
       "      <td>win</td>\n",
       "    </tr>\n",
       "    <tr>\n",
       "      <th>30337</th>\n",
       "      <td>6/1/2008</td>\n",
       "      <td>Egypt</td>\n",
       "      <td>DR Congo</td>\n",
       "      <td>2</td>\n",
       "      <td>1</td>\n",
       "      <td>FIFA World Cup qualification</td>\n",
       "      <td>Cairo</td>\n",
       "      <td>Egypt</td>\n",
       "      <td>False</td>\n",
       "      <td>win</td>\n",
       "    </tr>\n",
       "    <tr>\n",
       "      <th>30538</th>\n",
       "      <td>6/22/2008</td>\n",
       "      <td>Egypt</td>\n",
       "      <td>Malawi</td>\n",
       "      <td>2</td>\n",
       "      <td>0</td>\n",
       "      <td>FIFA World Cup qualification</td>\n",
       "      <td>Cairo</td>\n",
       "      <td>Egypt</td>\n",
       "      <td>False</td>\n",
       "      <td>win</td>\n",
       "    </tr>\n",
       "    <tr>\n",
       "      <th>30752</th>\n",
       "      <td>9/6/2008</td>\n",
       "      <td>Sudan</td>\n",
       "      <td>Chad</td>\n",
       "      <td>1</td>\n",
       "      <td>2</td>\n",
       "      <td>FIFA World Cup qualification</td>\n",
       "      <td>Cairo</td>\n",
       "      <td>Egypt</td>\n",
       "      <td>True</td>\n",
       "      <td>lose</td>\n",
       "    </tr>\n",
       "    <tr>\n",
       "      <th>30773</th>\n",
       "      <td>9/10/2008</td>\n",
       "      <td>Chad</td>\n",
       "      <td>Sudan</td>\n",
       "      <td>1</td>\n",
       "      <td>3</td>\n",
       "      <td>FIFA World Cup qualification</td>\n",
       "      <td>Cairo</td>\n",
       "      <td>Egypt</td>\n",
       "      <td>True</td>\n",
       "      <td>lose</td>\n",
       "    </tr>\n",
       "    <tr>\n",
       "      <th>30892</th>\n",
       "      <td>10/12/2008</td>\n",
       "      <td>Egypt</td>\n",
       "      <td>Djibouti</td>\n",
       "      <td>4</td>\n",
       "      <td>0</td>\n",
       "      <td>FIFA World Cup qualification</td>\n",
       "      <td>Cairo</td>\n",
       "      <td>Egypt</td>\n",
       "      <td>False</td>\n",
       "      <td>win</td>\n",
       "    </tr>\n",
       "    <tr>\n",
       "      <th>31550</th>\n",
       "      <td>7/5/2009</td>\n",
       "      <td>Egypt</td>\n",
       "      <td>Rwanda</td>\n",
       "      <td>3</td>\n",
       "      <td>0</td>\n",
       "      <td>FIFA World Cup qualification</td>\n",
       "      <td>Cairo</td>\n",
       "      <td>Egypt</td>\n",
       "      <td>False</td>\n",
       "      <td>win</td>\n",
       "    </tr>\n",
       "    <tr>\n",
       "      <th>31881</th>\n",
       "      <td>11/14/2009</td>\n",
       "      <td>Egypt</td>\n",
       "      <td>Algeria</td>\n",
       "      <td>2</td>\n",
       "      <td>0</td>\n",
       "      <td>FIFA World Cup qualification</td>\n",
       "      <td>Cairo</td>\n",
       "      <td>Egypt</td>\n",
       "      <td>False</td>\n",
       "      <td>win</td>\n",
       "    </tr>\n",
       "    <tr>\n",
       "      <th>34183</th>\n",
       "      <td>6/1/2012</td>\n",
       "      <td>Egypt</td>\n",
       "      <td>Mozambique</td>\n",
       "      <td>2</td>\n",
       "      <td>0</td>\n",
       "      <td>FIFA World Cup qualification</td>\n",
       "      <td>Alexandria</td>\n",
       "      <td>Egypt</td>\n",
       "      <td>False</td>\n",
       "      <td>win</td>\n",
       "    </tr>\n",
       "    <tr>\n",
       "      <th>35201</th>\n",
       "      <td>3/26/2013</td>\n",
       "      <td>Egypt</td>\n",
       "      <td>Zimbabwe</td>\n",
       "      <td>2</td>\n",
       "      <td>1</td>\n",
       "      <td>FIFA World Cup qualification</td>\n",
       "      <td>Alexandria</td>\n",
       "      <td>Egypt</td>\n",
       "      <td>False</td>\n",
       "      <td>win</td>\n",
       "    </tr>\n",
       "    <tr>\n",
       "      <th>35640</th>\n",
       "      <td>9/10/2013</td>\n",
       "      <td>Egypt</td>\n",
       "      <td>Guinea</td>\n",
       "      <td>4</td>\n",
       "      <td>2</td>\n",
       "      <td>FIFA World Cup qualification</td>\n",
       "      <td>el-Gouna</td>\n",
       "      <td>Egypt</td>\n",
       "      <td>False</td>\n",
       "      <td>win</td>\n",
       "    </tr>\n",
       "    <tr>\n",
       "      <th>35836</th>\n",
       "      <td>11/19/2013</td>\n",
       "      <td>Egypt</td>\n",
       "      <td>Ghana</td>\n",
       "      <td>2</td>\n",
       "      <td>1</td>\n",
       "      <td>FIFA World Cup qualification</td>\n",
       "      <td>Cairo</td>\n",
       "      <td>Egypt</td>\n",
       "      <td>False</td>\n",
       "      <td>win</td>\n",
       "    </tr>\n",
       "    <tr>\n",
       "      <th>37697</th>\n",
       "      <td>11/17/2015</td>\n",
       "      <td>Egypt</td>\n",
       "      <td>Chad</td>\n",
       "      <td>4</td>\n",
       "      <td>0</td>\n",
       "      <td>FIFA World Cup qualification</td>\n",
       "      <td>Alexandria</td>\n",
       "      <td>Egypt</td>\n",
       "      <td>False</td>\n",
       "      <td>win</td>\n",
       "    </tr>\n",
       "    <tr>\n",
       "      <th>38626</th>\n",
       "      <td>11/13/2016</td>\n",
       "      <td>Egypt</td>\n",
       "      <td>Ghana</td>\n",
       "      <td>2</td>\n",
       "      <td>0</td>\n",
       "      <td>FIFA World Cup qualification</td>\n",
       "      <td>Alexandria</td>\n",
       "      <td>Egypt</td>\n",
       "      <td>False</td>\n",
       "      <td>win</td>\n",
       "    </tr>\n",
       "    <tr>\n",
       "      <th>39347</th>\n",
       "      <td>9/5/2017</td>\n",
       "      <td>Egypt</td>\n",
       "      <td>Uganda</td>\n",
       "      <td>1</td>\n",
       "      <td>0</td>\n",
       "      <td>FIFA World Cup qualification</td>\n",
       "      <td>Alexandria</td>\n",
       "      <td>Egypt</td>\n",
       "      <td>False</td>\n",
       "      <td>win</td>\n",
       "    </tr>\n",
       "    <tr>\n",
       "      <th>39437</th>\n",
       "      <td>10/8/2017</td>\n",
       "      <td>Egypt</td>\n",
       "      <td>Congo</td>\n",
       "      <td>2</td>\n",
       "      <td>1</td>\n",
       "      <td>FIFA World Cup qualification</td>\n",
       "      <td>Alexandria</td>\n",
       "      <td>Egypt</td>\n",
       "      <td>False</td>\n",
       "      <td>win</td>\n",
       "    </tr>\n",
       "    <tr>\n",
       "      <th>42590</th>\n",
       "      <td>9/1/2021</td>\n",
       "      <td>Egypt</td>\n",
       "      <td>Angola</td>\n",
       "      <td>1</td>\n",
       "      <td>0</td>\n",
       "      <td>FIFA World Cup qualification</td>\n",
       "      <td>Cairo</td>\n",
       "      <td>Egypt</td>\n",
       "      <td>False</td>\n",
       "      <td>win</td>\n",
       "    </tr>\n",
       "    <tr>\n",
       "      <th>42812</th>\n",
       "      <td>10/8/2021</td>\n",
       "      <td>Egypt</td>\n",
       "      <td>Libya</td>\n",
       "      <td>1</td>\n",
       "      <td>0</td>\n",
       "      <td>FIFA World Cup qualification</td>\n",
       "      <td>Alexandria</td>\n",
       "      <td>Egypt</td>\n",
       "      <td>False</td>\n",
       "      <td>win</td>\n",
       "    </tr>\n",
       "    <tr>\n",
       "      <th>42958</th>\n",
       "      <td>11/12/2021</td>\n",
       "      <td>Djibouti</td>\n",
       "      <td>Algeria</td>\n",
       "      <td>0</td>\n",
       "      <td>4</td>\n",
       "      <td>FIFA World Cup qualification</td>\n",
       "      <td>Cairo</td>\n",
       "      <td>Egypt</td>\n",
       "      <td>True</td>\n",
       "      <td>lose</td>\n",
       "    </tr>\n",
       "    <tr>\n",
       "      <th>43040</th>\n",
       "      <td>11/16/2021</td>\n",
       "      <td>Egypt</td>\n",
       "      <td>Gabon</td>\n",
       "      <td>2</td>\n",
       "      <td>1</td>\n",
       "      <td>FIFA World Cup qualification</td>\n",
       "      <td>Alexandria</td>\n",
       "      <td>Egypt</td>\n",
       "      <td>False</td>\n",
       "      <td>win</td>\n",
       "    </tr>\n",
       "  </tbody>\n",
       "</table>\n",
       "</div>"
      ],
      "text/plain": [
       "             date home_team    away_team  home_score  away_score  \\\n",
       "1661    3/16/1934     Egypt       Israel           7           1   \n",
       "3587   11/13/1953     Egypt        Italy           1           2   \n",
       "8508    12/8/1972     Egypt      Tunisia           2           1   \n",
       "10000  10/29/1976     Egypt     Ethiopia           3           0   \n",
       "10133   2/27/1977     Egypt        Kenya           1           0   \n",
       "10294   7/15/1977     Egypt       Zambia           2           0   \n",
       "10413  10/21/1977     Egypt      Nigeria           3           1   \n",
       "10459  11/25/1977     Egypt      Tunisia           3           2   \n",
       "11897    5/8/1981     Egypt      Morocco           0           0   \n",
       "13310   8/28/1984     Egypt     Zimbabwe           1           0   \n",
       "13746    4/5/1985     Egypt   Madagascar           1           0   \n",
       "13941   7/12/1985     Egypt      Morocco           0           0   \n",
       "15414    1/6/1989     Egypt      Liberia           2           0   \n",
       "15813   8/12/1989     Egypt       Malawi           1           0   \n",
       "15835   8/26/1989     Egypt        Kenya           2           0   \n",
       "15969  11/17/1989     Egypt      Algeria           1           0   \n",
       "17335  10/11/1992     Egypt       Angola           1           0   \n",
       "17553   1/31/1993     Egypt         Togo           3           0   \n",
       "20130   11/8/1996     Egypt      Namibia           7           1   \n",
       "20665    6/8/1997     Egypt      Tunisia           0           0   \n",
       "20863   8/17/1997     Egypt      Liberia           5           0   \n",
       "22927   4/20/2000     Egypt    Mauritius           2           0   \n",
       "22945   4/23/2000     Egypt    Mauritius           4           2   \n",
       "23662   1/28/2001     Egypt      Morocco           0           0   \n",
       "23794   3/11/2001     Egypt      Algeria           5           2   \n",
       "24027    5/6/2001     Egypt      Senegal           1           0   \n",
       "24269   7/13/2001     Egypt      Namibia           8           2   \n",
       "26811   6/20/2004     Egypt  Ivory Coast           1           2   \n",
       "27030    9/5/2004     Egypt     Cameroon           3           2   \n",
       "27558   3/27/2005     Egypt        Libya           4           1   \n",
       "27678    6/5/2005     Egypt        Sudan           6           1   \n",
       "27923    9/4/2005     Egypt        Benin           4           1   \n",
       "30337    6/1/2008     Egypt     DR Congo           2           1   \n",
       "30538   6/22/2008     Egypt       Malawi           2           0   \n",
       "30752    9/6/2008     Sudan         Chad           1           2   \n",
       "30773   9/10/2008      Chad        Sudan           1           3   \n",
       "30892  10/12/2008     Egypt     Djibouti           4           0   \n",
       "31550    7/5/2009     Egypt       Rwanda           3           0   \n",
       "31881  11/14/2009     Egypt      Algeria           2           0   \n",
       "34183    6/1/2012     Egypt   Mozambique           2           0   \n",
       "35201   3/26/2013     Egypt     Zimbabwe           2           1   \n",
       "35640   9/10/2013     Egypt       Guinea           4           2   \n",
       "35836  11/19/2013     Egypt        Ghana           2           1   \n",
       "37697  11/17/2015     Egypt         Chad           4           0   \n",
       "38626  11/13/2016     Egypt        Ghana           2           0   \n",
       "39347    9/5/2017     Egypt       Uganda           1           0   \n",
       "39437   10/8/2017     Egypt        Congo           2           1   \n",
       "42590    9/1/2021     Egypt       Angola           1           0   \n",
       "42812   10/8/2021     Egypt        Libya           1           0   \n",
       "42958  11/12/2021  Djibouti      Algeria           0           4   \n",
       "43040  11/16/2021     Egypt        Gabon           2           1   \n",
       "\n",
       "                         tournament        city country  neutral result  \n",
       "1661   FIFA World Cup qualification       Cairo   Egypt    False    win  \n",
       "3587   FIFA World Cup qualification       Cairo   Egypt    False   lose  \n",
       "8508   FIFA World Cup qualification       Cairo   Egypt    False    win  \n",
       "10000  FIFA World Cup qualification       Cairo   Egypt    False    win  \n",
       "10133  FIFA World Cup qualification       Cairo   Egypt    False    win  \n",
       "10294  FIFA World Cup qualification       Cairo   Egypt    False    win  \n",
       "10413  FIFA World Cup qualification       Cairo   Egypt    False    win  \n",
       "10459  FIFA World Cup qualification       Cairo   Egypt    False    win  \n",
       "11897  FIFA World Cup qualification       Cairo   Egypt    False   draw  \n",
       "13310  FIFA World Cup qualification       Cairo   Egypt    False    win  \n",
       "13746  FIFA World Cup qualification       Cairo   Egypt    False    win  \n",
       "13941  FIFA World Cup qualification       Cairo   Egypt    False   draw  \n",
       "15414  FIFA World Cup qualification       Cairo   Egypt    False    win  \n",
       "15813  FIFA World Cup qualification       Cairo   Egypt    False    win  \n",
       "15835  FIFA World Cup qualification       Cairo   Egypt    False    win  \n",
       "15969  FIFA World Cup qualification       Cairo   Egypt    False    win  \n",
       "17335  FIFA World Cup qualification       Cairo   Egypt    False    win  \n",
       "17553  FIFA World Cup qualification       Cairo   Egypt    False    win  \n",
       "20130  FIFA World Cup qualification       Cairo   Egypt    False    win  \n",
       "20665  FIFA World Cup qualification       Cairo   Egypt    False   draw  \n",
       "20863  FIFA World Cup qualification       Cairo   Egypt    False    win  \n",
       "22927  FIFA World Cup qualification       Cairo   Egypt    False    win  \n",
       "22945  FIFA World Cup qualification  Alexandria   Egypt    False    win  \n",
       "23662  FIFA World Cup qualification       Cairo   Egypt    False   draw  \n",
       "23794  FIFA World Cup qualification       Cairo   Egypt    False    win  \n",
       "24027  FIFA World Cup qualification       Cairo   Egypt    False    win  \n",
       "24269  FIFA World Cup qualification  Alexandria   Egypt    False    win  \n",
       "26811  FIFA World Cup qualification  Alexandria   Egypt    False   lose  \n",
       "27030  FIFA World Cup qualification       Cairo   Egypt    False    win  \n",
       "27558  FIFA World Cup qualification       Cairo   Egypt    False    win  \n",
       "27678  FIFA World Cup qualification       Cairo   Egypt    False    win  \n",
       "27923  FIFA World Cup qualification       Cairo   Egypt    False    win  \n",
       "30337  FIFA World Cup qualification       Cairo   Egypt    False    win  \n",
       "30538  FIFA World Cup qualification       Cairo   Egypt    False    win  \n",
       "30752  FIFA World Cup qualification       Cairo   Egypt     True   lose  \n",
       "30773  FIFA World Cup qualification       Cairo   Egypt     True   lose  \n",
       "30892  FIFA World Cup qualification       Cairo   Egypt    False    win  \n",
       "31550  FIFA World Cup qualification       Cairo   Egypt    False    win  \n",
       "31881  FIFA World Cup qualification       Cairo   Egypt    False    win  \n",
       "34183  FIFA World Cup qualification  Alexandria   Egypt    False    win  \n",
       "35201  FIFA World Cup qualification  Alexandria   Egypt    False    win  \n",
       "35640  FIFA World Cup qualification    el-Gouna   Egypt    False    win  \n",
       "35836  FIFA World Cup qualification       Cairo   Egypt    False    win  \n",
       "37697  FIFA World Cup qualification  Alexandria   Egypt    False    win  \n",
       "38626  FIFA World Cup qualification  Alexandria   Egypt    False    win  \n",
       "39347  FIFA World Cup qualification  Alexandria   Egypt    False    win  \n",
       "39437  FIFA World Cup qualification  Alexandria   Egypt    False    win  \n",
       "42590  FIFA World Cup qualification       Cairo   Egypt    False    win  \n",
       "42812  FIFA World Cup qualification  Alexandria   Egypt    False    win  \n",
       "42958  FIFA World Cup qualification       Cairo   Egypt     True   lose  \n",
       "43040  FIFA World Cup qualification  Alexandria   Egypt    False    win  "
      ]
     },
     "execution_count": 2292,
     "metadata": {},
     "output_type": "execute_result"
    }
   ],
   "source": [
    "Egypt_WC=Egypt[Egypt['tournament']=='FIFA World Cup qualification']\n",
    "Egypt_WC"
   ]
  },
  {
   "cell_type": "code",
   "execution_count": 2293,
   "metadata": {},
   "outputs": [
    {
     "data": {
      "text/plain": [
       "win     0.823529\n",
       "lose    0.098039\n",
       "draw    0.078431\n",
       "Name: result, dtype: float64"
      ]
     },
     "execution_count": 2293,
     "metadata": {},
     "output_type": "execute_result"
    }
   ],
   "source": [
    "Egypt_WC['result'].value_counts(normalize=True)"
   ]
  },
  {
   "cell_type": "code",
   "execution_count": 2294,
   "metadata": {},
   "outputs": [],
   "source": [
    "Egypt_WC_Probs=Egypt_WC['result'].value_counts(normalize=True)"
   ]
  },
  {
   "cell_type": "markdown",
   "metadata": {},
   "source": [
    "### **Probability of Egypt Winning a match in The FIFA World cup qualifications**"
   ]
  },
  {
   "cell_type": "code",
   "execution_count": 2295,
   "metadata": {},
   "outputs": [
    {
     "data": {
      "text/plain": [
       "0.8235294117647058"
      ]
     },
     "execution_count": 2295,
     "metadata": {},
     "output_type": "execute_result"
    }
   ],
   "source": [
    "Egypt_WC_Probs[0]"
   ]
  },
  {
   "cell_type": "code",
   "execution_count": 2296,
   "metadata": {},
   "outputs": [],
   "source": [
    "f=Egypt_WC['result'].value_counts()"
   ]
  },
  {
   "cell_type": "code",
   "execution_count": 2297,
   "metadata": {},
   "outputs": [
    {
     "data": {
      "text/plain": [
       "array([42,  5,  4])"
      ]
     },
     "execution_count": 2297,
     "metadata": {},
     "output_type": "execute_result"
    }
   ],
   "source": [
    "f=np.array(f)\n",
    "f"
   ]
  },
  {
   "cell_type": "code",
   "execution_count": 2298,
   "metadata": {},
   "outputs": [
    {
     "data": {
      "text/plain": [
       "51"
      ]
     },
     "execution_count": 2298,
     "metadata": {},
     "output_type": "execute_result"
    }
   ],
   "source": [
    "N=f.sum()\n",
    "N"
   ]
  },
  {
   "cell_type": "code",
   "execution_count": 2299,
   "metadata": {},
   "outputs": [
    {
     "data": {
      "text/plain": [
       "(0.7189036274158941, 0.9281551961135176)"
      ]
     },
     "execution_count": 2299,
     "metadata": {},
     "output_type": "execute_result"
    }
   ],
   "source": [
    "CI_Egypt_WC_Win=proportion_confint(count=f[0],nobs=N,alpha=(1-.95))\n",
    "CI_Egypt_WC_Win"
   ]
  },
  {
   "cell_type": "markdown",
   "metadata": {},
   "source": [
    "#### As evident here, the mean probability of the Egyptian National Team winning a world cup qualification match is 0.823529. By computing the confidence interval too, it can be said that if applied on other future samples/matches, Egypt has a probability between (0.7189036274158941, 0.9281551961135176) of winning a match in The world cup qualifications. This might be due to the fact that Egypt is one of the most powerful African nations, therefore when The world cup qualifications are constructed Egypt usually has to face an African team after the drawing of lots, so, it occupies a high probability of winning. "
   ]
  },
  {
   "cell_type": "markdown",
   "metadata": {},
   "source": [
    "### **Probability of Egypt Losing a match in The FIFA World cup qualifications**"
   ]
  },
  {
   "cell_type": "code",
   "execution_count": 2300,
   "metadata": {},
   "outputs": [
    {
     "data": {
      "text/plain": [
       "0.09803921568627451"
      ]
     },
     "execution_count": 2300,
     "metadata": {},
     "output_type": "execute_result"
    }
   ],
   "source": [
    "Egypt_WC_Probs[1]"
   ]
  },
  {
   "cell_type": "code",
   "execution_count": 2301,
   "metadata": {},
   "outputs": [
    {
     "data": {
      "text/plain": [
       "(0.016426703796684955, 0.17965172757586406)"
      ]
     },
     "execution_count": 2301,
     "metadata": {},
     "output_type": "execute_result"
    }
   ],
   "source": [
    "CI_Egypt_WC_Lose=proportion_confint(count=f[1],nobs=N,alpha=(1-.95))\n",
    "CI_Egypt_WC_Lose"
   ]
  },
  {
   "cell_type": "markdown",
   "metadata": {},
   "source": [
    "#### As evident here, the mean probability of the Egyptian National Team losing a world cup qualification match is 0.09803921568627451. By computing the confidence interval too, it can be said that if applied on other future samples/matches, Egypt has a probability between (0.016426703796684955, 0.17965172757586406) of losing a match in The world cup qualifications.  "
   ]
  },
  {
   "cell_type": "markdown",
   "metadata": {},
   "source": [
    "### **Probability of Egypt drawing a match in The FIFA World cup qualifications**"
   ]
  },
  {
   "cell_type": "code",
   "execution_count": 2302,
   "metadata": {},
   "outputs": [
    {
     "data": {
      "text/plain": [
       "0.0784313725490196"
      ]
     },
     "execution_count": 2302,
     "metadata": {},
     "output_type": "execute_result"
    }
   ],
   "source": [
    "Egypt_WC_Probs[2]"
   ]
  },
  {
   "cell_type": "code",
   "execution_count": 2303,
   "metadata": {},
   "outputs": [
    {
     "data": {
      "text/plain": [
       "(0.004645749045858988, 0.15221699605218023)"
      ]
     },
     "execution_count": 2303,
     "metadata": {},
     "output_type": "execute_result"
    }
   ],
   "source": [
    "CI_Egypt_WC_Draw=proportion_confint(count=f[2],nobs=N,alpha=(1-.95))\n",
    "CI_Egypt_WC_Draw"
   ]
  },
  {
   "cell_type": "markdown",
   "metadata": {},
   "source": [
    "#### As evident here, the mean probability of the Egyptian National Team having a draw in a world cup qualification match is 0.0784313725490196. By computing the confidence interval too, it can be said that if applied on other future samples/matches, Egypt has a probability between (0.004645749045858988, 0.15221699605218023) of drawing a match in The world cup qualifications.  "
   ]
  },
  {
   "cell_type": "markdown",
   "metadata": {},
   "source": [
    "### **Egypt Winning in all tournaments vs. in World Cup Qualifications**"
   ]
  },
  {
   "cell_type": "code",
   "execution_count": 2304,
   "metadata": {},
   "outputs": [
    {
     "data": {
      "text/html": [
       "<div>\n",
       "<style scoped>\n",
       "    .dataframe tbody tr th:only-of-type {\n",
       "        vertical-align: middle;\n",
       "    }\n",
       "\n",
       "    .dataframe tbody tr th {\n",
       "        vertical-align: top;\n",
       "    }\n",
       "\n",
       "    .dataframe thead th {\n",
       "        text-align: right;\n",
       "    }\n",
       "</style>\n",
       "<table border=\"1\" class=\"dataframe\">\n",
       "  <thead>\n",
       "    <tr style=\"text-align: right;\">\n",
       "      <th></th>\n",
       "      <th>Tournaments</th>\n",
       "      <th>lb</th>\n",
       "      <th>ub</th>\n",
       "    </tr>\n",
       "  </thead>\n",
       "  <tbody>\n",
       "    <tr>\n",
       "      <th>0</th>\n",
       "      <td>All Tournaments</td>\n",
       "      <td>0.536894</td>\n",
       "      <td>0.632639</td>\n",
       "    </tr>\n",
       "    <tr>\n",
       "      <th>1</th>\n",
       "      <td>FIFA World Cup Qualifications</td>\n",
       "      <td>0.718904</td>\n",
       "      <td>0.928155</td>\n",
       "    </tr>\n",
       "  </tbody>\n",
       "</table>\n",
       "</div>"
      ],
      "text/plain": [
       "                     Tournaments        lb        ub\n",
       "0                All Tournaments  0.536894  0.632639\n",
       "1  FIFA World Cup Qualifications  0.718904  0.928155"
      ]
     },
     "execution_count": 2304,
     "metadata": {},
     "output_type": "execute_result"
    }
   ],
   "source": [
    "ci_egywin = {}\n",
    "ci_egywin['Tournaments'] = ['All Tournaments','FIFA World Cup Qualifications']\n",
    "ci_egywin['lb'] = [CI_Egypt_Win[0],CI_Egypt_WC_Win[0]]\n",
    "ci_egywin['ub'] = [CI_Egypt_Win[1],CI_Egypt_WC_Win[1]]\n",
    "df_ci= pd.DataFrame(ci_egywin)\n",
    "df_ci"
   ]
  },
  {
   "cell_type": "code",
   "execution_count": 2305,
   "metadata": {},
   "outputs": [
    {
     "data": {
      "text/plain": [
       "([<matplotlib.axis.YTick at 0x7f7eba5e47c0>,\n",
       "  <matplotlib.axis.YTick at 0x7f7eba5e4040>],\n",
       " [Text(0, 0, 'All Tournaments'), Text(0, 1, 'FIFA World Cup Qualifications')])"
      ]
     },
     "execution_count": 2305,
     "metadata": {},
     "output_type": "execute_result"
    },
    {
     "data": {
      "image/png": "[encoded data removed]",
      "text/plain": [
       "<Figure size 432x288 with 1 Axes>"
      ]
     },
     "metadata": {
      "needs_background": "light"
     },
     "output_type": "display_data"
    }
   ],
   "source": [
    "import matplotlib.pyplot as plt\n",
    "for lb,ub,y in zip(df_ci['lb'],df_ci['ub'],range(len(df_ci))):\n",
    "    plt.plot((lb,ub),(y,y),'ro-')\n",
    "plt.yticks(range(len(df_ci)),list(df_ci['Tournaments']))"
   ]
  },
  {
   "cell_type": "markdown",
   "metadata": {},
   "source": [
    "#### As shown in the graph above, Egypt has a higher/greater and long confidence interval therefore a greater probability of winning in FIFA World Cup Qualifications. Unlike in the world cup qualifications, in all tournaments all together, egypt has a lower and shorter confidence interval therefore a lower probability than that of the world cup qualifications but still higher than 0.5 which is not very low. The high probability of winning in the world cup qualifications could be explained by the fact that Egypt already occupies a high probability of winning a world cup qualification match; however, the number of world cup qualifications alone is insignificant compared to the number of matches Egypt played in all other tournaments, and, logically, when the number of matches is greater this means that the number of losses increases which impacts the overall probability of winning. "
   ]
  },
  {
   "cell_type": "markdown",
   "metadata": {},
   "source": [
    "### **Probability of Egypt Winning/Losing/having a draw in a Friendly match vs. an Offical match**"
   ]
  },
  {
   "cell_type": "code",
   "execution_count": 2306,
   "metadata": {},
   "outputs": [
    {
     "data": {
      "text/html": [
       "<div>\n",
       "<style scoped>\n",
       "    .dataframe tbody tr th:only-of-type {\n",
       "        vertical-align: middle;\n",
       "    }\n",
       "\n",
       "    .dataframe tbody tr th {\n",
       "        vertical-align: top;\n",
       "    }\n",
       "\n",
       "    .dataframe thead th {\n",
       "        text-align: right;\n",
       "    }\n",
       "</style>\n",
       "<table border=\"1\" class=\"dataframe\">\n",
       "  <thead>\n",
       "    <tr style=\"text-align: right;\">\n",
       "      <th></th>\n",
       "      <th>date</th>\n",
       "      <th>home_team</th>\n",
       "      <th>away_team</th>\n",
       "      <th>home_score</th>\n",
       "      <th>away_score</th>\n",
       "      <th>tournament</th>\n",
       "      <th>city</th>\n",
       "      <th>country</th>\n",
       "      <th>neutral</th>\n",
       "      <th>result</th>\n",
       "    </tr>\n",
       "  </thead>\n",
       "  <tbody>\n",
       "    <tr>\n",
       "      <th>1463</th>\n",
       "      <td>2/19/1932</td>\n",
       "      <td>Egypt</td>\n",
       "      <td>Hungary</td>\n",
       "      <td>0</td>\n",
       "      <td>0</td>\n",
       "      <td>Friendly</td>\n",
       "      <td>Cairo</td>\n",
       "      <td>Egypt</td>\n",
       "      <td>False</td>\n",
       "      <td>draw</td>\n",
       "    </tr>\n",
       "    <tr>\n",
       "      <th>1661</th>\n",
       "      <td>3/16/1934</td>\n",
       "      <td>Egypt</td>\n",
       "      <td>Israel</td>\n",
       "      <td>7</td>\n",
       "      <td>1</td>\n",
       "      <td>FIFA World Cup qualification</td>\n",
       "      <td>Cairo</td>\n",
       "      <td>Egypt</td>\n",
       "      <td>False</td>\n",
       "      <td>win</td>\n",
       "    </tr>\n",
       "    <tr>\n",
       "      <th>1895</th>\n",
       "      <td>6/19/1936</td>\n",
       "      <td>Egypt</td>\n",
       "      <td>Greece</td>\n",
       "      <td>3</td>\n",
       "      <td>1</td>\n",
       "      <td>Friendly</td>\n",
       "      <td>Cairo</td>\n",
       "      <td>Egypt</td>\n",
       "      <td>False</td>\n",
       "      <td>win</td>\n",
       "    </tr>\n",
       "    <tr>\n",
       "      <th>2927</th>\n",
       "      <td>12/24/1948</td>\n",
       "      <td>Egypt</td>\n",
       "      <td>Norway</td>\n",
       "      <td>1</td>\n",
       "      <td>1</td>\n",
       "      <td>Friendly</td>\n",
       "      <td>Cairo</td>\n",
       "      <td>Egypt</td>\n",
       "      <td>False</td>\n",
       "      <td>draw</td>\n",
       "    </tr>\n",
       "    <tr>\n",
       "      <th>3080</th>\n",
       "      <td>2/17/1950</td>\n",
       "      <td>Egypt</td>\n",
       "      <td>Greece</td>\n",
       "      <td>2</td>\n",
       "      <td>0</td>\n",
       "      <td>Friendly</td>\n",
       "      <td>Cairo</td>\n",
       "      <td>Egypt</td>\n",
       "      <td>False</td>\n",
       "      <td>win</td>\n",
       "    </tr>\n",
       "  </tbody>\n",
       "</table>\n",
       "</div>"
      ],
      "text/plain": [
       "            date home_team away_team  home_score  away_score  \\\n",
       "1463   2/19/1932     Egypt   Hungary           0           0   \n",
       "1661   3/16/1934     Egypt    Israel           7           1   \n",
       "1895   6/19/1936     Egypt    Greece           3           1   \n",
       "2927  12/24/1948     Egypt    Norway           1           1   \n",
       "3080   2/17/1950     Egypt    Greece           2           0   \n",
       "\n",
       "                        tournament   city country  neutral result  \n",
       "1463                      Friendly  Cairo   Egypt    False   draw  \n",
       "1661  FIFA World Cup qualification  Cairo   Egypt    False    win  \n",
       "1895                      Friendly  Cairo   Egypt    False    win  \n",
       "2927                      Friendly  Cairo   Egypt    False   draw  \n",
       "3080                      Friendly  Cairo   Egypt    False    win  "
      ]
     },
     "execution_count": 2306,
     "metadata": {},
     "output_type": "execute_result"
    }
   ],
   "source": [
    "Egypt.head()"
   ]
  },
  {
   "cell_type": "code",
   "execution_count": 2307,
   "metadata": {},
   "outputs": [],
   "source": [
    "conditions = [\n",
    "    (Egypt['tournament']=='Friendly'),\n",
    "    (Egypt['tournament']!='Friendly') ]"
   ]
  },
  {
   "cell_type": "code",
   "execution_count": 2308,
   "metadata": {},
   "outputs": [],
   "source": [
    "values=['Friendly','Official']"
   ]
  },
  {
   "cell_type": "code",
   "execution_count": 2309,
   "metadata": {},
   "outputs": [
    {
     "name": "stdout",
     "output_type": "stream",
     "text": [
      "['Friendly' 'Official' 'Friendly' 'Friendly' 'Friendly' 'Friendly'\n",
      " 'Official' 'Friendly' 'Friendly' 'Friendly' 'Friendly' 'Friendly'\n",
      " 'Friendly' 'Friendly' 'Friendly' 'Friendly' 'Official' 'Friendly'\n",
      " 'Friendly' 'Official' 'Official' 'Official' 'Official' 'Official'\n",
      " 'Official' 'Official' 'Official' 'Official' 'Official' 'Official'\n",
      " 'Official' 'Official' 'Official' 'Official' 'Official' 'Official'\n",
      " 'Official' 'Official' 'Official' 'Official' 'Official' 'Official'\n",
      " 'Official' 'Official' 'Official' 'Friendly' 'Friendly' 'Friendly'\n",
      " 'Friendly' 'Official' 'Friendly' 'Official' 'Friendly' 'Friendly'\n",
      " 'Friendly' 'Friendly' 'Friendly' 'Official' 'Friendly' 'Friendly'\n",
      " 'Friendly' 'Friendly' 'Friendly' 'Official' 'Official' 'Friendly'\n",
      " 'Friendly' 'Friendly' 'Friendly' 'Official' 'Official' 'Official'\n",
      " 'Official' 'Official' 'Official' 'Official' 'Official' 'Official'\n",
      " 'Official' 'Official' 'Official' 'Official' 'Official' 'Official'\n",
      " 'Official' 'Friendly' 'Friendly' 'Official' 'Friendly' 'Friendly'\n",
      " 'Friendly' 'Official' 'Friendly' 'Official' 'Official' 'Official'\n",
      " 'Official' 'Friendly' 'Friendly' 'Friendly' 'Friendly' 'Friendly'\n",
      " 'Friendly' 'Official' 'Official' 'Official' 'Friendly' 'Friendly'\n",
      " 'Friendly' 'Friendly' 'Friendly' 'Friendly' 'Friendly' 'Friendly'\n",
      " 'Friendly' 'Friendly' 'Friendly' 'Friendly' 'Friendly' 'Friendly'\n",
      " 'Friendly' 'Friendly' 'Friendly' 'Friendly' 'Friendly' 'Friendly'\n",
      " 'Friendly' 'Friendly' 'Friendly' 'Friendly' 'Official' 'Friendly'\n",
      " 'Friendly' 'Official' 'Official' 'Official' 'Friendly' 'Friendly'\n",
      " 'Friendly' 'Friendly' 'Friendly' 'Friendly' 'Official' 'Official'\n",
      " 'Friendly' 'Official' 'Official' 'Friendly' 'Friendly' 'Official'\n",
      " 'Friendly' 'Official' 'Official' 'Official' 'Official' 'Friendly'\n",
      " 'Friendly' 'Friendly' 'Friendly' 'Friendly' 'Friendly' 'Friendly'\n",
      " 'Friendly' 'Friendly' 'Friendly' 'Friendly' 'Official' 'Official'\n",
      " 'Friendly' 'Friendly' 'Official' 'Friendly' 'Friendly' 'Official'\n",
      " 'Friendly' 'Official' 'Official' 'Friendly' 'Friendly' 'Friendly'\n",
      " 'Friendly' 'Friendly' 'Official' 'Official' 'Friendly' 'Friendly'\n",
      " 'Friendly' 'Friendly' 'Friendly' 'Friendly' 'Friendly' 'Friendly'\n",
      " 'Friendly' 'Friendly' 'Official' 'Official' 'Friendly' 'Friendly'\n",
      " 'Friendly' 'Friendly' 'Friendly' 'Friendly' 'Friendly' 'Friendly'\n",
      " 'Friendly' 'Official' 'Official' 'Friendly' 'Friendly' 'Friendly'\n",
      " 'Official' 'Official' 'Official' 'Friendly' 'Friendly' 'Friendly'\n",
      " 'Friendly' 'Friendly' 'Friendly' 'Friendly' 'Official' 'Official'\n",
      " 'Official' 'Official' 'Official' 'Official' 'Official' 'Official'\n",
      " 'Official' 'Official' 'Official' 'Official' 'Official' 'Official'\n",
      " 'Official' 'Official' 'Official' 'Official' 'Official' 'Official'\n",
      " 'Official' 'Official' 'Official' 'Official' 'Official' 'Official'\n",
      " 'Official' 'Official' 'Official' 'Official' 'Official' 'Official'\n",
      " 'Friendly' 'Official' 'Friendly' 'Official' 'Official' 'Friendly'\n",
      " 'Friendly' 'Official' 'Official' 'Official' 'Official' 'Official'\n",
      " 'Friendly' 'Friendly' 'Friendly' 'Official' 'Friendly' 'Friendly'\n",
      " 'Friendly' 'Friendly' 'Friendly' 'Friendly' 'Official' 'Friendly'\n",
      " 'Friendly' 'Official' 'Friendly' 'Friendly' 'Friendly' 'Friendly'\n",
      " 'Official' 'Official' 'Official' 'Official' 'Official' 'Official'\n",
      " 'Official' 'Official' 'Official' 'Official' 'Official' 'Official'\n",
      " 'Official' 'Official' 'Official' 'Official' 'Official' 'Friendly'\n",
      " 'Friendly' 'Official' 'Friendly' 'Official' 'Friendly' 'Friendly'\n",
      " 'Official' 'Friendly' 'Friendly' 'Official' 'Friendly' 'Official'\n",
      " 'Official' 'Official' 'Friendly' 'Friendly' 'Official' 'Official'\n",
      " 'Official' 'Friendly' 'Friendly' 'Friendly' 'Official' 'Official'\n",
      " 'Friendly' 'Official' 'Friendly' 'Friendly' 'Friendly' 'Friendly'\n",
      " 'Friendly' 'Official' 'Official' 'Official' 'Official' 'Official'\n",
      " 'Official' 'Official' 'Friendly' 'Friendly' 'Friendly' 'Friendly'\n",
      " 'Official' 'Official' 'Official' 'Official' 'Official' 'Official'\n",
      " 'Official' 'Official' 'Official' 'Official' 'Official' 'Official'\n",
      " 'Official' 'Official' 'Official' 'Official' 'Official' 'Official'\n",
      " 'Official' 'Official' 'Official' 'Official' 'Official' 'Official'\n",
      " 'Official' 'Official' 'Official' 'Official' 'Official' 'Official'\n",
      " 'Official' 'Official' 'Official' 'Official' 'Official' 'Official'\n",
      " 'Official' 'Official' 'Official' 'Official' 'Official' 'Official'\n",
      " 'Official' 'Official' 'Official' 'Official' 'Official' 'Official'\n",
      " 'Official' 'Official' 'Official' 'Official' 'Friendly' 'Friendly'\n",
      " 'Friendly' 'Official' 'Friendly' 'Friendly' 'Official' 'Official'\n",
      " 'Official' 'Friendly' 'Official' 'Official' 'Official']\n"
     ]
    },
    {
     "name": "stderr",
     "output_type": "stream",
     "text": [
      "/var/folders/9q/fl3yp7ld2v509vxm_rdry_8r0000gn/T/ipykernel_1060/169254995.py:1: SettingWithCopyWarning: \n",
      "A value is trying to be set on a copy of a slice from a DataFrame.\n",
      "Try using .loc[row_indexer,col_indexer] = value instead\n",
      "\n",
      "See the caveats in the documentation: https://pandas.pydata.org/pandas-docs/stable/user_guide/indexing.html#returning-a-view-versus-a-copy\n",
      "  Egypt_typematch=Egypt['typematch'] = np.select(conditions, values)\n"
     ]
    }
   ],
   "source": [
    "Egypt_typematch=Egypt['typematch'] = np.select(conditions, values)\n",
    "print(Egypt_typematch)"
   ]
  },
  {
   "cell_type": "code",
   "execution_count": 2310,
   "metadata": {},
   "outputs": [
    {
     "data": {
      "text/plain": [
       "Official    226\n",
       "Friendly    181\n",
       "Name: typematch, dtype: int64"
      ]
     },
     "execution_count": 2310,
     "metadata": {},
     "output_type": "execute_result"
    }
   ],
   "source": [
    "Egypt['typematch'].value_counts()"
   ]
  },
  {
   "cell_type": "code",
   "execution_count": 2311,
   "metadata": {},
   "outputs": [
    {
     "data": {
      "text/html": [
       "<div>\n",
       "<style scoped>\n",
       "    .dataframe tbody tr th:only-of-type {\n",
       "        vertical-align: middle;\n",
       "    }\n",
       "\n",
       "    .dataframe tbody tr th {\n",
       "        vertical-align: top;\n",
       "    }\n",
       "\n",
       "    .dataframe thead th {\n",
       "        text-align: right;\n",
       "    }\n",
       "</style>\n",
       "<table border=\"1\" class=\"dataframe\">\n",
       "  <thead>\n",
       "    <tr style=\"text-align: right;\">\n",
       "      <th>result</th>\n",
       "      <th>draw</th>\n",
       "      <th>lose</th>\n",
       "      <th>win</th>\n",
       "      <th>All</th>\n",
       "    </tr>\n",
       "    <tr>\n",
       "      <th>typematch</th>\n",
       "      <th></th>\n",
       "      <th></th>\n",
       "      <th></th>\n",
       "      <th></th>\n",
       "    </tr>\n",
       "  </thead>\n",
       "  <tbody>\n",
       "    <tr>\n",
       "      <th>Friendly</th>\n",
       "      <td>37</td>\n",
       "      <td>45</td>\n",
       "      <td>99</td>\n",
       "      <td>181</td>\n",
       "    </tr>\n",
       "    <tr>\n",
       "      <th>Official</th>\n",
       "      <td>40</td>\n",
       "      <td>47</td>\n",
       "      <td>139</td>\n",
       "      <td>226</td>\n",
       "    </tr>\n",
       "    <tr>\n",
       "      <th>All</th>\n",
       "      <td>77</td>\n",
       "      <td>92</td>\n",
       "      <td>238</td>\n",
       "      <td>407</td>\n",
       "    </tr>\n",
       "  </tbody>\n",
       "</table>\n",
       "</div>"
      ],
      "text/plain": [
       "result     draw  lose  win  All\n",
       "typematch                      \n",
       "Friendly     37    45   99  181\n",
       "Official     40    47  139  226\n",
       "All          77    92  238  407"
      ]
     },
     "execution_count": 2311,
     "metadata": {},
     "output_type": "execute_result"
    }
   ],
   "source": [
    "x=pd.crosstab(Egypt['typematch'],Egypt['result'],margins=True)\n",
    "x"
   ]
  },
  {
   "cell_type": "code",
   "execution_count": 2312,
   "metadata": {},
   "outputs": [
    {
     "data": {
      "text/plain": [
       "array([[ 37,  45,  99, 181],\n",
       "       [ 40,  47, 139, 226],\n",
       "       [ 77,  92, 238, 407]])"
      ]
     },
     "execution_count": 2312,
     "metadata": {},
     "output_type": "execute_result"
    }
   ],
   "source": [
    "x=np.array(x)\n",
    "x"
   ]
  },
  {
   "cell_type": "markdown",
   "metadata": {},
   "source": [
    "### **Confidence Interval of Probability of Egypt Winning a Friendly Match**"
   ]
  },
  {
   "cell_type": "code",
   "execution_count": 2313,
   "metadata": {},
   "outputs": [
    {
     "data": {
      "text/plain": [
       "(0.4744418341319208, 0.619480817801781)"
      ]
     },
     "execution_count": 2313,
     "metadata": {},
     "output_type": "execute_result"
    }
   ],
   "source": [
    "CI_Egypt_Win_Friendly=proportion_confint(count=x[0,2],nobs=x[0,3],alpha=(1-.95))\n",
    "CI_Egypt_Win_Friendly"
   ]
  },
  {
   "cell_type": "markdown",
   "metadata": {},
   "source": [
    "#### When applied on future data, Egypt has a probability between (0.4744418341319208, 0.619480817801781) of winning a friendly match."
   ]
  },
  {
   "cell_type": "markdown",
   "metadata": {},
   "source": [
    "### **Confidence Interval of Probability of Egypt Winning an Official Match**"
   ]
  },
  {
   "cell_type": "code",
   "execution_count": 2314,
   "metadata": {},
   "outputs": [
    {
     "data": {
      "text/plain": [
       "(0.5516058130564923, 0.6784826825187289)"
      ]
     },
     "execution_count": 2314,
     "metadata": {},
     "output_type": "execute_result"
    }
   ],
   "source": [
    "CI_Egypt_Win_Official=proportion_confint(count=x[1,2],nobs=x[1,3],alpha=(1-.95))\n",
    "CI_Egypt_Win_Official"
   ]
  },
  {
   "cell_type": "markdown",
   "metadata": {},
   "source": [
    "#### When applied on future data, Egypt has a probability between (0.5516058130564923, 0.6784826825187289) of winning an official match."
   ]
  },
  {
   "cell_type": "markdown",
   "metadata": {},
   "source": [
    "### **Confidence Interval of Probability of Egypt Winning a Friendly Match vs an Official Match**"
   ]
  },
  {
   "cell_type": "code",
   "execution_count": 2315,
   "metadata": {},
   "outputs": [
    {
     "data": {
      "text/html": [
       "<div>\n",
       "<style scoped>\n",
       "    .dataframe tbody tr th:only-of-type {\n",
       "        vertical-align: middle;\n",
       "    }\n",
       "\n",
       "    .dataframe tbody tr th {\n",
       "        vertical-align: top;\n",
       "    }\n",
       "\n",
       "    .dataframe thead th {\n",
       "        text-align: right;\n",
       "    }\n",
       "</style>\n",
       "<table border=\"1\" class=\"dataframe\">\n",
       "  <thead>\n",
       "    <tr style=\"text-align: right;\">\n",
       "      <th></th>\n",
       "      <th>Typematch</th>\n",
       "      <th>lb</th>\n",
       "      <th>ub</th>\n",
       "    </tr>\n",
       "  </thead>\n",
       "  <tbody>\n",
       "    <tr>\n",
       "      <th>0</th>\n",
       "      <td>Friendly</td>\n",
       "      <td>0.474442</td>\n",
       "      <td>0.619481</td>\n",
       "    </tr>\n",
       "    <tr>\n",
       "      <th>1</th>\n",
       "      <td>Official</td>\n",
       "      <td>0.551606</td>\n",
       "      <td>0.678483</td>\n",
       "    </tr>\n",
       "  </tbody>\n",
       "</table>\n",
       "</div>"
      ],
      "text/plain": [
       "  Typematch        lb        ub\n",
       "0  Friendly  0.474442  0.619481\n",
       "1  Official  0.551606  0.678483"
      ]
     },
     "execution_count": 2315,
     "metadata": {},
     "output_type": "execute_result"
    }
   ],
   "source": [
    "ci_egywin = {}\n",
    "ci_egywin['Typematch'] = ['Friendly','Official']\n",
    "ci_egywin['lb'] = [CI_Egypt_Win_Friendly[0],CI_Egypt_Win_Official[0]]\n",
    "ci_egywin['ub'] = [CI_Egypt_Win_Friendly[1],CI_Egypt_Win_Official[1]]\n",
    "df_ci= pd.DataFrame(ci_egywin)\n",
    "df_ci"
   ]
  },
  {
   "cell_type": "code",
   "execution_count": 2316,
   "metadata": {},
   "outputs": [
    {
     "data": {
      "text/plain": [
       "([<matplotlib.axis.YTick at 0x7f7eba6080a0>,\n",
       "  <matplotlib.axis.YTick at 0x7f7eb5a10700>],\n",
       " [Text(0, 0, 'Friendly'), Text(0, 1, 'Official')])"
      ]
     },
     "execution_count": 2316,
     "metadata": {},
     "output_type": "execute_result"
    },
    {
     "data": {
      "image/png": "[encoded data removed]",
      "text/plain": [
       "<Figure size 432x288 with 1 Axes>"
      ]
     },
     "metadata": {
      "needs_background": "light"
     },
     "output_type": "display_data"
    }
   ],
   "source": [
    "import matplotlib.pyplot as plt\n",
    "for lb,ub,y in zip(df_ci['lb'],df_ci['ub'],range(len(df_ci))):\n",
    "    plt.plot((lb,ub),(y,y),'ro-')\n",
    "plt.yticks(range(len(df_ci)),list(df_ci['Typematch']))"
   ]
  },
  {
   "cell_type": "markdown",
   "metadata": {},
   "source": [
    "#### As evident here, the confidence intervals of winning an official match and a friendly match intersect. This means that there is a high chance of Egypt having the same probability in both winning an official match and a friendly match. The only difference is that Egypt may have a chance higher than approximately 0.619480817801781 of winning an official match until 0.6784826825187289, while the probability of winning a friendly match has a max of 0.619480817801781; and the minimum probability of winning an official match has a minimum of 0.5516058130564923, while the minimum probability of winning a friendly match is 0.4744418341319208. In conclusion, this basically means that Egypt occupies a higher probability of winning an official match than a friendly match. The reason why Egypt might have a higher probability of winning an official match is that official matches most of the time are taken more seriously than friendly matches since the score matters the most in real tournaments. Added to that, the team captain usually experiments with different lineups during friendly matches and that might cause a  decline in performance than the usual performance with the usual lineup."
   ]
  },
  {
   "cell_type": "markdown",
   "metadata": {},
   "source": [
    "### **Probabilitiy of Egypt Winning at Home vs Winning Away**"
   ]
  },
  {
   "cell_type": "code",
   "execution_count": 2317,
   "metadata": {},
   "outputs": [
    {
     "name": "stderr",
     "output_type": "stream",
     "text": [
      "/var/folders/9q/fl3yp7ld2v509vxm_rdry_8r0000gn/T/ipykernel_1060/955588134.py:1: SettingWithCopyWarning: \n",
      "A value is trying to be set on a copy of a slice from a DataFrame.\n",
      "Try using .loc[row_indexer,col_indexer] = value instead\n",
      "\n",
      "See the caveats in the documentation: https://pandas.pydata.org/pandas-docs/stable/user_guide/indexing.html#returning-a-view-versus-a-copy\n",
      "  Egypt['home']=(Egypt['home_team']=='Egypt')\n"
     ]
    }
   ],
   "source": [
    "Egypt['home']=(Egypt['home_team']=='Egypt')"
   ]
  },
  {
   "cell_type": "code",
   "execution_count": 2318,
   "metadata": {},
   "outputs": [
    {
     "data": {
      "text/plain": [
       "True     258\n",
       "False    149\n",
       "Name: home, dtype: int64"
      ]
     },
     "execution_count": 2318,
     "metadata": {},
     "output_type": "execute_result"
    }
   ],
   "source": [
    "Egypt['home'].value_counts()"
   ]
  },
  {
   "cell_type": "code",
   "execution_count": 2319,
   "metadata": {},
   "outputs": [
    {
     "data": {
      "text/html": [
       "<div>\n",
       "<style scoped>\n",
       "    .dataframe tbody tr th:only-of-type {\n",
       "        vertical-align: middle;\n",
       "    }\n",
       "\n",
       "    .dataframe tbody tr th {\n",
       "        vertical-align: top;\n",
       "    }\n",
       "\n",
       "    .dataframe thead th {\n",
       "        text-align: right;\n",
       "    }\n",
       "</style>\n",
       "<table border=\"1\" class=\"dataframe\">\n",
       "  <thead>\n",
       "    <tr style=\"text-align: right;\">\n",
       "      <th></th>\n",
       "      <th>date</th>\n",
       "      <th>home_team</th>\n",
       "      <th>away_team</th>\n",
       "      <th>home_score</th>\n",
       "      <th>away_score</th>\n",
       "      <th>tournament</th>\n",
       "      <th>city</th>\n",
       "      <th>country</th>\n",
       "      <th>neutral</th>\n",
       "      <th>result</th>\n",
       "      <th>typematch</th>\n",
       "      <th>home</th>\n",
       "    </tr>\n",
       "  </thead>\n",
       "  <tbody>\n",
       "    <tr>\n",
       "      <th>1463</th>\n",
       "      <td>2/19/1932</td>\n",
       "      <td>Egypt</td>\n",
       "      <td>Hungary</td>\n",
       "      <td>0</td>\n",
       "      <td>0</td>\n",
       "      <td>Friendly</td>\n",
       "      <td>Cairo</td>\n",
       "      <td>Egypt</td>\n",
       "      <td>False</td>\n",
       "      <td>draw</td>\n",
       "      <td>Friendly</td>\n",
       "      <td>True</td>\n",
       "    </tr>\n",
       "    <tr>\n",
       "      <th>1661</th>\n",
       "      <td>3/16/1934</td>\n",
       "      <td>Egypt</td>\n",
       "      <td>Israel</td>\n",
       "      <td>7</td>\n",
       "      <td>1</td>\n",
       "      <td>FIFA World Cup qualification</td>\n",
       "      <td>Cairo</td>\n",
       "      <td>Egypt</td>\n",
       "      <td>False</td>\n",
       "      <td>win</td>\n",
       "      <td>Official</td>\n",
       "      <td>True</td>\n",
       "    </tr>\n",
       "    <tr>\n",
       "      <th>1895</th>\n",
       "      <td>6/19/1936</td>\n",
       "      <td>Egypt</td>\n",
       "      <td>Greece</td>\n",
       "      <td>3</td>\n",
       "      <td>1</td>\n",
       "      <td>Friendly</td>\n",
       "      <td>Cairo</td>\n",
       "      <td>Egypt</td>\n",
       "      <td>False</td>\n",
       "      <td>win</td>\n",
       "      <td>Friendly</td>\n",
       "      <td>True</td>\n",
       "    </tr>\n",
       "    <tr>\n",
       "      <th>2927</th>\n",
       "      <td>12/24/1948</td>\n",
       "      <td>Egypt</td>\n",
       "      <td>Norway</td>\n",
       "      <td>1</td>\n",
       "      <td>1</td>\n",
       "      <td>Friendly</td>\n",
       "      <td>Cairo</td>\n",
       "      <td>Egypt</td>\n",
       "      <td>False</td>\n",
       "      <td>draw</td>\n",
       "      <td>Friendly</td>\n",
       "      <td>True</td>\n",
       "    </tr>\n",
       "    <tr>\n",
       "      <th>3080</th>\n",
       "      <td>2/17/1950</td>\n",
       "      <td>Egypt</td>\n",
       "      <td>Greece</td>\n",
       "      <td>2</td>\n",
       "      <td>0</td>\n",
       "      <td>Friendly</td>\n",
       "      <td>Cairo</td>\n",
       "      <td>Egypt</td>\n",
       "      <td>False</td>\n",
       "      <td>win</td>\n",
       "      <td>Friendly</td>\n",
       "      <td>True</td>\n",
       "    </tr>\n",
       "    <tr>\n",
       "      <th>...</th>\n",
       "      <td>...</td>\n",
       "      <td>...</td>\n",
       "      <td>...</td>\n",
       "      <td>...</td>\n",
       "      <td>...</td>\n",
       "      <td>...</td>\n",
       "      <td>...</td>\n",
       "      <td>...</td>\n",
       "      <td>...</td>\n",
       "      <td>...</td>\n",
       "      <td>...</td>\n",
       "      <td>...</td>\n",
       "    </tr>\n",
       "    <tr>\n",
       "      <th>42590</th>\n",
       "      <td>9/1/2021</td>\n",
       "      <td>Egypt</td>\n",
       "      <td>Angola</td>\n",
       "      <td>1</td>\n",
       "      <td>0</td>\n",
       "      <td>FIFA World Cup qualification</td>\n",
       "      <td>Cairo</td>\n",
       "      <td>Egypt</td>\n",
       "      <td>False</td>\n",
       "      <td>win</td>\n",
       "      <td>Official</td>\n",
       "      <td>True</td>\n",
       "    </tr>\n",
       "    <tr>\n",
       "      <th>42758</th>\n",
       "      <td>9/30/2021</td>\n",
       "      <td>Egypt</td>\n",
       "      <td>Liberia</td>\n",
       "      <td>2</td>\n",
       "      <td>0</td>\n",
       "      <td>Friendly</td>\n",
       "      <td>Alexandria</td>\n",
       "      <td>Egypt</td>\n",
       "      <td>False</td>\n",
       "      <td>win</td>\n",
       "      <td>Friendly</td>\n",
       "      <td>True</td>\n",
       "    </tr>\n",
       "    <tr>\n",
       "      <th>42812</th>\n",
       "      <td>10/8/2021</td>\n",
       "      <td>Egypt</td>\n",
       "      <td>Libya</td>\n",
       "      <td>1</td>\n",
       "      <td>0</td>\n",
       "      <td>FIFA World Cup qualification</td>\n",
       "      <td>Alexandria</td>\n",
       "      <td>Egypt</td>\n",
       "      <td>False</td>\n",
       "      <td>win</td>\n",
       "      <td>Official</td>\n",
       "      <td>True</td>\n",
       "    </tr>\n",
       "    <tr>\n",
       "      <th>42958</th>\n",
       "      <td>11/12/2021</td>\n",
       "      <td>Djibouti</td>\n",
       "      <td>Algeria</td>\n",
       "      <td>0</td>\n",
       "      <td>4</td>\n",
       "      <td>FIFA World Cup qualification</td>\n",
       "      <td>Cairo</td>\n",
       "      <td>Egypt</td>\n",
       "      <td>True</td>\n",
       "      <td>lose</td>\n",
       "      <td>Official</td>\n",
       "      <td>False</td>\n",
       "    </tr>\n",
       "    <tr>\n",
       "      <th>43040</th>\n",
       "      <td>11/16/2021</td>\n",
       "      <td>Egypt</td>\n",
       "      <td>Gabon</td>\n",
       "      <td>2</td>\n",
       "      <td>1</td>\n",
       "      <td>FIFA World Cup qualification</td>\n",
       "      <td>Alexandria</td>\n",
       "      <td>Egypt</td>\n",
       "      <td>False</td>\n",
       "      <td>win</td>\n",
       "      <td>Official</td>\n",
       "      <td>True</td>\n",
       "    </tr>\n",
       "  </tbody>\n",
       "</table>\n",
       "<p>407 rows × 12 columns</p>\n",
       "</div>"
      ],
      "text/plain": [
       "             date home_team away_team  home_score  away_score  \\\n",
       "1463    2/19/1932     Egypt   Hungary           0           0   \n",
       "1661    3/16/1934     Egypt    Israel           7           1   \n",
       "1895    6/19/1936     Egypt    Greece           3           1   \n",
       "2927   12/24/1948     Egypt    Norway           1           1   \n",
       "3080    2/17/1950     Egypt    Greece           2           0   \n",
       "...           ...       ...       ...         ...         ...   \n",
       "42590    9/1/2021     Egypt    Angola           1           0   \n",
       "42758   9/30/2021     Egypt   Liberia           2           0   \n",
       "42812   10/8/2021     Egypt     Libya           1           0   \n",
       "42958  11/12/2021  Djibouti   Algeria           0           4   \n",
       "43040  11/16/2021     Egypt     Gabon           2           1   \n",
       "\n",
       "                         tournament        city country  neutral result  \\\n",
       "1463                       Friendly       Cairo   Egypt    False   draw   \n",
       "1661   FIFA World Cup qualification       Cairo   Egypt    False    win   \n",
       "1895                       Friendly       Cairo   Egypt    False    win   \n",
       "2927                       Friendly       Cairo   Egypt    False   draw   \n",
       "3080                       Friendly       Cairo   Egypt    False    win   \n",
       "...                             ...         ...     ...      ...    ...   \n",
       "42590  FIFA World Cup qualification       Cairo   Egypt    False    win   \n",
       "42758                      Friendly  Alexandria   Egypt    False    win   \n",
       "42812  FIFA World Cup qualification  Alexandria   Egypt    False    win   \n",
       "42958  FIFA World Cup qualification       Cairo   Egypt     True   lose   \n",
       "43040  FIFA World Cup qualification  Alexandria   Egypt    False    win   \n",
       "\n",
       "      typematch   home  \n",
       "1463   Friendly   True  \n",
       "1661   Official   True  \n",
       "1895   Friendly   True  \n",
       "2927   Friendly   True  \n",
       "3080   Friendly   True  \n",
       "...         ...    ...  \n",
       "42590  Official   True  \n",
       "42758  Friendly   True  \n",
       "42812  Official   True  \n",
       "42958  Official  False  \n",
       "43040  Official   True  \n",
       "\n",
       "[407 rows x 12 columns]"
      ]
     },
     "execution_count": 2319,
     "metadata": {},
     "output_type": "execute_result"
    }
   ],
   "source": [
    "Egypt"
   ]
  },
  {
   "cell_type": "code",
   "execution_count": 2320,
   "metadata": {},
   "outputs": [
    {
     "data": {
      "text/html": [
       "<div>\n",
       "<style scoped>\n",
       "    .dataframe tbody tr th:only-of-type {\n",
       "        vertical-align: middle;\n",
       "    }\n",
       "\n",
       "    .dataframe tbody tr th {\n",
       "        vertical-align: top;\n",
       "    }\n",
       "\n",
       "    .dataframe thead th {\n",
       "        text-align: right;\n",
       "    }\n",
       "</style>\n",
       "<table border=\"1\" class=\"dataframe\">\n",
       "  <thead>\n",
       "    <tr style=\"text-align: right;\">\n",
       "      <th>result</th>\n",
       "      <th>draw</th>\n",
       "      <th>lose</th>\n",
       "      <th>win</th>\n",
       "      <th>All</th>\n",
       "    </tr>\n",
       "    <tr>\n",
       "      <th>home</th>\n",
       "      <th></th>\n",
       "      <th></th>\n",
       "      <th></th>\n",
       "      <th></th>\n",
       "    </tr>\n",
       "  </thead>\n",
       "  <tbody>\n",
       "    <tr>\n",
       "      <th>False</th>\n",
       "      <td>33</td>\n",
       "      <td>49</td>\n",
       "      <td>67</td>\n",
       "      <td>149</td>\n",
       "    </tr>\n",
       "    <tr>\n",
       "      <th>True</th>\n",
       "      <td>44</td>\n",
       "      <td>43</td>\n",
       "      <td>171</td>\n",
       "      <td>258</td>\n",
       "    </tr>\n",
       "    <tr>\n",
       "      <th>All</th>\n",
       "      <td>77</td>\n",
       "      <td>92</td>\n",
       "      <td>238</td>\n",
       "      <td>407</td>\n",
       "    </tr>\n",
       "  </tbody>\n",
       "</table>\n",
       "</div>"
      ],
      "text/plain": [
       "result  draw  lose  win  All\n",
       "home                        \n",
       "False     33    49   67  149\n",
       "True      44    43  171  258\n",
       "All       77    92  238  407"
      ]
     },
     "execution_count": 2320,
     "metadata": {},
     "output_type": "execute_result"
    }
   ],
   "source": [
    "x=pd.crosstab(Egypt['home'],Egypt['result'],margins=True)\n",
    "x"
   ]
  },
  {
   "cell_type": "code",
   "execution_count": 2321,
   "metadata": {},
   "outputs": [],
   "source": [
    "u=np.array(x)\n"
   ]
  },
  {
   "cell_type": "code",
   "execution_count": 2322,
   "metadata": {},
   "outputs": [
    {
     "data": {
      "text/plain": [
       "array([[ 33,  49,  67, 149],\n",
       "       [ 44,  43, 171, 258],\n",
       "       [ 77,  92, 238, 407]])"
      ]
     },
     "execution_count": 2322,
     "metadata": {},
     "output_type": "execute_result"
    }
   ],
   "source": [
    "u"
   ]
  },
  {
   "cell_type": "markdown",
   "metadata": {},
   "source": [
    "### **Probability of Egypt Winning at Home**"
   ]
  },
  {
   "cell_type": "code",
   "execution_count": 2323,
   "metadata": {},
   "outputs": [
    {
     "data": {
      "text/plain": [
       "(0.6051039288730269, 0.7204774664758102)"
      ]
     },
     "execution_count": 2323,
     "metadata": {},
     "output_type": "execute_result"
    }
   ],
   "source": [
    "CI_Egy_Win_Home=proportion_confint(count=u[1,2],nobs=u[1,3],alpha=(1-.95))\n",
    "CI_Egy_Win_Home"
   ]
  },
  {
   "cell_type": "markdown",
   "metadata": {},
   "source": [
    "#### This confidence interval shows that the probability of Egypt winning a match at home lies between (0.6051039288730269, 0.7204774664758102). "
   ]
  },
  {
   "cell_type": "markdown",
   "metadata": {},
   "source": [
    "### **Probability of Egypt Winning Away**"
   ]
  },
  {
   "cell_type": "code",
   "execution_count": 2324,
   "metadata": {},
   "outputs": [
    {
     "data": {
      "text/plain": [
       "(0.3697890350639206, 0.5295398239964821)"
      ]
     },
     "execution_count": 2324,
     "metadata": {},
     "output_type": "execute_result"
    }
   ],
   "source": [
    "CI_Egy_Win_Away=proportion_confint(count=u[0,2],nobs=u[0,3],alpha=(1-.95))\n",
    "CI_Egy_Win_Away"
   ]
  },
  {
   "cell_type": "markdown",
   "metadata": {},
   "source": [
    "#### This confidence interval shows that the probability of Egypt winning a match away lies between (0.3697890350639206, 0.5295398239964821). "
   ]
  },
  {
   "cell_type": "markdown",
   "metadata": {},
   "source": [
    "### **Confidence Interval of Probability of Egypt Winning at home vs away**"
   ]
  },
  {
   "cell_type": "code",
   "execution_count": 2325,
   "metadata": {},
   "outputs": [
    {
     "data": {
      "text/html": [
       "<div>\n",
       "<style scoped>\n",
       "    .dataframe tbody tr th:only-of-type {\n",
       "        vertical-align: middle;\n",
       "    }\n",
       "\n",
       "    .dataframe tbody tr th {\n",
       "        vertical-align: top;\n",
       "    }\n",
       "\n",
       "    .dataframe thead th {\n",
       "        text-align: right;\n",
       "    }\n",
       "</style>\n",
       "<table border=\"1\" class=\"dataframe\">\n",
       "  <thead>\n",
       "    <tr style=\"text-align: right;\">\n",
       "      <th></th>\n",
       "      <th>home</th>\n",
       "      <th>lb</th>\n",
       "      <th>ub</th>\n",
       "    </tr>\n",
       "  </thead>\n",
       "  <tbody>\n",
       "    <tr>\n",
       "      <th>0</th>\n",
       "      <td>Yes</td>\n",
       "      <td>0.605104</td>\n",
       "      <td>0.720477</td>\n",
       "    </tr>\n",
       "    <tr>\n",
       "      <th>1</th>\n",
       "      <td>No</td>\n",
       "      <td>0.369789</td>\n",
       "      <td>0.529540</td>\n",
       "    </tr>\n",
       "  </tbody>\n",
       "</table>\n",
       "</div>"
      ],
      "text/plain": [
       "  home        lb        ub\n",
       "0  Yes  0.605104  0.720477\n",
       "1   No  0.369789  0.529540"
      ]
     },
     "execution_count": 2325,
     "metadata": {},
     "output_type": "execute_result"
    }
   ],
   "source": [
    "ci_egywin = {}\n",
    "ci_egywin['home'] = ['Yes','No']\n",
    "ci_egywin['lb'] = [CI_Egy_Win_Home[0],CI_Egy_Win_Away[0]]\n",
    "ci_egywin['ub'] = [CI_Egy_Win_Home[1],CI_Egy_Win_Away[1]]\n",
    "df_ci= pd.DataFrame(ci_egywin)\n",
    "df_ci"
   ]
  },
  {
   "cell_type": "code",
   "execution_count": 2326,
   "metadata": {},
   "outputs": [
    {
     "data": {
      "text/plain": [
       "([<matplotlib.axis.YTick at 0x7f7ebbf58d60>,\n",
       "  <matplotlib.axis.YTick at 0x7f7ebbf58640>],\n",
       " [Text(0, 0, 'Yes'), Text(0, 1, 'No')])"
      ]
     },
     "execution_count": 2326,
     "metadata": {},
     "output_type": "execute_result"
    },
    {
     "data": {
      "image/png": "[encoded data removed]",
      "text/plain": [
       "<Figure size 432x288 with 1 Axes>"
      ]
     },
     "metadata": {
      "needs_background": "light"
     },
     "output_type": "display_data"
    }
   ],
   "source": [
    "for lb,ub,y in zip(df_ci['lb'],df_ci['ub'],range(len(df_ci))):\n",
    "    plt.plot((lb,ub),(y,y),'ro-')\n",
    "plt.yticks(range(len(df_ci)),list(df_ci['home']))"
   ]
  },
  {
   "cell_type": "markdown",
   "metadata": {},
   "source": [
    "#### This graph shows the confidence intervals of Egypt winning at home and away. As evident and shown in the graph, Egypt has a higher probability of winning a match at home. This could be explained by the fact that traveling distances to away lands are likely to cause fatigue, a decrease in sleep quality, and hydration. Moreover, Referees have been proven to subconsciously favor the home side. The atmosphere can be hostile when a team is away from its people. Also, the change in weather may be a huge factor, since a player's body is usually accustomed to the weather of his homeland or the place he lives in.\n"
   ]
  },
  {
   "cell_type": "markdown",
   "metadata": {},
   "source": [
    "### **Non-neutral and Neutral Venues Egypt**"
   ]
  },
  {
   "cell_type": "code",
   "execution_count": 2327,
   "id": "7915734d",
   "metadata": {},
   "outputs": [],
   "source": [
    "df_Noneutral_Egypt=df_noneutral[df_noneutral['country']=='Egypt']"
   ]
  },
  {
   "cell_type": "code",
   "execution_count": 2328,
   "metadata": {},
   "outputs": [
    {
     "data": {
      "text/html": [
       "<div>\n",
       "<style scoped>\n",
       "    .dataframe tbody tr th:only-of-type {\n",
       "        vertical-align: middle;\n",
       "    }\n",
       "\n",
       "    .dataframe tbody tr th {\n",
       "        vertical-align: top;\n",
       "    }\n",
       "\n",
       "    .dataframe thead th {\n",
       "        text-align: right;\n",
       "    }\n",
       "</style>\n",
       "<table border=\"1\" class=\"dataframe\">\n",
       "  <thead>\n",
       "    <tr style=\"text-align: right;\">\n",
       "      <th></th>\n",
       "      <th>date</th>\n",
       "      <th>home_team</th>\n",
       "      <th>away_team</th>\n",
       "      <th>home_score</th>\n",
       "      <th>away_score</th>\n",
       "      <th>tournament</th>\n",
       "      <th>city</th>\n",
       "      <th>country</th>\n",
       "      <th>neutral</th>\n",
       "      <th>result</th>\n",
       "    </tr>\n",
       "  </thead>\n",
       "  <tbody>\n",
       "    <tr>\n",
       "      <th>1463</th>\n",
       "      <td>2/19/1932</td>\n",
       "      <td>Egypt</td>\n",
       "      <td>Hungary</td>\n",
       "      <td>0</td>\n",
       "      <td>0</td>\n",
       "      <td>Friendly</td>\n",
       "      <td>Cairo</td>\n",
       "      <td>Egypt</td>\n",
       "      <td>False</td>\n",
       "      <td>draw</td>\n",
       "    </tr>\n",
       "    <tr>\n",
       "      <th>1661</th>\n",
       "      <td>3/16/1934</td>\n",
       "      <td>Egypt</td>\n",
       "      <td>Israel</td>\n",
       "      <td>7</td>\n",
       "      <td>1</td>\n",
       "      <td>FIFA World Cup qualification</td>\n",
       "      <td>Cairo</td>\n",
       "      <td>Egypt</td>\n",
       "      <td>False</td>\n",
       "      <td>win</td>\n",
       "    </tr>\n",
       "    <tr>\n",
       "      <th>1895</th>\n",
       "      <td>6/19/1936</td>\n",
       "      <td>Egypt</td>\n",
       "      <td>Greece</td>\n",
       "      <td>3</td>\n",
       "      <td>1</td>\n",
       "      <td>Friendly</td>\n",
       "      <td>Cairo</td>\n",
       "      <td>Egypt</td>\n",
       "      <td>False</td>\n",
       "      <td>win</td>\n",
       "    </tr>\n",
       "    <tr>\n",
       "      <th>2927</th>\n",
       "      <td>12/24/1948</td>\n",
       "      <td>Egypt</td>\n",
       "      <td>Norway</td>\n",
       "      <td>1</td>\n",
       "      <td>1</td>\n",
       "      <td>Friendly</td>\n",
       "      <td>Cairo</td>\n",
       "      <td>Egypt</td>\n",
       "      <td>False</td>\n",
       "      <td>draw</td>\n",
       "    </tr>\n",
       "    <tr>\n",
       "      <th>3080</th>\n",
       "      <td>2/17/1950</td>\n",
       "      <td>Egypt</td>\n",
       "      <td>Greece</td>\n",
       "      <td>2</td>\n",
       "      <td>0</td>\n",
       "      <td>Friendly</td>\n",
       "      <td>Cairo</td>\n",
       "      <td>Egypt</td>\n",
       "      <td>False</td>\n",
       "      <td>win</td>\n",
       "    </tr>\n",
       "    <tr>\n",
       "      <th>...</th>\n",
       "      <td>...</td>\n",
       "      <td>...</td>\n",
       "      <td>...</td>\n",
       "      <td>...</td>\n",
       "      <td>...</td>\n",
       "      <td>...</td>\n",
       "      <td>...</td>\n",
       "      <td>...</td>\n",
       "      <td>...</td>\n",
       "      <td>...</td>\n",
       "    </tr>\n",
       "    <tr>\n",
       "      <th>42165</th>\n",
       "      <td>3/29/2021</td>\n",
       "      <td>Egypt</td>\n",
       "      <td>Comoros</td>\n",
       "      <td>4</td>\n",
       "      <td>0</td>\n",
       "      <td>African Cup of Nations qualification</td>\n",
       "      <td>Cairo</td>\n",
       "      <td>Egypt</td>\n",
       "      <td>False</td>\n",
       "      <td>win</td>\n",
       "    </tr>\n",
       "    <tr>\n",
       "      <th>42590</th>\n",
       "      <td>9/1/2021</td>\n",
       "      <td>Egypt</td>\n",
       "      <td>Angola</td>\n",
       "      <td>1</td>\n",
       "      <td>0</td>\n",
       "      <td>FIFA World Cup qualification</td>\n",
       "      <td>Cairo</td>\n",
       "      <td>Egypt</td>\n",
       "      <td>False</td>\n",
       "      <td>win</td>\n",
       "    </tr>\n",
       "    <tr>\n",
       "      <th>42758</th>\n",
       "      <td>9/30/2021</td>\n",
       "      <td>Egypt</td>\n",
       "      <td>Liberia</td>\n",
       "      <td>2</td>\n",
       "      <td>0</td>\n",
       "      <td>Friendly</td>\n",
       "      <td>Alexandria</td>\n",
       "      <td>Egypt</td>\n",
       "      <td>False</td>\n",
       "      <td>win</td>\n",
       "    </tr>\n",
       "    <tr>\n",
       "      <th>42812</th>\n",
       "      <td>10/8/2021</td>\n",
       "      <td>Egypt</td>\n",
       "      <td>Libya</td>\n",
       "      <td>1</td>\n",
       "      <td>0</td>\n",
       "      <td>FIFA World Cup qualification</td>\n",
       "      <td>Alexandria</td>\n",
       "      <td>Egypt</td>\n",
       "      <td>False</td>\n",
       "      <td>win</td>\n",
       "    </tr>\n",
       "    <tr>\n",
       "      <th>43040</th>\n",
       "      <td>11/16/2021</td>\n",
       "      <td>Egypt</td>\n",
       "      <td>Gabon</td>\n",
       "      <td>2</td>\n",
       "      <td>1</td>\n",
       "      <td>FIFA World Cup qualification</td>\n",
       "      <td>Alexandria</td>\n",
       "      <td>Egypt</td>\n",
       "      <td>False</td>\n",
       "      <td>win</td>\n",
       "    </tr>\n",
       "  </tbody>\n",
       "</table>\n",
       "<p>258 rows × 10 columns</p>\n",
       "</div>"
      ],
      "text/plain": [
       "             date home_team away_team  home_score  away_score  \\\n",
       "1463    2/19/1932     Egypt   Hungary           0           0   \n",
       "1661    3/16/1934     Egypt    Israel           7           1   \n",
       "1895    6/19/1936     Egypt    Greece           3           1   \n",
       "2927   12/24/1948     Egypt    Norway           1           1   \n",
       "3080    2/17/1950     Egypt    Greece           2           0   \n",
       "...           ...       ...       ...         ...         ...   \n",
       "42165   3/29/2021     Egypt   Comoros           4           0   \n",
       "42590    9/1/2021     Egypt    Angola           1           0   \n",
       "42758   9/30/2021     Egypt   Liberia           2           0   \n",
       "42812   10/8/2021     Egypt     Libya           1           0   \n",
       "43040  11/16/2021     Egypt     Gabon           2           1   \n",
       "\n",
       "                                 tournament        city country  neutral  \\\n",
       "1463                               Friendly       Cairo   Egypt    False   \n",
       "1661           FIFA World Cup qualification       Cairo   Egypt    False   \n",
       "1895                               Friendly       Cairo   Egypt    False   \n",
       "2927                               Friendly       Cairo   Egypt    False   \n",
       "3080                               Friendly       Cairo   Egypt    False   \n",
       "...                                     ...         ...     ...      ...   \n",
       "42165  African Cup of Nations qualification       Cairo   Egypt    False   \n",
       "42590          FIFA World Cup qualification       Cairo   Egypt    False   \n",
       "42758                              Friendly  Alexandria   Egypt    False   \n",
       "42812          FIFA World Cup qualification  Alexandria   Egypt    False   \n",
       "43040          FIFA World Cup qualification  Alexandria   Egypt    False   \n",
       "\n",
       "      result  \n",
       "1463    draw  \n",
       "1661     win  \n",
       "1895     win  \n",
       "2927    draw  \n",
       "3080     win  \n",
       "...      ...  \n",
       "42165    win  \n",
       "42590    win  \n",
       "42758    win  \n",
       "42812    win  \n",
       "43040    win  \n",
       "\n",
       "[258 rows x 10 columns]"
      ]
     },
     "execution_count": 2328,
     "metadata": {},
     "output_type": "execute_result"
    }
   ],
   "source": [
    "df_Noneutral_Egypt"
   ]
  },
  {
   "cell_type": "markdown",
   "metadata": {},
   "source": [
    "### **Probability of Egypt Winning/Losing/Drawing a match in Neutral Conditions**"
   ]
  },
  {
   "cell_type": "code",
   "execution_count": 2329,
   "metadata": {},
   "outputs": [],
   "source": [
    "df_Neutral_Egypt=df_neutral[df_neutral['country']=='Egypt']"
   ]
  },
  {
   "cell_type": "code",
   "execution_count": 2330,
   "metadata": {},
   "outputs": [
    {
     "data": {
      "text/plain": [
       "win     0.449664\n",
       "lose    0.328859\n",
       "draw    0.221477\n",
       "Name: result, dtype: float64"
      ]
     },
     "execution_count": 2330,
     "metadata": {},
     "output_type": "execute_result"
    }
   ],
   "source": [
    "df_Neutral_Egypt['result'].value_counts(normalize=True)"
   ]
  },
  {
   "cell_type": "code",
   "execution_count": 2331,
   "metadata": {},
   "outputs": [
    {
     "data": {
      "text/plain": [
       "array([67, 49, 33])"
      ]
     },
     "execution_count": 2331,
     "metadata": {},
     "output_type": "execute_result"
    }
   ],
   "source": [
    "x=df_Neutral_Egypt['result'].value_counts()\n",
    "x=np.array(x)\n",
    "x"
   ]
  },
  {
   "cell_type": "code",
   "execution_count": 2332,
   "metadata": {},
   "outputs": [
    {
     "data": {
      "text/plain": [
       "149"
      ]
     },
     "execution_count": 2332,
     "metadata": {},
     "output_type": "execute_result"
    }
   ],
   "source": [
    "N=x.sum()\n",
    "N"
   ]
  },
  {
   "cell_type": "code",
   "execution_count": 2333,
   "metadata": {},
   "outputs": [
    {
     "data": {
      "text/plain": [
       "(0.3697890350639206, 0.5295398239964821)"
      ]
     },
     "execution_count": 2333,
     "metadata": {},
     "output_type": "execute_result"
    }
   ],
   "source": [
    "CI_Egypt_Win_Neutral=proportion_confint(count=x[0],nobs=N,alpha=(1-.95))\n",
    "CI_Egypt_Win_Neutral"
   ]
  },
  {
   "cell_type": "markdown",
   "metadata": {},
   "source": [
    "#### This code means that Egypt has a probability of winning on a neutral venue that lies in the (0.3697890350639206, 0.5295398239964821) interval."
   ]
  },
  {
   "cell_type": "code",
   "execution_count": 2334,
   "metadata": {},
   "outputs": [
    {
     "data": {
      "text/plain": [
       "(0.25342513144684364, 0.40429298935852553)"
      ]
     },
     "execution_count": 2334,
     "metadata": {},
     "output_type": "execute_result"
    }
   ],
   "source": [
    "CI_Egypt_Lose_Neutral=proportion_confint(count=x[1],nobs=N,alpha=(1-.95))\n",
    "CI_Egypt_Lose_Neutral"
   ]
  },
  {
   "cell_type": "markdown",
   "metadata": {},
   "source": [
    "#### This code means that Egypt has a probability of losing on a neutral venue that lies in the (0.25342513144684364, 0.40429298935852553) interval."
   ]
  },
  {
   "cell_type": "code",
   "execution_count": 2335,
   "metadata": {},
   "outputs": [
    {
     "data": {
      "text/plain": [
       "(0.15480279527394458, 0.28815022486028363)"
      ]
     },
     "execution_count": 2335,
     "metadata": {},
     "output_type": "execute_result"
    }
   ],
   "source": [
    "CI_Egypt_Draw_Neutral=proportion_confint(count=x[2],nobs=N,alpha=(1-.95))\n",
    "CI_Egypt_Draw_Neutral"
   ]
  },
  {
   "cell_type": "markdown",
   "metadata": {},
   "source": [
    "#### This code means that Egypt has a probability of drawing on a neutral venue that lies in the (0.15480279527394458, 0.28815022486028363) interval."
   ]
  },
  {
   "cell_type": "markdown",
   "metadata": {},
   "source": [
    "### **Probability of Egypt Winning/Losing/Drawing a match in Non-Neutral Conditions**"
   ]
  },
  {
   "cell_type": "code",
   "execution_count": 2336,
   "metadata": {},
   "outputs": [
    {
     "data": {
      "text/plain": [
       "win     0.662791\n",
       "draw    0.170543\n",
       "lose    0.166667\n",
       "Name: result, dtype: float64"
      ]
     },
     "execution_count": 2336,
     "metadata": {},
     "output_type": "execute_result"
    }
   ],
   "source": [
    "df_Noneutral_Egypt['result'].value_counts(normalize=True)"
   ]
  },
  {
   "cell_type": "code",
   "execution_count": 2337,
   "metadata": {},
   "outputs": [
    {
     "data": {
      "text/plain": [
       "array([171,  44,  43])"
      ]
     },
     "execution_count": 2337,
     "metadata": {},
     "output_type": "execute_result"
    }
   ],
   "source": [
    "x=df_Noneutral_Egypt['result'].value_counts()\n",
    "x=np.array(x)\n",
    "x"
   ]
  },
  {
   "cell_type": "code",
   "execution_count": 2338,
   "metadata": {},
   "outputs": [
    {
     "data": {
      "text/plain": [
       "258"
      ]
     },
     "execution_count": 2338,
     "metadata": {},
     "output_type": "execute_result"
    }
   ],
   "source": [
    "N=x.sum()\n",
    "N"
   ]
  },
  {
   "cell_type": "code",
   "execution_count": 2339,
   "metadata": {},
   "outputs": [
    {
     "data": {
      "text/plain": [
       "(0.6051039288730269, 0.7204774664758102)"
      ]
     },
     "execution_count": 2339,
     "metadata": {},
     "output_type": "execute_result"
    }
   ],
   "source": [
    "CI_Egypt_Win_Noneutral=proportion_confint(count=x[0],nobs=N,alpha=(1-.95))\n",
    "CI_Egypt_Win_Noneutral"
   ]
  },
  {
   "cell_type": "markdown",
   "metadata": {},
   "source": [
    "#### This code means that Egypt has a probability of winning on a non-neutral venue that lies in the (0.6051039288730269, 0.7204774664758102) interval."
   ]
  },
  {
   "cell_type": "code",
   "execution_count": 2340,
   "metadata": {},
   "outputs": [
    {
     "data": {
      "text/plain": [
       "(0.12464907466317304, 0.2164361966546564)"
      ]
     },
     "execution_count": 2340,
     "metadata": {},
     "output_type": "execute_result"
    }
   ],
   "source": [
    "CI_Egypt_Lose_Noneutral=proportion_confint(count=x[1],nobs=N,alpha=(1-.95))\n",
    "CI_Egypt_Lose_Noneutral"
   ]
  },
  {
   "cell_type": "markdown",
   "metadata": {},
   "source": [
    "#### This code means that Egypt has a probability of losing on a non-neutral venue that lies in the (0.12464907466317304, 0.2164361966546564) interval."
   ]
  },
  {
   "cell_type": "code",
   "execution_count": 2341,
   "metadata": {},
   "outputs": [
    {
     "data": {
      "text/plain": [
       "(0.12119174183927744, 0.21214159149405587)"
      ]
     },
     "execution_count": 2341,
     "metadata": {},
     "output_type": "execute_result"
    }
   ],
   "source": [
    "CI_Egypt_Draw_Noneutral=proportion_confint(count=x[2],nobs=N,alpha=(1-.95))\n",
    "CI_Egypt_Draw_Noneutral"
   ]
  },
  {
   "cell_type": "markdown",
   "metadata": {},
   "source": [
    "#### This code means that Egypt has a probability of drawing on a neutral venue that lies in the (0.12119174183927744, 0.21214159149405587) interval."
   ]
  },
  {
   "cell_type": "markdown",
   "metadata": {},
   "source": [
    "### **Probability of Egypt Winning on a Neutral vs. Non-neutral Venue**"
   ]
  },
  {
   "cell_type": "code",
   "execution_count": 2342,
   "metadata": {},
   "outputs": [
    {
     "data": {
      "text/html": [
       "<div>\n",
       "<style scoped>\n",
       "    .dataframe tbody tr th:only-of-type {\n",
       "        vertical-align: middle;\n",
       "    }\n",
       "\n",
       "    .dataframe tbody tr th {\n",
       "        vertical-align: top;\n",
       "    }\n",
       "\n",
       "    .dataframe thead th {\n",
       "        text-align: right;\n",
       "    }\n",
       "</style>\n",
       "<table border=\"1\" class=\"dataframe\">\n",
       "  <thead>\n",
       "    <tr style=\"text-align: right;\">\n",
       "      <th></th>\n",
       "      <th>Venue</th>\n",
       "      <th>lb</th>\n",
       "      <th>ub</th>\n",
       "    </tr>\n",
       "  </thead>\n",
       "  <tbody>\n",
       "    <tr>\n",
       "      <th>0</th>\n",
       "      <td>Neutral</td>\n",
       "      <td>0.369789</td>\n",
       "      <td>0.529540</td>\n",
       "    </tr>\n",
       "    <tr>\n",
       "      <th>1</th>\n",
       "      <td>Noneutral</td>\n",
       "      <td>0.605104</td>\n",
       "      <td>0.720477</td>\n",
       "    </tr>\n",
       "  </tbody>\n",
       "</table>\n",
       "</div>"
      ],
      "text/plain": [
       "       Venue        lb        ub\n",
       "0    Neutral  0.369789  0.529540\n",
       "1  Noneutral  0.605104  0.720477"
      ]
     },
     "execution_count": 2342,
     "metadata": {},
     "output_type": "execute_result"
    }
   ],
   "source": [
    "ci_egy_win_venue = {}\n",
    "ci_egy_win_venue['Venue'] = ['Neutral','Noneutral']\n",
    "ci_egy_win_venue['lb'] = [CI_Egypt_Win_Neutral[0],CI_Egypt_Win_Noneutral[0]]\n",
    "ci_egy_win_venue['ub'] = [CI_Egypt_Win_Neutral[1],CI_Egypt_Win_Noneutral[1]]\n",
    "df_ci_venue= pd.DataFrame(ci_egy_win_venue)\n",
    "df_ci_venue"
   ]
  },
  {
   "cell_type": "code",
   "execution_count": 2343,
   "metadata": {},
   "outputs": [
    {
     "data": {
      "text/plain": [
       "([<matplotlib.axis.YTick at 0x7f7ebc2caa60>,\n",
       "  <matplotlib.axis.YTick at 0x7f7ebbf4a400>],\n",
       " [Text(0, 0, 'Neutral'), Text(0, 1, 'Noneutral')])"
      ]
     },
     "execution_count": 2343,
     "metadata": {},
     "output_type": "execute_result"
    },
    {
     "data": {
      "image/png": "[encoded data removed]",
      "text/plain": [
       "<Figure size 432x288 with 1 Axes>"
      ]
     },
     "metadata": {
      "needs_background": "light"
     },
     "output_type": "display_data"
    }
   ],
   "source": [
    "for lb,ub,y in zip(df_ci_venue['lb'],df_ci_venue['ub'],range(len(df_ci_venue))):\n",
    "    plt.plot((lb,ub),(y,y),'ro-')\n",
    "plt.yticks(range(len(df_ci_venue)),list(df_ci_venue['Venue']))"
   ]
  },
  {
   "cell_type": "code",
   "execution_count": 2344,
   "metadata": {},
   "outputs": [
    {
     "data": {
      "text/plain": [
       "False    258\n",
       "True     149\n",
       "Name: neutral, dtype: int64"
      ]
     },
     "execution_count": 2344,
     "metadata": {},
     "output_type": "execute_result"
    }
   ],
   "source": [
    "Egypt['neutral'].value_counts()"
   ]
  },
  {
   "cell_type": "markdown",
   "metadata": {},
   "source": [
    "#### The graph above shows the confidence intervals of winning in a non-neutral venue vs in a neutral venue. What is logical and expected is the probability of winning in a neutral venue to be higher than that of in a non-neutral venue. However, as shown in the graph, Egypt has a higher probability of winning in a non-neutral venue.This might show that the venue has no significance on the resulting score, since the probability of winning in a non-neutral venue is higher than that of a neutral venue, which is illogical. Or, as shown in the output of the code directly above, the number of matches played in a non-neutral venue is greater than the ones played in a neutral venue and this could explain the higher probability of winning in a non-neutral venue."
   ]
  },
  {
   "cell_type": "markdown",
   "metadata": {},
   "source": [
    "### **Conclusion** "
   ]
  },
  {
   "cell_type": "markdown",
   "metadata": {},
   "source": [
    "#### Egypt participated in the following tournaments: Friendlies, FIFA World Cup qualifications, African Cup of Nations qualifications, African Cup of Nations, Nile Basin Tournament, African Nations Championship, and UEFA Euro qualifications. Egypt had a 0.584767 probability of winning in all matches and all the tournaments it participated in this dataset. Egypt has a probability between (0.7189036274158941, 0.9281551961135176) of winning a match in The world cup qualifications. This might be due to the fact that Egypt is one of the most powerful African nations, therefore when The world cup qualifications are constructed Egypt usually has to face an African team after the drawing of lots, so, it occupies a high probability of winning. Egypt has a greater probability of winning in FIFA World Cup Qualifications than that in all tournaments. The high probability of winning in the world cup qualifications could be explained by the fact that Egypt already occupies a high probability of winning a world cup qualification match; however, the number of world cup qualifications alone is insignificant compared to the number of matches Egypt played in all other tournaments, and, logically, when the number of matches is greater this means that the number of losses increases which impacts the overall probability of winning. Egypt occupies a higher probability of winning an official match than a friendly match. The reason why Egypt might have a higher probability of winning an official match is that official matches most of the time are taken more seriously than friendly matches since the score matters the most in real tournaments. Added to that, the team captain usually experiments with different lineups during friendly matches and that might cause a  decline in performance than the usual performance with the usual lineup. Egypt has a higher probability of winning a match at home than away. This could be explained by the fact that traveling distances to away lands are likely to cause fatigue, a decrease in sleep quality, and hydration. Moreover, Referees have been proven to subconsciously favor the home side. The atmosphere can be hostile when a team is away from its people. Also, the change in weather may be a huge factor, since a player's body is usually accustomed to the weather of his homeland or the place he lives in. Egypt has a higher probability of winning in a non-neutral venue. This might show that the venue has no significance on the resulting score, since the probability of winning in a non-neutral venue is higher than that of a neutral venue, which is illogical. Or, the number of matches played in a non-neutral venue is greater than the ones played in a neutral venue and this could explain the higher probability of winning in a non-neutral venue.\n"
   ]
  },
  {
   "cell_type": "markdown",
   "metadata": {},
   "source": [
    "# **Analysis of Corona Virus and Factors Impacting it** "
   ]
  },
  {
   "cell_type": "markdown",
   "metadata": {},
   "source": [
    "## **Abstract**"
   ]
  },
  {
   "cell_type": "markdown",
   "metadata": {},
   "source": [
    "#### In this part I will compute the Case Fatality Rate for all countries. I will compute the Case Fatality Rate in Egypt and compare between 2020 and 2021. I will form a comparison between countries in different regions and find whether the region impacts the case fatality rate. I will examine whether a country's income level and population number impacts the case fatality rate."
   ]
  },
  {
   "cell_type": "markdown",
   "metadata": {},
   "source": [
    "## **Discussion**"
   ]
  },
  {
   "cell_type": "markdown",
   "id": "45cca9f1",
   "metadata": {},
   "source": [
    "### **Computing Case fatality rate** "
   ]
  },
  {
   "cell_type": "code",
   "execution_count": 2345,
   "id": "921feef8",
   "metadata": {},
   "outputs": [],
   "source": [
    "df=pd.read_csv('covid_data.csv',encoding='latin-1')"
   ]
  },
  {
   "cell_type": "code",
   "execution_count": 2346,
   "id": "3095d6c5",
   "metadata": {},
   "outputs": [
    {
     "data": {
      "text/plain": [
       "Index(['date', 'iso3c', 'country', 'income', 'region', 'continent', 'dcases',\n",
       "       'ddeaths', 'population', 'weekdays', 'month'],\n",
       "      dtype='object')"
      ]
     },
     "execution_count": 2346,
     "metadata": {},
     "output_type": "execute_result"
    }
   ],
   "source": [
    "df.columns"
   ]
  },
  {
   "cell_type": "code",
   "execution_count": 2347,
   "id": "456cc166",
   "metadata": {},
   "outputs": [],
   "source": [
    "df['totcases'] = df.groupby(['iso3c'])['dcases'].cumsum()"
   ]
  },
  {
   "cell_type": "code",
   "execution_count": 2348,
   "id": "b44ae83e",
   "metadata": {},
   "outputs": [],
   "source": [
    "df['totdeaths'] = df.groupby(['iso3c'])['ddeaths'].cumsum()"
   ]
  },
  {
   "cell_type": "code",
   "execution_count": 2349,
   "id": "be5b817c",
   "metadata": {},
   "outputs": [
    {
     "data": {
      "text/plain": [
       "34049        0\n",
       "34050        0\n",
       "34051        0\n",
       "34052        0\n",
       "34053        0\n",
       "         ...  \n",
       "34731    21639\n",
       "34732    21667\n",
       "34733    21695\n",
       "34734    21727\n",
       "34735    21752\n",
       "Name: totdeaths, Length: 687, dtype: int64"
      ]
     },
     "execution_count": 2349,
     "metadata": {},
     "output_type": "execute_result"
    }
   ],
   "source": [
    "df['totdeaths'].loc[df['iso3c']=='EGY']"
   ]
  },
  {
   "cell_type": "code",
   "execution_count": 2350,
   "id": "5c0125bc",
   "metadata": {},
   "outputs": [],
   "source": [
    "df['cfr']=df['totdeaths']/df['totcases']"
   ]
  },
  {
   "cell_type": "code",
   "execution_count": 2351,
   "metadata": {},
   "outputs": [
    {
     "data": {
      "text/html": [
       "<div>\n",
       "<style scoped>\n",
       "    .dataframe tbody tr th:only-of-type {\n",
       "        vertical-align: middle;\n",
       "    }\n",
       "\n",
       "    .dataframe tbody tr th {\n",
       "        vertical-align: top;\n",
       "    }\n",
       "\n",
       "    .dataframe thead th {\n",
       "        text-align: right;\n",
       "    }\n",
       "</style>\n",
       "<table border=\"1\" class=\"dataframe\">\n",
       "  <thead>\n",
       "    <tr style=\"text-align: right;\">\n",
       "      <th></th>\n",
       "      <th>date</th>\n",
       "      <th>iso3c</th>\n",
       "      <th>country</th>\n",
       "      <th>income</th>\n",
       "      <th>region</th>\n",
       "      <th>continent</th>\n",
       "      <th>dcases</th>\n",
       "      <th>ddeaths</th>\n",
       "      <th>population</th>\n",
       "      <th>weekdays</th>\n",
       "      <th>month</th>\n",
       "      <th>totcases</th>\n",
       "      <th>totdeaths</th>\n",
       "      <th>cfr</th>\n",
       "    </tr>\n",
       "  </thead>\n",
       "  <tbody>\n",
       "    <tr>\n",
       "      <th>0</th>\n",
       "      <td>2020-02-24</td>\n",
       "      <td>AFG</td>\n",
       "      <td>Afghanistan</td>\n",
       "      <td>Low income</td>\n",
       "      <td>South Asia</td>\n",
       "      <td>Asia</td>\n",
       "      <td>5</td>\n",
       "      <td>0</td>\n",
       "      <td>38041754</td>\n",
       "      <td>Mon</td>\n",
       "      <td>Feb</td>\n",
       "      <td>5</td>\n",
       "      <td>0</td>\n",
       "      <td>0.000000</td>\n",
       "    </tr>\n",
       "    <tr>\n",
       "      <th>1</th>\n",
       "      <td>2020-02-25</td>\n",
       "      <td>AFG</td>\n",
       "      <td>Afghanistan</td>\n",
       "      <td>Low income</td>\n",
       "      <td>South Asia</td>\n",
       "      <td>Asia</td>\n",
       "      <td>0</td>\n",
       "      <td>0</td>\n",
       "      <td>38041754</td>\n",
       "      <td>Tue</td>\n",
       "      <td>Feb</td>\n",
       "      <td>5</td>\n",
       "      <td>0</td>\n",
       "      <td>0.000000</td>\n",
       "    </tr>\n",
       "    <tr>\n",
       "      <th>2</th>\n",
       "      <td>2020-02-26</td>\n",
       "      <td>AFG</td>\n",
       "      <td>Afghanistan</td>\n",
       "      <td>Low income</td>\n",
       "      <td>South Asia</td>\n",
       "      <td>Asia</td>\n",
       "      <td>0</td>\n",
       "      <td>0</td>\n",
       "      <td>38041754</td>\n",
       "      <td>Wed</td>\n",
       "      <td>Feb</td>\n",
       "      <td>5</td>\n",
       "      <td>0</td>\n",
       "      <td>0.000000</td>\n",
       "    </tr>\n",
       "    <tr>\n",
       "      <th>3</th>\n",
       "      <td>2020-02-27</td>\n",
       "      <td>AFG</td>\n",
       "      <td>Afghanistan</td>\n",
       "      <td>Low income</td>\n",
       "      <td>South Asia</td>\n",
       "      <td>Asia</td>\n",
       "      <td>0</td>\n",
       "      <td>0</td>\n",
       "      <td>38041754</td>\n",
       "      <td>Thu</td>\n",
       "      <td>Feb</td>\n",
       "      <td>5</td>\n",
       "      <td>0</td>\n",
       "      <td>0.000000</td>\n",
       "    </tr>\n",
       "    <tr>\n",
       "      <th>4</th>\n",
       "      <td>2020-02-28</td>\n",
       "      <td>AFG</td>\n",
       "      <td>Afghanistan</td>\n",
       "      <td>Low income</td>\n",
       "      <td>South Asia</td>\n",
       "      <td>Asia</td>\n",
       "      <td>0</td>\n",
       "      <td>0</td>\n",
       "      <td>38041754</td>\n",
       "      <td>Fri</td>\n",
       "      <td>Feb</td>\n",
       "      <td>5</td>\n",
       "      <td>0</td>\n",
       "      <td>0.000000</td>\n",
       "    </tr>\n",
       "    <tr>\n",
       "      <th>...</th>\n",
       "      <td>...</td>\n",
       "      <td>...</td>\n",
       "      <td>...</td>\n",
       "      <td>...</td>\n",
       "      <td>...</td>\n",
       "      <td>...</td>\n",
       "      <td>...</td>\n",
       "      <td>...</td>\n",
       "      <td>...</td>\n",
       "      <td>...</td>\n",
       "      <td>...</td>\n",
       "      <td>...</td>\n",
       "      <td>...</td>\n",
       "      <td>...</td>\n",
       "    </tr>\n",
       "    <tr>\n",
       "      <th>122838</th>\n",
       "      <td>2021-12-27</td>\n",
       "      <td>ZWE</td>\n",
       "      <td>Zimbabwe</td>\n",
       "      <td>Lower middle income</td>\n",
       "      <td>Sub-Saharan Africa</td>\n",
       "      <td>Africa</td>\n",
       "      <td>1098</td>\n",
       "      <td>17</td>\n",
       "      <td>14645468</td>\n",
       "      <td>Mon</td>\n",
       "      <td>Dec</td>\n",
       "      <td>205455</td>\n",
       "      <td>4908</td>\n",
       "      <td>0.023888</td>\n",
       "    </tr>\n",
       "    <tr>\n",
       "      <th>122839</th>\n",
       "      <td>2021-12-28</td>\n",
       "      <td>ZWE</td>\n",
       "      <td>Zimbabwe</td>\n",
       "      <td>Lower middle income</td>\n",
       "      <td>Sub-Saharan Africa</td>\n",
       "      <td>Africa</td>\n",
       "      <td>2099</td>\n",
       "      <td>32</td>\n",
       "      <td>14645468</td>\n",
       "      <td>Tue</td>\n",
       "      <td>Dec</td>\n",
       "      <td>207554</td>\n",
       "      <td>4940</td>\n",
       "      <td>0.023801</td>\n",
       "    </tr>\n",
       "    <tr>\n",
       "      <th>122840</th>\n",
       "      <td>2021-12-29</td>\n",
       "      <td>ZWE</td>\n",
       "      <td>Zimbabwe</td>\n",
       "      <td>Lower middle income</td>\n",
       "      <td>Sub-Saharan Africa</td>\n",
       "      <td>Africa</td>\n",
       "      <td>0</td>\n",
       "      <td>0</td>\n",
       "      <td>14645468</td>\n",
       "      <td>Wed</td>\n",
       "      <td>Dec</td>\n",
       "      <td>207554</td>\n",
       "      <td>4940</td>\n",
       "      <td>0.023801</td>\n",
       "    </tr>\n",
       "    <tr>\n",
       "      <th>122841</th>\n",
       "      <td>2021-12-30</td>\n",
       "      <td>ZWE</td>\n",
       "      <td>Zimbabwe</td>\n",
       "      <td>Lower middle income</td>\n",
       "      <td>Sub-Saharan Africa</td>\n",
       "      <td>Africa</td>\n",
       "      <td>4180</td>\n",
       "      <td>57</td>\n",
       "      <td>14645468</td>\n",
       "      <td>Thu</td>\n",
       "      <td>Dec</td>\n",
       "      <td>211734</td>\n",
       "      <td>4997</td>\n",
       "      <td>0.023600</td>\n",
       "    </tr>\n",
       "    <tr>\n",
       "      <th>122842</th>\n",
       "      <td>2021-12-31</td>\n",
       "      <td>ZWE</td>\n",
       "      <td>Zimbabwe</td>\n",
       "      <td>Lower middle income</td>\n",
       "      <td>Sub-Saharan Africa</td>\n",
       "      <td>Africa</td>\n",
       "      <td>1530</td>\n",
       "      <td>7</td>\n",
       "      <td>14645468</td>\n",
       "      <td>Fri</td>\n",
       "      <td>Dec</td>\n",
       "      <td>213264</td>\n",
       "      <td>5004</td>\n",
       "      <td>0.023464</td>\n",
       "    </tr>\n",
       "  </tbody>\n",
       "</table>\n",
       "<p>122843 rows × 14 columns</p>\n",
       "</div>"
      ],
      "text/plain": [
       "              date iso3c      country               income  \\\n",
       "0       2020-02-24   AFG  Afghanistan           Low income   \n",
       "1       2020-02-25   AFG  Afghanistan           Low income   \n",
       "2       2020-02-26   AFG  Afghanistan           Low income   \n",
       "3       2020-02-27   AFG  Afghanistan           Low income   \n",
       "4       2020-02-28   AFG  Afghanistan           Low income   \n",
       "...            ...   ...          ...                  ...   \n",
       "122838  2021-12-27   ZWE     Zimbabwe  Lower middle income   \n",
       "122839  2021-12-28   ZWE     Zimbabwe  Lower middle income   \n",
       "122840  2021-12-29   ZWE     Zimbabwe  Lower middle income   \n",
       "122841  2021-12-30   ZWE     Zimbabwe  Lower middle income   \n",
       "122842  2021-12-31   ZWE     Zimbabwe  Lower middle income   \n",
       "\n",
       "                    region continent  dcases  ddeaths  population weekdays  \\\n",
       "0               South Asia      Asia       5        0    38041754      Mon   \n",
       "1               South Asia      Asia       0        0    38041754      Tue   \n",
       "2               South Asia      Asia       0        0    38041754      Wed   \n",
       "3               South Asia      Asia       0        0    38041754      Thu   \n",
       "4               South Asia      Asia       0        0    38041754      Fri   \n",
       "...                    ...       ...     ...      ...         ...      ...   \n",
       "122838  Sub-Saharan Africa    Africa    1098       17    14645468      Mon   \n",
       "122839  Sub-Saharan Africa    Africa    2099       32    14645468      Tue   \n",
       "122840  Sub-Saharan Africa    Africa       0        0    14645468      Wed   \n",
       "122841  Sub-Saharan Africa    Africa    4180       57    14645468      Thu   \n",
       "122842  Sub-Saharan Africa    Africa    1530        7    14645468      Fri   \n",
       "\n",
       "       month  totcases  totdeaths       cfr  \n",
       "0        Feb         5          0  0.000000  \n",
       "1        Feb         5          0  0.000000  \n",
       "2        Feb         5          0  0.000000  \n",
       "3        Feb         5          0  0.000000  \n",
       "4        Feb         5          0  0.000000  \n",
       "...      ...       ...        ...       ...  \n",
       "122838   Dec    205455       4908  0.023888  \n",
       "122839   Dec    207554       4940  0.023801  \n",
       "122840   Dec    207554       4940  0.023801  \n",
       "122841   Dec    211734       4997  0.023600  \n",
       "122842   Dec    213264       5004  0.023464  \n",
       "\n",
       "[122843 rows x 14 columns]"
      ]
     },
     "execution_count": 2351,
     "metadata": {},
     "output_type": "execute_result"
    }
   ],
   "source": [
    "df"
   ]
  },
  {
   "cell_type": "markdown",
   "metadata": {},
   "source": [
    "## **Egypt**"
   ]
  },
  {
   "cell_type": "code",
   "execution_count": 2352,
   "id": "cb4f0c84",
   "metadata": {},
   "outputs": [
    {
     "data": {
      "text/html": [
       "<div>\n",
       "<style scoped>\n",
       "    .dataframe tbody tr th:only-of-type {\n",
       "        vertical-align: middle;\n",
       "    }\n",
       "\n",
       "    .dataframe tbody tr th {\n",
       "        vertical-align: top;\n",
       "    }\n",
       "\n",
       "    .dataframe thead th {\n",
       "        text-align: right;\n",
       "    }\n",
       "</style>\n",
       "<table border=\"1\" class=\"dataframe\">\n",
       "  <thead>\n",
       "    <tr style=\"text-align: right;\">\n",
       "      <th></th>\n",
       "      <th>date</th>\n",
       "      <th>iso3c</th>\n",
       "      <th>country</th>\n",
       "      <th>income</th>\n",
       "      <th>region</th>\n",
       "      <th>continent</th>\n",
       "      <th>dcases</th>\n",
       "      <th>ddeaths</th>\n",
       "      <th>population</th>\n",
       "      <th>weekdays</th>\n",
       "      <th>month</th>\n",
       "      <th>totcases</th>\n",
       "      <th>totdeaths</th>\n",
       "      <th>cfr</th>\n",
       "    </tr>\n",
       "  </thead>\n",
       "  <tbody>\n",
       "    <tr>\n",
       "      <th>34049</th>\n",
       "      <td>2020-02-14</td>\n",
       "      <td>EGY</td>\n",
       "      <td>Egypt</td>\n",
       "      <td>Lower middle income</td>\n",
       "      <td>Middle East &amp; North Africa</td>\n",
       "      <td>Africa</td>\n",
       "      <td>1</td>\n",
       "      <td>0</td>\n",
       "      <td>100388073</td>\n",
       "      <td>Fri</td>\n",
       "      <td>Feb</td>\n",
       "      <td>1</td>\n",
       "      <td>0</td>\n",
       "      <td>0.000000</td>\n",
       "    </tr>\n",
       "    <tr>\n",
       "      <th>34050</th>\n",
       "      <td>2020-02-15</td>\n",
       "      <td>EGY</td>\n",
       "      <td>Egypt</td>\n",
       "      <td>Lower middle income</td>\n",
       "      <td>Middle East &amp; North Africa</td>\n",
       "      <td>Africa</td>\n",
       "      <td>0</td>\n",
       "      <td>0</td>\n",
       "      <td>100388073</td>\n",
       "      <td>Sat</td>\n",
       "      <td>Feb</td>\n",
       "      <td>1</td>\n",
       "      <td>0</td>\n",
       "      <td>0.000000</td>\n",
       "    </tr>\n",
       "    <tr>\n",
       "      <th>34051</th>\n",
       "      <td>2020-02-16</td>\n",
       "      <td>EGY</td>\n",
       "      <td>Egypt</td>\n",
       "      <td>Lower middle income</td>\n",
       "      <td>Middle East &amp; North Africa</td>\n",
       "      <td>Africa</td>\n",
       "      <td>0</td>\n",
       "      <td>0</td>\n",
       "      <td>100388073</td>\n",
       "      <td>Sun</td>\n",
       "      <td>Feb</td>\n",
       "      <td>1</td>\n",
       "      <td>0</td>\n",
       "      <td>0.000000</td>\n",
       "    </tr>\n",
       "    <tr>\n",
       "      <th>34052</th>\n",
       "      <td>2020-02-17</td>\n",
       "      <td>EGY</td>\n",
       "      <td>Egypt</td>\n",
       "      <td>Lower middle income</td>\n",
       "      <td>Middle East &amp; North Africa</td>\n",
       "      <td>Africa</td>\n",
       "      <td>0</td>\n",
       "      <td>0</td>\n",
       "      <td>100388073</td>\n",
       "      <td>Mon</td>\n",
       "      <td>Feb</td>\n",
       "      <td>1</td>\n",
       "      <td>0</td>\n",
       "      <td>0.000000</td>\n",
       "    </tr>\n",
       "    <tr>\n",
       "      <th>34053</th>\n",
       "      <td>2020-02-18</td>\n",
       "      <td>EGY</td>\n",
       "      <td>Egypt</td>\n",
       "      <td>Lower middle income</td>\n",
       "      <td>Middle East &amp; North Africa</td>\n",
       "      <td>Africa</td>\n",
       "      <td>0</td>\n",
       "      <td>0</td>\n",
       "      <td>100388073</td>\n",
       "      <td>Tue</td>\n",
       "      <td>Feb</td>\n",
       "      <td>1</td>\n",
       "      <td>0</td>\n",
       "      <td>0.000000</td>\n",
       "    </tr>\n",
       "    <tr>\n",
       "      <th>...</th>\n",
       "      <td>...</td>\n",
       "      <td>...</td>\n",
       "      <td>...</td>\n",
       "      <td>...</td>\n",
       "      <td>...</td>\n",
       "      <td>...</td>\n",
       "      <td>...</td>\n",
       "      <td>...</td>\n",
       "      <td>...</td>\n",
       "      <td>...</td>\n",
       "      <td>...</td>\n",
       "      <td>...</td>\n",
       "      <td>...</td>\n",
       "      <td>...</td>\n",
       "    </tr>\n",
       "    <tr>\n",
       "      <th>34731</th>\n",
       "      <td>2021-12-27</td>\n",
       "      <td>EGY</td>\n",
       "      <td>Egypt</td>\n",
       "      <td>Lower middle income</td>\n",
       "      <td>Middle East &amp; North Africa</td>\n",
       "      <td>Africa</td>\n",
       "      <td>851</td>\n",
       "      <td>31</td>\n",
       "      <td>100388073</td>\n",
       "      <td>Mon</td>\n",
       "      <td>Dec</td>\n",
       "      <td>382194</td>\n",
       "      <td>21639</td>\n",
       "      <td>0.056618</td>\n",
       "    </tr>\n",
       "    <tr>\n",
       "      <th>34732</th>\n",
       "      <td>2021-12-28</td>\n",
       "      <td>EGY</td>\n",
       "      <td>Egypt</td>\n",
       "      <td>Lower middle income</td>\n",
       "      <td>Middle East &amp; North Africa</td>\n",
       "      <td>Africa</td>\n",
       "      <td>809</td>\n",
       "      <td>28</td>\n",
       "      <td>100388073</td>\n",
       "      <td>Tue</td>\n",
       "      <td>Dec</td>\n",
       "      <td>383003</td>\n",
       "      <td>21667</td>\n",
       "      <td>0.056571</td>\n",
       "    </tr>\n",
       "    <tr>\n",
       "      <th>34733</th>\n",
       "      <td>2021-12-29</td>\n",
       "      <td>EGY</td>\n",
       "      <td>Egypt</td>\n",
       "      <td>Lower middle income</td>\n",
       "      <td>Middle East &amp; North Africa</td>\n",
       "      <td>Africa</td>\n",
       "      <td>854</td>\n",
       "      <td>28</td>\n",
       "      <td>100388073</td>\n",
       "      <td>Wed</td>\n",
       "      <td>Dec</td>\n",
       "      <td>383857</td>\n",
       "      <td>21695</td>\n",
       "      <td>0.056518</td>\n",
       "    </tr>\n",
       "    <tr>\n",
       "      <th>34734</th>\n",
       "      <td>2021-12-30</td>\n",
       "      <td>EGY</td>\n",
       "      <td>Egypt</td>\n",
       "      <td>Lower middle income</td>\n",
       "      <td>Middle East &amp; North Africa</td>\n",
       "      <td>Africa</td>\n",
       "      <td>871</td>\n",
       "      <td>32</td>\n",
       "      <td>100388073</td>\n",
       "      <td>Thu</td>\n",
       "      <td>Dec</td>\n",
       "      <td>384728</td>\n",
       "      <td>21727</td>\n",
       "      <td>0.056474</td>\n",
       "    </tr>\n",
       "    <tr>\n",
       "      <th>34735</th>\n",
       "      <td>2021-12-31</td>\n",
       "      <td>EGY</td>\n",
       "      <td>Egypt</td>\n",
       "      <td>Lower middle income</td>\n",
       "      <td>Middle East &amp; North Africa</td>\n",
       "      <td>Africa</td>\n",
       "      <td>847</td>\n",
       "      <td>25</td>\n",
       "      <td>100388073</td>\n",
       "      <td>Fri</td>\n",
       "      <td>Dec</td>\n",
       "      <td>385575</td>\n",
       "      <td>21752</td>\n",
       "      <td>0.056414</td>\n",
       "    </tr>\n",
       "  </tbody>\n",
       "</table>\n",
       "<p>687 rows × 14 columns</p>\n",
       "</div>"
      ],
      "text/plain": [
       "             date iso3c country               income  \\\n",
       "34049  2020-02-14   EGY   Egypt  Lower middle income   \n",
       "34050  2020-02-15   EGY   Egypt  Lower middle income   \n",
       "34051  2020-02-16   EGY   Egypt  Lower middle income   \n",
       "34052  2020-02-17   EGY   Egypt  Lower middle income   \n",
       "34053  2020-02-18   EGY   Egypt  Lower middle income   \n",
       "...           ...   ...     ...                  ...   \n",
       "34731  2021-12-27   EGY   Egypt  Lower middle income   \n",
       "34732  2021-12-28   EGY   Egypt  Lower middle income   \n",
       "34733  2021-12-29   EGY   Egypt  Lower middle income   \n",
       "34734  2021-12-30   EGY   Egypt  Lower middle income   \n",
       "34735  2021-12-31   EGY   Egypt  Lower middle income   \n",
       "\n",
       "                           region continent  dcases  ddeaths  population  \\\n",
       "34049  Middle East & North Africa    Africa       1        0   100388073   \n",
       "34050  Middle East & North Africa    Africa       0        0   100388073   \n",
       "34051  Middle East & North Africa    Africa       0        0   100388073   \n",
       "34052  Middle East & North Africa    Africa       0        0   100388073   \n",
       "34053  Middle East & North Africa    Africa       0        0   100388073   \n",
       "...                           ...       ...     ...      ...         ...   \n",
       "34731  Middle East & North Africa    Africa     851       31   100388073   \n",
       "34732  Middle East & North Africa    Africa     809       28   100388073   \n",
       "34733  Middle East & North Africa    Africa     854       28   100388073   \n",
       "34734  Middle East & North Africa    Africa     871       32   100388073   \n",
       "34735  Middle East & North Africa    Africa     847       25   100388073   \n",
       "\n",
       "      weekdays month  totcases  totdeaths       cfr  \n",
       "34049      Fri   Feb         1          0  0.000000  \n",
       "34050      Sat   Feb         1          0  0.000000  \n",
       "34051      Sun   Feb         1          0  0.000000  \n",
       "34052      Mon   Feb         1          0  0.000000  \n",
       "34053      Tue   Feb         1          0  0.000000  \n",
       "...        ...   ...       ...        ...       ...  \n",
       "34731      Mon   Dec    382194      21639  0.056618  \n",
       "34732      Tue   Dec    383003      21667  0.056571  \n",
       "34733      Wed   Dec    383857      21695  0.056518  \n",
       "34734      Thu   Dec    384728      21727  0.056474  \n",
       "34735      Fri   Dec    385575      21752  0.056414  \n",
       "\n",
       "[687 rows x 14 columns]"
      ]
     },
     "execution_count": 2352,
     "metadata": {},
     "output_type": "execute_result"
    }
   ],
   "source": [
    "df_egy=df.loc[df['iso3c']=='EGY']\n",
    "df_egy"
   ]
  },
  {
   "cell_type": "code",
   "execution_count": 2353,
   "id": "75ade357",
   "metadata": {},
   "outputs": [],
   "source": [
    "import matplotlib.pyplot as plt"
   ]
  },
  {
   "cell_type": "code",
   "execution_count": 2354,
   "id": "00cb5896",
   "metadata": {},
   "outputs": [
    {
     "name": "stderr",
     "output_type": "stream",
     "text": [
      "/var/folders/9q/fl3yp7ld2v509vxm_rdry_8r0000gn/T/ipykernel_1060/3233637083.py:1: SettingWithCopyWarning: \n",
      "A value is trying to be set on a copy of a slice from a DataFrame.\n",
      "Try using .loc[row_indexer,col_indexer] = value instead\n",
      "\n",
      "See the caveats in the documentation: https://pandas.pydata.org/pandas-docs/stable/user_guide/indexing.html#returning-a-view-versus-a-copy\n",
      "  df_egy['date'] = pd.to_datetime(df_egy['date'],format='%Y-%m-%d')\n"
     ]
    }
   ],
   "source": [
    "df_egy['date'] = pd.to_datetime(df_egy['date'],format='%Y-%m-%d')"
   ]
  },
  {
   "cell_type": "code",
   "execution_count": 2355,
   "id": "69fd2a0b",
   "metadata": {},
   "outputs": [
    {
     "data": {
      "image/png": "[encoded data removed]",
      "text/plain": [
       "<Figure size 432x288 with 1 Axes>"
      ]
     },
     "metadata": {
      "needs_background": "light"
     },
     "output_type": "display_data"
    }
   ],
   "source": [
    "plt.plot( 'date', 'cfr', data=df_egy,  color='black', markersize=4,     linewidth=1)\n",
    "plt.xlabel(\"\")\n",
    "plt.ylabel(\"CFR\")\n",
    "plt.show()"
   ]
  },
  {
   "cell_type": "markdown",
   "metadata": {},
   "source": [
    "#### The graph above portrays the case fatality rate in Egypt. Starting at the beginning of year 2020, Egypt had a 0% case fatality rate, meaning that no deaths were reported at that time and no cases as well, since at that time it was still the period before the beginning of covid. Then, starting 03-2020 there was a rise in the case fatality rate and it kept rising until nearly 06-2020. This is in fact true since in Egypt the number of cases at that time was very high and as a result the number of deaths too. At that time, the virus was still new so controlling the numbers was an issue, which explains the deaths. The highest value reached was between 0.07 and 0.08. Then, starting the end of june till July, there was a slight decrease in the rate. This could be explained by the implementation of a proper quarantine at that time, which somewhat controlled the number of cases and the number of deaths as a result. Then, starting the end of the year 2020 towards the beginning of the year 2021, there was a gradual rise in the number of cases and deaths. This could be explained by the emergence of the Omicron Variant and the end of the quarantine period, which cause the rise in cases and deaths.Ever since, there has been a somewhat steady rate of cases and deaths."
   ]
  },
  {
   "cell_type": "code",
   "execution_count": 2356,
   "id": "19fcc713",
   "metadata": {},
   "outputs": [],
   "source": [
    "from pandas.api.types import CategoricalDtype\n",
    "cats=['Jan', 'Feb', 'Mar','Apr','May','Jun','Jul','Aug','Sep','Oct','Nov','Dec']\n",
    "cat_type = CategoricalDtype(categories=cats, ordered=True)\n",
    "df['month'] = df['month'].astype(cat_type)"
   ]
  },
  {
   "cell_type": "code",
   "execution_count": 2357,
   "id": "85de9f41",
   "metadata": {},
   "outputs": [],
   "source": [
    "dfegy=df[df['country']=='Egypt']"
   ]
  },
  {
   "cell_type": "code",
   "execution_count": 2358,
   "id": "42487845",
   "metadata": {},
   "outputs": [],
   "source": [
    "import numpy as np"
   ]
  },
  {
   "cell_type": "code",
   "execution_count": 2359,
   "id": "873e26b9",
   "metadata": {},
   "outputs": [],
   "source": [
    "stats=dfegy.groupby(\"month\").agg({\"dcases\": [np.mean, np.std, np.size]})"
   ]
  },
  {
   "cell_type": "code",
   "execution_count": 2360,
   "id": "df7012dc",
   "metadata": {},
   "outputs": [],
   "source": [
    "stats=pd.DataFrame(stats)"
   ]
  },
  {
   "cell_type": "code",
   "execution_count": 2361,
   "id": "7e854853",
   "metadata": {},
   "outputs": [],
   "source": [
    "stats.columns=['mean','std','size']"
   ]
  },
  {
   "cell_type": "code",
   "execution_count": 2362,
   "id": "d5e24f8a",
   "metadata": {},
   "outputs": [],
   "source": [
    "def get_ci_lb(x, alpha=0.05):\n",
    "    sample_s=np.std(x)\n",
    "    sample_mean=np.mean(x)\n",
    "    sample_size=len(x)\n",
    "    margin_of_error = t.ppf(1 - alpha/2,sample_size-1)*sample_s/np.sqrt(sample_size-1)\n",
    "    return sample_mean - margin_of_error"
   ]
  },
  {
   "cell_type": "code",
   "execution_count": 2363,
   "id": "415c5807",
   "metadata": {},
   "outputs": [],
   "source": [
    "x=dfegy['dcases']"
   ]
  },
  {
   "cell_type": "code",
   "execution_count": 2364,
   "id": "af0e6407",
   "metadata": {},
   "outputs": [],
   "source": [
    "def get_ci_ub(x, alpha=0.05):\n",
    "    sample_s=np.std(x)\n",
    "    sample_mean=np.mean(x)\n",
    "    sample_size=len(x)\n",
    "    margin_of_error = t.ppf(1 - alpha/2,sample_size-1)*sample_s/np.sqrt(sample_size-1)\n",
    "    return sample_mean + margin_of_error"
   ]
  },
  {
   "cell_type": "code",
   "execution_count": 2365,
   "id": "9a3abe1f",
   "metadata": {},
   "outputs": [],
   "source": [
    "ci_dcases=statsm=dfegy.groupby(\"month\").agg({\"dcases\": [np.mean, np.std, np.size,get_ci_lb,get_ci_ub]})"
   ]
  },
  {
   "cell_type": "code",
   "execution_count": 2366,
   "id": "69f72a24",
   "metadata": {},
   "outputs": [],
   "source": [
    "statsm.columns=['mean','std','size','lb','ub']"
   ]
  },
  {
   "cell_type": "code",
   "execution_count": 2367,
   "id": "ce0fc955",
   "metadata": {},
   "outputs": [],
   "source": [
    "statsm['month']=statsm.index"
   ]
  },
  {
   "cell_type": "code",
   "execution_count": 2368,
   "id": "196fef07",
   "metadata": {},
   "outputs": [],
   "source": [
    "import matplotlib.pyplot as plt"
   ]
  },
  {
   "cell_type": "code",
   "execution_count": 2369,
   "id": "38e4d11d",
   "metadata": {},
   "outputs": [],
   "source": [
    "df['date'] = pd. to_datetime(df['date'],format='%Y-%m-%d')"
   ]
  },
  {
   "cell_type": "code",
   "execution_count": 2370,
   "id": "8eea7d01",
   "metadata": {},
   "outputs": [],
   "source": [
    "df['year'] = pd. DatetimeIndex(df['date']). year"
   ]
  },
  {
   "cell_type": "code",
   "execution_count": 2371,
   "id": "eeeccb14",
   "metadata": {},
   "outputs": [],
   "source": [
    "statsdcases=df.groupby(['country','year','month']).agg({\"dcases\": [np.mean, np.std, np.size,get_ci_lb,get_ci_ub]})"
   ]
  },
  {
   "cell_type": "code",
   "execution_count": 2372,
   "id": "29860070",
   "metadata": {},
   "outputs": [],
   "source": [
    "statsdcases=statsdcases.reset_index()"
   ]
  },
  {
   "cell_type": "code",
   "execution_count": 2373,
   "id": "92aa9285",
   "metadata": {},
   "outputs": [],
   "source": [
    "statsEgy=statsdcases[(statsdcases['country']=='Egypt') & (statsdcases['year']==2021)]"
   ]
  },
  {
   "cell_type": "code",
   "execution_count": 2374,
   "id": "4b5887bc",
   "metadata": {},
   "outputs": [],
   "source": [
    "statsEgy.columns=['country','year','month','mean','std','size','lb','ub']"
   ]
  },
  {
   "cell_type": "code",
   "execution_count": 2375,
   "id": "dce5169f",
   "metadata": {},
   "outputs": [],
   "source": [
    "ci_lb_ub=[statsEgy['lb'],statsEgy['ub']]"
   ]
  },
  {
   "cell_type": "code",
   "execution_count": 2376,
   "id": "686a126f",
   "metadata": {},
   "outputs": [],
   "source": [
    "err = np.abs(ci_lb_ub - statsEgy['mean'].to_numpy())"
   ]
  },
  {
   "cell_type": "code",
   "execution_count": 2377,
   "id": "e8d185b0",
   "metadata": {},
   "outputs": [],
   "source": [
    "statsEgy21=statsdcases[(statsdcases['country']=='Egypt')\n",
    "                       & (statsdcases['year']==2021)]"
   ]
  },
  {
   "cell_type": "code",
   "execution_count": 2378,
   "id": "7362da1a",
   "metadata": {},
   "outputs": [],
   "source": [
    "statsEgy20=statsdcases[(statsdcases['country']=='Egypt')\n",
    "                       & (statsdcases['year']==2020)]"
   ]
  },
  {
   "cell_type": "code",
   "execution_count": 2379,
   "id": "c0ab0279",
   "metadata": {},
   "outputs": [],
   "source": [
    "statsEgy20.columns=['country','year','month','mean','std','size','lb','ub']"
   ]
  },
  {
   "cell_type": "code",
   "execution_count": 2380,
   "id": "dc88ed8c",
   "metadata": {},
   "outputs": [],
   "source": [
    "statsEgy21.columns=['country','year','month','mean','std','size','lb','ub']"
   ]
  },
  {
   "cell_type": "code",
   "execution_count": 2381,
   "id": "894b1832",
   "metadata": {},
   "outputs": [],
   "source": [
    "x=statsEgy20['month']"
   ]
  },
  {
   "cell_type": "code",
   "execution_count": 2382,
   "id": "c4c19e95",
   "metadata": {},
   "outputs": [],
   "source": [
    "y1=statsEgy20['mean']"
   ]
  },
  {
   "cell_type": "code",
   "execution_count": 2383,
   "id": "850fb834",
   "metadata": {},
   "outputs": [],
   "source": [
    "y2=statsEgy21['mean']"
   ]
  },
  {
   "cell_type": "code",
   "execution_count": 2384,
   "id": "ba3569ec",
   "metadata": {},
   "outputs": [],
   "source": [
    "ci_lb_ub20=[statsEgy20['lb'],statsEgy20['ub']]\n",
    "err20 = np.abs(ci_lb_ub20 - statsEgy20['mean'].to_numpy())"
   ]
  },
  {
   "cell_type": "code",
   "execution_count": 2385,
   "id": "9035885d",
   "metadata": {},
   "outputs": [],
   "source": [
    "ci_lb_ub21=[statsEgy21['lb'],statsEgy21['ub']]\n",
    "err21 = np.abs(ci_lb_ub21 - statsEgy21['mean'].to_numpy())"
   ]
  },
  {
   "cell_type": "code",
   "execution_count": 2386,
   "id": "b53d992c",
   "metadata": {},
   "outputs": [],
   "source": [
    "from matplotlib.transforms import Affine2D"
   ]
  },
  {
   "cell_type": "code",
   "execution_count": 2387,
   "id": "4b9ff976",
   "metadata": {},
   "outputs": [
    {
     "data": {
      "image/png": "[encoded data removed]",
      "text/plain": [
       "<Figure size 432x288 with 1 Axes>"
      ]
     },
     "metadata": {
      "needs_background": "light"
     },
     "output_type": "display_data"
    }
   ],
   "source": [
    "fig, ax = plt.subplots()\n",
    "\n",
    "trans1 = Affine2D().translate(-0.1, 0.0) + ax.transData\n",
    "trans2 = Affine2D().translate(+0.1, 0.0) + ax.transData\n",
    "plt.errorbar('month', 'mean',  yerr=err20, data=statsEgy20,marker='s', capsize=2,\n",
    "             color='blue', markersize=4, linewidth=1, linestyle='--',transform=trans1)\n",
    "plt.errorbar('month', 'mean',  yerr=err21, data=statsEgy21,marker='s', capsize=2,\n",
    "             color='red', markersize=4, linewidth=1, linestyle='--',transform=trans2)\n",
    "plt.legend(['2020','2021'])\n",
    "plt.xlabel(\"Month\")\n",
    "plt.ylabel(\"Average Daily COVID CASES\")\n",
    "plt.title(\"Egypt\")\n",
    "plt.show()"
   ]
  },
  {
   "cell_type": "markdown",
   "id": "a72a49a2",
   "metadata": {},
   "source": [
    "#### As apparent in the above graph, in 2020, Egypt reached its peak and experiened the highest number of daily covid cases, during the months may until mod july. However, during the other months the cases were low. In 2021, the cases were much higher all year long with a decrease only during june, july, and august, which is ironic since people during summer are usually always in contact with lots of other people. "
   ]
  },
  {
   "cell_type": "markdown",
   "metadata": {},
   "source": [
    "## **Comparison Between Countries in Different Regions**"
   ]
  },
  {
   "cell_type": "code",
   "execution_count": 2388,
   "metadata": {},
   "outputs": [],
   "source": [
    "df_hungary=df.loc[df['country']=='Hungary']"
   ]
  },
  {
   "cell_type": "code",
   "execution_count": 2389,
   "metadata": {},
   "outputs": [
    {
     "data": {
      "text/html": [
       "<div>\n",
       "<style scoped>\n",
       "    .dataframe tbody tr th:only-of-type {\n",
       "        vertical-align: middle;\n",
       "    }\n",
       "\n",
       "    .dataframe tbody tr th {\n",
       "        vertical-align: top;\n",
       "    }\n",
       "\n",
       "    .dataframe thead th {\n",
       "        text-align: right;\n",
       "    }\n",
       "</style>\n",
       "<table border=\"1\" class=\"dataframe\">\n",
       "  <thead>\n",
       "    <tr style=\"text-align: right;\">\n",
       "      <th></th>\n",
       "      <th>date</th>\n",
       "      <th>iso3c</th>\n",
       "      <th>country</th>\n",
       "      <th>income</th>\n",
       "      <th>region</th>\n",
       "      <th>continent</th>\n",
       "      <th>dcases</th>\n",
       "      <th>ddeaths</th>\n",
       "      <th>population</th>\n",
       "      <th>weekdays</th>\n",
       "      <th>month</th>\n",
       "      <th>totcases</th>\n",
       "      <th>totdeaths</th>\n",
       "      <th>cfr</th>\n",
       "      <th>year</th>\n",
       "    </tr>\n",
       "  </thead>\n",
       "  <tbody>\n",
       "    <tr>\n",
       "      <th>48775</th>\n",
       "      <td>2020-03-04</td>\n",
       "      <td>HUN</td>\n",
       "      <td>Hungary</td>\n",
       "      <td>High income</td>\n",
       "      <td>Europe &amp; Central Asia</td>\n",
       "      <td>Europe</td>\n",
       "      <td>2</td>\n",
       "      <td>0</td>\n",
       "      <td>9769949</td>\n",
       "      <td>Wed</td>\n",
       "      <td>Mar</td>\n",
       "      <td>2</td>\n",
       "      <td>0</td>\n",
       "      <td>0.000000</td>\n",
       "      <td>2020</td>\n",
       "    </tr>\n",
       "    <tr>\n",
       "      <th>48776</th>\n",
       "      <td>2020-03-05</td>\n",
       "      <td>HUN</td>\n",
       "      <td>Hungary</td>\n",
       "      <td>High income</td>\n",
       "      <td>Europe &amp; Central Asia</td>\n",
       "      <td>Europe</td>\n",
       "      <td>0</td>\n",
       "      <td>0</td>\n",
       "      <td>9769949</td>\n",
       "      <td>Thu</td>\n",
       "      <td>Mar</td>\n",
       "      <td>2</td>\n",
       "      <td>0</td>\n",
       "      <td>0.000000</td>\n",
       "      <td>2020</td>\n",
       "    </tr>\n",
       "    <tr>\n",
       "      <th>48777</th>\n",
       "      <td>2020-03-06</td>\n",
       "      <td>HUN</td>\n",
       "      <td>Hungary</td>\n",
       "      <td>High income</td>\n",
       "      <td>Europe &amp; Central Asia</td>\n",
       "      <td>Europe</td>\n",
       "      <td>0</td>\n",
       "      <td>0</td>\n",
       "      <td>9769949</td>\n",
       "      <td>Fri</td>\n",
       "      <td>Mar</td>\n",
       "      <td>2</td>\n",
       "      <td>0</td>\n",
       "      <td>0.000000</td>\n",
       "      <td>2020</td>\n",
       "    </tr>\n",
       "    <tr>\n",
       "      <th>48778</th>\n",
       "      <td>2020-03-07</td>\n",
       "      <td>HUN</td>\n",
       "      <td>Hungary</td>\n",
       "      <td>High income</td>\n",
       "      <td>Europe &amp; Central Asia</td>\n",
       "      <td>Europe</td>\n",
       "      <td>2</td>\n",
       "      <td>0</td>\n",
       "      <td>9769949</td>\n",
       "      <td>Sat</td>\n",
       "      <td>Mar</td>\n",
       "      <td>4</td>\n",
       "      <td>0</td>\n",
       "      <td>0.000000</td>\n",
       "      <td>2020</td>\n",
       "    </tr>\n",
       "    <tr>\n",
       "      <th>48779</th>\n",
       "      <td>2020-03-08</td>\n",
       "      <td>HUN</td>\n",
       "      <td>Hungary</td>\n",
       "      <td>High income</td>\n",
       "      <td>Europe &amp; Central Asia</td>\n",
       "      <td>Europe</td>\n",
       "      <td>3</td>\n",
       "      <td>0</td>\n",
       "      <td>9769949</td>\n",
       "      <td>Sun</td>\n",
       "      <td>Mar</td>\n",
       "      <td>7</td>\n",
       "      <td>0</td>\n",
       "      <td>0.000000</td>\n",
       "      <td>2020</td>\n",
       "    </tr>\n",
       "    <tr>\n",
       "      <th>...</th>\n",
       "      <td>...</td>\n",
       "      <td>...</td>\n",
       "      <td>...</td>\n",
       "      <td>...</td>\n",
       "      <td>...</td>\n",
       "      <td>...</td>\n",
       "      <td>...</td>\n",
       "      <td>...</td>\n",
       "      <td>...</td>\n",
       "      <td>...</td>\n",
       "      <td>...</td>\n",
       "      <td>...</td>\n",
       "      <td>...</td>\n",
       "      <td>...</td>\n",
       "      <td>...</td>\n",
       "    </tr>\n",
       "    <tr>\n",
       "      <th>49438</th>\n",
       "      <td>2021-12-27</td>\n",
       "      <td>HUN</td>\n",
       "      <td>Hungary</td>\n",
       "      <td>High income</td>\n",
       "      <td>Europe &amp; Central Asia</td>\n",
       "      <td>Europe</td>\n",
       "      <td>7989</td>\n",
       "      <td>436</td>\n",
       "      <td>9769949</td>\n",
       "      <td>Mon</td>\n",
       "      <td>Dec</td>\n",
       "      <td>1245319</td>\n",
       "      <td>38743</td>\n",
       "      <td>0.031111</td>\n",
       "      <td>2021</td>\n",
       "    </tr>\n",
       "    <tr>\n",
       "      <th>49439</th>\n",
       "      <td>2021-12-28</td>\n",
       "      <td>HUN</td>\n",
       "      <td>Hungary</td>\n",
       "      <td>High income</td>\n",
       "      <td>Europe &amp; Central Asia</td>\n",
       "      <td>Europe</td>\n",
       "      <td>1370</td>\n",
       "      <td>151</td>\n",
       "      <td>9769949</td>\n",
       "      <td>Tue</td>\n",
       "      <td>Dec</td>\n",
       "      <td>1246689</td>\n",
       "      <td>38894</td>\n",
       "      <td>0.031198</td>\n",
       "      <td>2021</td>\n",
       "    </tr>\n",
       "    <tr>\n",
       "      <th>49440</th>\n",
       "      <td>2021-12-29</td>\n",
       "      <td>HUN</td>\n",
       "      <td>Hungary</td>\n",
       "      <td>High income</td>\n",
       "      <td>Europe &amp; Central Asia</td>\n",
       "      <td>Europe</td>\n",
       "      <td>3005</td>\n",
       "      <td>115</td>\n",
       "      <td>9769949</td>\n",
       "      <td>Wed</td>\n",
       "      <td>Dec</td>\n",
       "      <td>1249694</td>\n",
       "      <td>39009</td>\n",
       "      <td>0.031215</td>\n",
       "      <td>2021</td>\n",
       "    </tr>\n",
       "    <tr>\n",
       "      <th>49441</th>\n",
       "      <td>2021-12-30</td>\n",
       "      <td>HUN</td>\n",
       "      <td>Hungary</td>\n",
       "      <td>High income</td>\n",
       "      <td>Europe &amp; Central Asia</td>\n",
       "      <td>Europe</td>\n",
       "      <td>3361</td>\n",
       "      <td>95</td>\n",
       "      <td>9769949</td>\n",
       "      <td>Thu</td>\n",
       "      <td>Dec</td>\n",
       "      <td>1253055</td>\n",
       "      <td>39104</td>\n",
       "      <td>0.031207</td>\n",
       "      <td>2021</td>\n",
       "    </tr>\n",
       "    <tr>\n",
       "      <th>49442</th>\n",
       "      <td>2021-12-31</td>\n",
       "      <td>HUN</td>\n",
       "      <td>Hungary</td>\n",
       "      <td>High income</td>\n",
       "      <td>Europe &amp; Central Asia</td>\n",
       "      <td>Europe</td>\n",
       "      <td>3360</td>\n",
       "      <td>82</td>\n",
       "      <td>9769949</td>\n",
       "      <td>Fri</td>\n",
       "      <td>Dec</td>\n",
       "      <td>1256415</td>\n",
       "      <td>39186</td>\n",
       "      <td>0.031189</td>\n",
       "      <td>2021</td>\n",
       "    </tr>\n",
       "  </tbody>\n",
       "</table>\n",
       "<p>668 rows × 15 columns</p>\n",
       "</div>"
      ],
      "text/plain": [
       "            date iso3c  country       income                 region continent  \\\n",
       "48775 2020-03-04   HUN  Hungary  High income  Europe & Central Asia    Europe   \n",
       "48776 2020-03-05   HUN  Hungary  High income  Europe & Central Asia    Europe   \n",
       "48777 2020-03-06   HUN  Hungary  High income  Europe & Central Asia    Europe   \n",
       "48778 2020-03-07   HUN  Hungary  High income  Europe & Central Asia    Europe   \n",
       "48779 2020-03-08   HUN  Hungary  High income  Europe & Central Asia    Europe   \n",
       "...          ...   ...      ...          ...                    ...       ...   \n",
       "49438 2021-12-27   HUN  Hungary  High income  Europe & Central Asia    Europe   \n",
       "49439 2021-12-28   HUN  Hungary  High income  Europe & Central Asia    Europe   \n",
       "49440 2021-12-29   HUN  Hungary  High income  Europe & Central Asia    Europe   \n",
       "49441 2021-12-30   HUN  Hungary  High income  Europe & Central Asia    Europe   \n",
       "49442 2021-12-31   HUN  Hungary  High income  Europe & Central Asia    Europe   \n",
       "\n",
       "       dcases  ddeaths  population weekdays month  totcases  totdeaths  \\\n",
       "48775       2        0     9769949      Wed   Mar         2          0   \n",
       "48776       0        0     9769949      Thu   Mar         2          0   \n",
       "48777       0        0     9769949      Fri   Mar         2          0   \n",
       "48778       2        0     9769949      Sat   Mar         4          0   \n",
       "48779       3        0     9769949      Sun   Mar         7          0   \n",
       "...       ...      ...         ...      ...   ...       ...        ...   \n",
       "49438    7989      436     9769949      Mon   Dec   1245319      38743   \n",
       "49439    1370      151     9769949      Tue   Dec   1246689      38894   \n",
       "49440    3005      115     9769949      Wed   Dec   1249694      39009   \n",
       "49441    3361       95     9769949      Thu   Dec   1253055      39104   \n",
       "49442    3360       82     9769949      Fri   Dec   1256415      39186   \n",
       "\n",
       "            cfr  year  \n",
       "48775  0.000000  2020  \n",
       "48776  0.000000  2020  \n",
       "48777  0.000000  2020  \n",
       "48778  0.000000  2020  \n",
       "48779  0.000000  2020  \n",
       "...         ...   ...  \n",
       "49438  0.031111  2021  \n",
       "49439  0.031198  2021  \n",
       "49440  0.031215  2021  \n",
       "49441  0.031207  2021  \n",
       "49442  0.031189  2021  \n",
       "\n",
       "[668 rows x 15 columns]"
      ]
     },
     "execution_count": 2389,
     "metadata": {},
     "output_type": "execute_result"
    }
   ],
   "source": [
    "df_hungary"
   ]
  },
  {
   "cell_type": "code",
   "execution_count": 2390,
   "id": "00cb5896",
   "metadata": {},
   "outputs": [
    {
     "name": "stderr",
     "output_type": "stream",
     "text": [
      "/var/folders/9q/fl3yp7ld2v509vxm_rdry_8r0000gn/T/ipykernel_1060/3269099244.py:1: SettingWithCopyWarning: \n",
      "A value is trying to be set on a copy of a slice from a DataFrame.\n",
      "Try using .loc[row_indexer,col_indexer] = value instead\n",
      "\n",
      "See the caveats in the documentation: https://pandas.pydata.org/pandas-docs/stable/user_guide/indexing.html#returning-a-view-versus-a-copy\n",
      "  df_hungary['date'] = pd.to_datetime(df_hungary['date'],format='%Y-%m-%d')\n"
     ]
    }
   ],
   "source": [
    "df_hungary['date'] = pd.to_datetime(df_hungary['date'],format='%Y-%m-%d')"
   ]
  },
  {
   "cell_type": "code",
   "execution_count": 2391,
   "id": "69fd2a0b",
   "metadata": {},
   "outputs": [
    {
     "data": {
      "image/png": "[encoded data removed]",
      "text/plain": [
       "<Figure size 432x288 with 1 Axes>"
      ]
     },
     "metadata": {
      "needs_background": "light"
     },
     "output_type": "display_data"
    }
   ],
   "source": [
    "plt.plot( 'date', 'cfr', data=df_hungary,  color='black', markersize=4,     linewidth=1)\n",
    "plt.xlabel(\"\")\n",
    "plt.ylabel(\"CFR\")\n",
    "plt.show()"
   ]
  },
  {
   "cell_type": "markdown",
   "metadata": {},
   "source": [
    "#### Starting 04-2020, Hungary started expriencing a rise in covid cases until 07-2020. It reached a 0.14 case fatality rate. Starting 07-2020 till 10-2020, there was a significant decrease to a 0.3 case fatality rate. Then, there was a slight rise till 0.4 that is constant until 01-2022. This all could be explained by the fact that starting 03-2020, the hungarian government ordered the gradual easing of lockdown measures. However, a month and a half later,  the government lifted  all coronavirus restrictions and officially ended a state of emergency, which didnt control the cases and tha fatalities. The hungarian government had a dissmissive attitude towards the conflict and when there was a rise in cases the government did not introduce measures to protect people and there there was no mask mandate and no mass testing. "
   ]
  },
  {
   "cell_type": "code",
   "execution_count": 2392,
   "metadata": {},
   "outputs": [
    {
     "data": {
      "text/html": [
       "<div>\n",
       "<style scoped>\n",
       "    .dataframe tbody tr th:only-of-type {\n",
       "        vertical-align: middle;\n",
       "    }\n",
       "\n",
       "    .dataframe tbody tr th {\n",
       "        vertical-align: top;\n",
       "    }\n",
       "\n",
       "    .dataframe thead th {\n",
       "        text-align: right;\n",
       "    }\n",
       "</style>\n",
       "<table border=\"1\" class=\"dataframe\">\n",
       "  <thead>\n",
       "    <tr style=\"text-align: right;\">\n",
       "      <th></th>\n",
       "      <th>date</th>\n",
       "      <th>iso3c</th>\n",
       "      <th>country</th>\n",
       "      <th>income</th>\n",
       "      <th>region</th>\n",
       "      <th>continent</th>\n",
       "      <th>dcases</th>\n",
       "      <th>ddeaths</th>\n",
       "      <th>population</th>\n",
       "      <th>weekdays</th>\n",
       "      <th>month</th>\n",
       "      <th>totcases</th>\n",
       "      <th>totdeaths</th>\n",
       "      <th>cfr</th>\n",
       "      <th>year</th>\n",
       "    </tr>\n",
       "  </thead>\n",
       "  <tbody>\n",
       "    <tr>\n",
       "      <th>21405</th>\n",
       "      <td>2020-01-22</td>\n",
       "      <td>CHN</td>\n",
       "      <td>China</td>\n",
       "      <td>Upper middle income</td>\n",
       "      <td>East Asia &amp; Pacific</td>\n",
       "      <td>Asia</td>\n",
       "      <td>548</td>\n",
       "      <td>17</td>\n",
       "      <td>1397715000</td>\n",
       "      <td>Wed</td>\n",
       "      <td>Jan</td>\n",
       "      <td>548</td>\n",
       "      <td>17</td>\n",
       "      <td>0.031022</td>\n",
       "      <td>2020</td>\n",
       "    </tr>\n",
       "    <tr>\n",
       "      <th>21406</th>\n",
       "      <td>2020-01-23</td>\n",
       "      <td>CHN</td>\n",
       "      <td>China</td>\n",
       "      <td>Upper middle income</td>\n",
       "      <td>East Asia &amp; Pacific</td>\n",
       "      <td>Asia</td>\n",
       "      <td>95</td>\n",
       "      <td>1</td>\n",
       "      <td>1397715000</td>\n",
       "      <td>Thu</td>\n",
       "      <td>Jan</td>\n",
       "      <td>643</td>\n",
       "      <td>18</td>\n",
       "      <td>0.027994</td>\n",
       "      <td>2020</td>\n",
       "    </tr>\n",
       "    <tr>\n",
       "      <th>21407</th>\n",
       "      <td>2020-01-24</td>\n",
       "      <td>CHN</td>\n",
       "      <td>China</td>\n",
       "      <td>Upper middle income</td>\n",
       "      <td>East Asia &amp; Pacific</td>\n",
       "      <td>Asia</td>\n",
       "      <td>277</td>\n",
       "      <td>8</td>\n",
       "      <td>1397715000</td>\n",
       "      <td>Fri</td>\n",
       "      <td>Jan</td>\n",
       "      <td>920</td>\n",
       "      <td>26</td>\n",
       "      <td>0.028261</td>\n",
       "      <td>2020</td>\n",
       "    </tr>\n",
       "    <tr>\n",
       "      <th>21408</th>\n",
       "      <td>2020-01-25</td>\n",
       "      <td>CHN</td>\n",
       "      <td>China</td>\n",
       "      <td>Upper middle income</td>\n",
       "      <td>East Asia &amp; Pacific</td>\n",
       "      <td>Asia</td>\n",
       "      <td>486</td>\n",
       "      <td>16</td>\n",
       "      <td>1397715000</td>\n",
       "      <td>Sat</td>\n",
       "      <td>Jan</td>\n",
       "      <td>1406</td>\n",
       "      <td>42</td>\n",
       "      <td>0.029872</td>\n",
       "      <td>2020</td>\n",
       "    </tr>\n",
       "    <tr>\n",
       "      <th>21409</th>\n",
       "      <td>2020-01-26</td>\n",
       "      <td>CHN</td>\n",
       "      <td>China</td>\n",
       "      <td>Upper middle income</td>\n",
       "      <td>East Asia &amp; Pacific</td>\n",
       "      <td>Asia</td>\n",
       "      <td>669</td>\n",
       "      <td>14</td>\n",
       "      <td>1397715000</td>\n",
       "      <td>Sun</td>\n",
       "      <td>Jan</td>\n",
       "      <td>2075</td>\n",
       "      <td>56</td>\n",
       "      <td>0.026988</td>\n",
       "      <td>2020</td>\n",
       "    </tr>\n",
       "    <tr>\n",
       "      <th>...</th>\n",
       "      <td>...</td>\n",
       "      <td>...</td>\n",
       "      <td>...</td>\n",
       "      <td>...</td>\n",
       "      <td>...</td>\n",
       "      <td>...</td>\n",
       "      <td>...</td>\n",
       "      <td>...</td>\n",
       "      <td>...</td>\n",
       "      <td>...</td>\n",
       "      <td>...</td>\n",
       "      <td>...</td>\n",
       "      <td>...</td>\n",
       "      <td>...</td>\n",
       "      <td>...</td>\n",
       "    </tr>\n",
       "    <tr>\n",
       "      <th>22110</th>\n",
       "      <td>2021-12-27</td>\n",
       "      <td>CHN</td>\n",
       "      <td>China</td>\n",
       "      <td>Upper middle income</td>\n",
       "      <td>East Asia &amp; Pacific</td>\n",
       "      <td>Asia</td>\n",
       "      <td>371</td>\n",
       "      <td>0</td>\n",
       "      <td>1397715000</td>\n",
       "      <td>Mon</td>\n",
       "      <td>Dec</td>\n",
       "      <td>114164</td>\n",
       "      <td>4852</td>\n",
       "      <td>0.042500</td>\n",
       "      <td>2021</td>\n",
       "    </tr>\n",
       "    <tr>\n",
       "      <th>22111</th>\n",
       "      <td>2021-12-28</td>\n",
       "      <td>CHN</td>\n",
       "      <td>China</td>\n",
       "      <td>Upper middle income</td>\n",
       "      <td>East Asia &amp; Pacific</td>\n",
       "      <td>Asia</td>\n",
       "      <td>203</td>\n",
       "      <td>0</td>\n",
       "      <td>1397715000</td>\n",
       "      <td>Tue</td>\n",
       "      <td>Dec</td>\n",
       "      <td>114367</td>\n",
       "      <td>4852</td>\n",
       "      <td>0.042425</td>\n",
       "      <td>2021</td>\n",
       "    </tr>\n",
       "    <tr>\n",
       "      <th>22112</th>\n",
       "      <td>2021-12-29</td>\n",
       "      <td>CHN</td>\n",
       "      <td>China</td>\n",
       "      <td>Upper middle income</td>\n",
       "      <td>East Asia &amp; Pacific</td>\n",
       "      <td>Asia</td>\n",
       "      <td>221</td>\n",
       "      <td>0</td>\n",
       "      <td>1397715000</td>\n",
       "      <td>Wed</td>\n",
       "      <td>Dec</td>\n",
       "      <td>114588</td>\n",
       "      <td>4852</td>\n",
       "      <td>0.042343</td>\n",
       "      <td>2021</td>\n",
       "    </tr>\n",
       "    <tr>\n",
       "      <th>22113</th>\n",
       "      <td>2021-12-30</td>\n",
       "      <td>CHN</td>\n",
       "      <td>China</td>\n",
       "      <td>Upper middle income</td>\n",
       "      <td>East Asia &amp; Pacific</td>\n",
       "      <td>Asia</td>\n",
       "      <td>208</td>\n",
       "      <td>0</td>\n",
       "      <td>1397715000</td>\n",
       "      <td>Thu</td>\n",
       "      <td>Dec</td>\n",
       "      <td>114796</td>\n",
       "      <td>4852</td>\n",
       "      <td>0.042266</td>\n",
       "      <td>2021</td>\n",
       "    </tr>\n",
       "    <tr>\n",
       "      <th>22114</th>\n",
       "      <td>2021-12-31</td>\n",
       "      <td>CHN</td>\n",
       "      <td>China</td>\n",
       "      <td>Upper middle income</td>\n",
       "      <td>East Asia &amp; Pacific</td>\n",
       "      <td>Asia</td>\n",
       "      <td>248</td>\n",
       "      <td>0</td>\n",
       "      <td>1397715000</td>\n",
       "      <td>Fri</td>\n",
       "      <td>Dec</td>\n",
       "      <td>115044</td>\n",
       "      <td>4852</td>\n",
       "      <td>0.042175</td>\n",
       "      <td>2021</td>\n",
       "    </tr>\n",
       "  </tbody>\n",
       "</table>\n",
       "<p>710 rows × 15 columns</p>\n",
       "</div>"
      ],
      "text/plain": [
       "            date iso3c country               income               region  \\\n",
       "21405 2020-01-22   CHN   China  Upper middle income  East Asia & Pacific   \n",
       "21406 2020-01-23   CHN   China  Upper middle income  East Asia & Pacific   \n",
       "21407 2020-01-24   CHN   China  Upper middle income  East Asia & Pacific   \n",
       "21408 2020-01-25   CHN   China  Upper middle income  East Asia & Pacific   \n",
       "21409 2020-01-26   CHN   China  Upper middle income  East Asia & Pacific   \n",
       "...          ...   ...     ...                  ...                  ...   \n",
       "22110 2021-12-27   CHN   China  Upper middle income  East Asia & Pacific   \n",
       "22111 2021-12-28   CHN   China  Upper middle income  East Asia & Pacific   \n",
       "22112 2021-12-29   CHN   China  Upper middle income  East Asia & Pacific   \n",
       "22113 2021-12-30   CHN   China  Upper middle income  East Asia & Pacific   \n",
       "22114 2021-12-31   CHN   China  Upper middle income  East Asia & Pacific   \n",
       "\n",
       "      continent  dcases  ddeaths  population weekdays month  totcases  \\\n",
       "21405      Asia     548       17  1397715000      Wed   Jan       548   \n",
       "21406      Asia      95        1  1397715000      Thu   Jan       643   \n",
       "21407      Asia     277        8  1397715000      Fri   Jan       920   \n",
       "21408      Asia     486       16  1397715000      Sat   Jan      1406   \n",
       "21409      Asia     669       14  1397715000      Sun   Jan      2075   \n",
       "...         ...     ...      ...         ...      ...   ...       ...   \n",
       "22110      Asia     371        0  1397715000      Mon   Dec    114164   \n",
       "22111      Asia     203        0  1397715000      Tue   Dec    114367   \n",
       "22112      Asia     221        0  1397715000      Wed   Dec    114588   \n",
       "22113      Asia     208        0  1397715000      Thu   Dec    114796   \n",
       "22114      Asia     248        0  1397715000      Fri   Dec    115044   \n",
       "\n",
       "       totdeaths       cfr  year  \n",
       "21405         17  0.031022  2020  \n",
       "21406         18  0.027994  2020  \n",
       "21407         26  0.028261  2020  \n",
       "21408         42  0.029872  2020  \n",
       "21409         56  0.026988  2020  \n",
       "...          ...       ...   ...  \n",
       "22110       4852  0.042500  2021  \n",
       "22111       4852  0.042425  2021  \n",
       "22112       4852  0.042343  2021  \n",
       "22113       4852  0.042266  2021  \n",
       "22114       4852  0.042175  2021  \n",
       "\n",
       "[710 rows x 15 columns]"
      ]
     },
     "execution_count": 2392,
     "metadata": {},
     "output_type": "execute_result"
    }
   ],
   "source": [
    "df_china=df.loc[df['country']=='China']\n",
    "df_china"
   ]
  },
  {
   "cell_type": "code",
   "execution_count": 2393,
   "metadata": {},
   "outputs": [
    {
     "name": "stderr",
     "output_type": "stream",
     "text": [
      "/var/folders/9q/fl3yp7ld2v509vxm_rdry_8r0000gn/T/ipykernel_1060/942122686.py:1: SettingWithCopyWarning: \n",
      "A value is trying to be set on a copy of a slice from a DataFrame.\n",
      "Try using .loc[row_indexer,col_indexer] = value instead\n",
      "\n",
      "See the caveats in the documentation: https://pandas.pydata.org/pandas-docs/stable/user_guide/indexing.html#returning-a-view-versus-a-copy\n",
      "  df_china['date'] = pd.to_datetime(df_china['date'],format='%Y-%m-%d')\n"
     ]
    }
   ],
   "source": [
    "df_china['date'] = pd.to_datetime(df_china['date'],format='%Y-%m-%d')"
   ]
  },
  {
   "cell_type": "code",
   "execution_count": 2394,
   "metadata": {},
   "outputs": [
    {
     "data": {
      "image/png": "[encoded data removed]",
      "text/plain": [
       "<Figure size 432x288 with 1 Axes>"
      ]
     },
     "metadata": {
      "needs_background": "light"
     },
     "output_type": "display_data"
    }
   ],
   "source": [
    "plt.plot( 'date', 'cfr', data=df_china,  color='black', markersize=4,     linewidth=1)\n",
    "plt.xlabel(\"\")\n",
    "plt.ylabel(\"CFR\")\n",
    "plt.show()"
   ]
  },
  {
   "cell_type": "markdown",
   "metadata": {},
   "source": [
    "#### Starting 01-2020, China was the only country with a case this early. The case fatality rate started increasing from 02-2020 till 05-2020, to a rate of nearly 0.055 Then starting 05-2020 till 01-2022 there was a contant decrease to a rate of 0.040. This rate is pretty low compared to other countries. Despite it being the origin country for the virus, China has  managed to keep the death rates down. China was placed under a strict lockdown that lasted 76 days and public transport was suspended. Only one member of each household was permitted to leave the home every couple of days to collect necessary supplies. The level of strict measures prevented the virus from spreading so easily. \n",
    "\n"
   ]
  },
  {
   "cell_type": "markdown",
   "metadata": {},
   "source": [
    "#### The conclusion reached is that despite china, a country in Asia, being the primary source of the virus, however, its case fatality rate compared to Hungary, a country in Europe, is significantly lower, implying that the region doesn't hold much significance as much as the implemented measures."
   ]
  },
  {
   "cell_type": "markdown",
   "metadata": {},
   "source": [
    "### **Does a country's income level impact the case fatality rate?**"
   ]
  },
  {
   "cell_type": "code",
   "execution_count": 2395,
   "metadata": {},
   "outputs": [
    {
     "data": {
      "text/plain": [
       "21405    Upper middle income\n",
       "21406    Upper middle income\n",
       "21407    Upper middle income\n",
       "21408    Upper middle income\n",
       "21409    Upper middle income\n",
       "                ...         \n",
       "22110    Upper middle income\n",
       "22111    Upper middle income\n",
       "22112    Upper middle income\n",
       "22113    Upper middle income\n",
       "22114    Upper middle income\n",
       "Name: income, Length: 710, dtype: object"
      ]
     },
     "execution_count": 2395,
     "metadata": {},
     "output_type": "execute_result"
    }
   ],
   "source": [
    "df_china['income']"
   ]
  },
  {
   "cell_type": "code",
   "execution_count": 2396,
   "metadata": {},
   "outputs": [
    {
     "data": {
      "text/plain": [
       "48775    High income\n",
       "48776    High income\n",
       "48777    High income\n",
       "48778    High income\n",
       "48779    High income\n",
       "            ...     \n",
       "49438    High income\n",
       "49439    High income\n",
       "49440    High income\n",
       "49441    High income\n",
       "49442    High income\n",
       "Name: income, Length: 668, dtype: object"
      ]
     },
     "execution_count": 2396,
     "metadata": {},
     "output_type": "execute_result"
    }
   ],
   "source": [
    "df_hungary['income']"
   ]
  },
  {
   "cell_type": "markdown",
   "metadata": {},
   "source": [
    "#### As evident in the outputs above, China has an upper middle income while Hungary has a high income; however, china has managed to better control the virus. Therefore, the income level of a country isn't a primary factor as much as the implemented measures are. Of course, income is important, however, a country can have a very high income level and still fail to control the situation."
   ]
  },
  {
   "cell_type": "markdown",
   "metadata": {},
   "source": [
    "## **Does the population number impact the case fatality rate?**"
   ]
  },
  {
   "cell_type": "code",
   "execution_count": 2397,
   "metadata": {},
   "outputs": [
    {
     "data": {
      "text/plain": [
       "21405    1397715000\n",
       "21406    1397715000\n",
       "21407    1397715000\n",
       "21408    1397715000\n",
       "21409    1397715000\n",
       "            ...    \n",
       "22110    1397715000\n",
       "22111    1397715000\n",
       "22112    1397715000\n",
       "22113    1397715000\n",
       "22114    1397715000\n",
       "Name: population, Length: 710, dtype: int64"
      ]
     },
     "execution_count": 2397,
     "metadata": {},
     "output_type": "execute_result"
    }
   ],
   "source": [
    "df_china['population']\n"
   ]
  },
  {
   "cell_type": "code",
   "execution_count": 2398,
   "metadata": {},
   "outputs": [],
   "source": [
    "df_UK=df.loc[df['country']=='United Kingdom']"
   ]
  },
  {
   "cell_type": "code",
   "execution_count": 2399,
   "metadata": {},
   "outputs": [
    {
     "data": {
      "text/plain": [
       "39491    66834405\n",
       "39492    66834405\n",
       "39493    66834405\n",
       "39494    66834405\n",
       "39495    66834405\n",
       "           ...   \n",
       "40187    66834405\n",
       "40188    66834405\n",
       "40189    66834405\n",
       "40190    66834405\n",
       "40191    66834405\n",
       "Name: population, Length: 701, dtype: int64"
      ]
     },
     "execution_count": 2399,
     "metadata": {},
     "output_type": "execute_result"
    }
   ],
   "source": [
    "df_UK['population']"
   ]
  },
  {
   "cell_type": "code",
   "execution_count": 2400,
   "id": "00cb5896",
   "metadata": {},
   "outputs": [
    {
     "name": "stderr",
     "output_type": "stream",
     "text": [
      "/var/folders/9q/fl3yp7ld2v509vxm_rdry_8r0000gn/T/ipykernel_1060/108896636.py:1: SettingWithCopyWarning: \n",
      "A value is trying to be set on a copy of a slice from a DataFrame.\n",
      "Try using .loc[row_indexer,col_indexer] = value instead\n",
      "\n",
      "See the caveats in the documentation: https://pandas.pydata.org/pandas-docs/stable/user_guide/indexing.html#returning-a-view-versus-a-copy\n",
      "  df_UK['date'] = pd.to_datetime(df_UK['date'],format='%Y-%m-%d')\n"
     ]
    }
   ],
   "source": [
    "df_UK['date'] = pd.to_datetime(df_UK['date'],format='%Y-%m-%d')"
   ]
  },
  {
   "cell_type": "code",
   "execution_count": 2401,
   "id": "69fd2a0b",
   "metadata": {},
   "outputs": [
    {
     "data": {
      "image/png": "[encoded data removed]",
      "text/plain": [
       "<Figure size 432x288 with 1 Axes>"
      ]
     },
     "metadata": {
      "needs_background": "light"
     },
     "output_type": "display_data"
    }
   ],
   "source": [
    "plt.plot( 'date', 'cfr', data=df_UK,  color='black', markersize=4,     linewidth=1)\n",
    "plt.xlabel(\"\")\n",
    "plt.ylabel(\"CFR\")\n",
    "plt.show()"
   ]
  },
  {
   "cell_type": "markdown",
   "metadata": {},
   "source": [
    "#### Despite the population of the UK being 20 times smaller than China, the UK has 30 times as many Covid deaths. The UK reached a 0.16 case fatality rate while the maximum china reached was near 0.055. This shows that population size has no significance and effect on the case fatality rate as much as the effectiveness of the implemented measures and how the country deals with the conflict. "
   ]
  },
  {
   "cell_type": "markdown",
   "metadata": {},
   "source": [
    "## **Conclusion**"
   ]
  },
  {
   "cell_type": "markdown",
   "metadata": {},
   "source": [
    "#### The conclusion reached is that despite china, a country in Asia, being the primary source of the virus, however, its case fatality rate compared to Hungary, a country in Europe, is significantly lower, implying that the region doesn't hold much significance as much as the implemented measures. China has an upper middle income while Hungary has a high income; however, China has managed to better control the virus. Therefore, the income level of a country isn't a primary factor as much as the implemented measures are. Of course, income is important, however, a country can have a very high-income level and still fail to control the situation. Despite the population of the UK being 20 times smaller than China, the UK has 30 times as many Covid deaths. The UK reached a 0.16 case fatality rate while the maximum china reached was near 0.055. This shows that population size has no significance and effect on the case fatality rate as much as the effectiveness of the implemented measures and how the country deals with the conflict. "
   ]
  }
 ],
 "metadata": {
  "interpreter": {
   "hash": "aee8b7b246df8f9039afb4144a1f6fd8d2ca17a180786b69acc140d282b71a49"
  },
  "kernelspec": {
   "display_name": "Python 3 (ipykernel)",
   "language": "python",
   "name": "python3"
  },
  "language_info": {
   "codemirror_mode": {
    "name": "ipython",
    "version": 3
   },
   "file_extension": ".py",
   "mimetype": "text/x-python",
   "name": "python",
   "nbconvert_exporter": "python",
   "pygments_lexer": "ipython3",
   "version": "3.9.7"
  }
 },
 "nbformat": 4,
 "nbformat_minor": 2
}
